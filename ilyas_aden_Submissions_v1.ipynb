{
 "cells": [
  {
   "attachments": {},
   "cell_type": "markdown",
   "metadata": {},
   "source": [
    "# Technical Evaluation Master Notebook (Ilyas ADEN)\n",
    "\n",
    "## 1. Introduction\n",
    "\n",
    "In this notebook, we will describe necessary steps for completing given task. in order to address current use case of comparing **two legal documents** (Apple Music's Terms and Conditions for year 2015 and 2023), we have decided to implement a **retrieval-augmented generation (RAG)** solution. We walk through RAG using the new gpt-index library called now LlamaIndex. This new library will help to mitigate response failure, and provide a comprehensive pipelines for RAG implementation.\n",
    "In this document, we will outline the 5 stages for implementing this RAG pipeline described as below:\n",
    "\n",
    "             Loading--> Indexing --> Storing --> Querying --> Evaluation \n",
    "\n",
    "1. Loading involves fetching data from different sources and integrating it into your pipeline using LlamaHub connectors (ideal for csv, pdf, api,google docs files), however as current version of LLamainex 0.9.4 did not allow us to load .docx, we have transformed current given word documents to pdf extension.\n",
    "2. Indexing creates structured representations, including vector embeddings and metadata, for efficient data retrieval in LLMs.\n",
    "3. Storing the indexed data and metadata prevents the need for re-indexing, Llamaindex have its own vector database but in production we can use Pinecone.\n",
    "4. Querying involves using LLMs and LlamaIndex data structures for various query strategies. we will test a **basic** query engine and a **sub-questions-query** engine.\n",
    "5. Evaluation measures the pipeline's effectiveness, offering objective metrics for response accuracy, faithfulness, and speed. we will compare the two strategies.\n",
    "\n",
    "Sources:\n",
    "- https://docs.llamaindex.ai/en/stable/getting_started/concepts.html\n",
    "- https://docs.llamaindex.ai/en/stable/examples/retrievers/recursive_retriever_nodes.html\n"
   ]
  },
  {
   "cell_type": "markdown",
   "metadata": {},
   "source": [
    "# 2. Importing libraries"
   ]
  },
  {
   "cell_type": "code",
   "execution_count": 1,
   "metadata": {},
   "outputs": [],
   "source": [
    "# importing necessary libraries\n",
    "from llama_index import SimpleDirectoryReader, ServiceContext, VectorStoreIndex\n",
    "from llama_index.llms import OpenAI\n",
    "\n",
    "from llama_index.tools import QueryEngineTool, ToolMetadata\n",
    "from llama_index.query_engine import SubQuestionQueryEngine"
   ]
  },
  {
   "cell_type": "code",
   "execution_count": 2,
   "metadata": {},
   "outputs": [
    {
     "data": {
      "text/plain": [
       "True"
      ]
     },
     "execution_count": 2,
     "metadata": {},
     "output_type": "execute_result"
    }
   ],
   "source": [
    "# Checking the python environment\n",
    "\n",
    "import os\n",
    "from dotenv import load_dotenv\n",
    "load_dotenv()\n"
   ]
  },
  {
   "cell_type": "code",
   "execution_count": 3,
   "metadata": {},
   "outputs": [],
   "source": [
    "# Setting the OpenAI api key for once.\n",
    "import openai\n",
    "import getpass  \n",
    "# we get API key on OpenAI website for our current test, please use \"sk----\"\n",
    "openai.api_key = os.getenv(\"OPENAI_API_KEY\") or getpass.getpass(\"Enter your OpenAI API key: \")\n"
   ]
  },
  {
   "attachments": {},
   "cell_type": "markdown",
   "metadata": {},
   "source": [
    "# 3. RAG Implementation \n",
    "## 3.1 Loading stage"
   ]
  },
  {
   "attachments": {},
   "cell_type": "markdown",
   "metadata": {},
   "source": [
    "**Parsing the documents into text Chunks (Nodes) in Llamaindex, we use a single line of code**"
   ]
  },
  {
   "cell_type": "code",
   "execution_count": 4,
   "metadata": {},
   "outputs": [],
   "source": [
    "\n",
    "documents=SimpleDirectoryReader(\"/Users/ilyasaden/myrepo/Simmons_Tech_Challenge/data/\").load_data()"
   ]
  },
  {
   "cell_type": "code",
   "execution_count": 5,
   "metadata": {},
   "outputs": [
    {
     "data": {
      "text/plain": [
       "[Document(id_='53690a00-d68f-4b5a-b51f-7c1931fe0575', embedding=None, metadata={'page_label': '1', 'file_name': 'JAN2015.pdf', 'file_path': '/Users/ilyasaden/myrepo/Simmons_Tech_Challenge/data/JAN2015.pdf', 'file_type': 'application/pdf', 'file_size': 229026, 'creation_date': '2024-02-04', 'last_modified_date': '2024-02-04', 'last_accessed_date': '2024-02-04'}, excluded_embed_metadata_keys=['file_name', 'file_type', 'file_size', 'creation_date', 'last_modified_date', 'last_accessed_date'], excluded_llm_metadata_keys=['file_name', 'file_type', 'file_size', 'creation_date', 'last_modified_date', 'last_accessed_date'], relationships={}, text='TERMS AND CONDITIONS A. ITUNES STORE, MAC APP STORE, APP STORE, AND IBOOKS STORE TERMS OF SALE B. ITUNES STORE TERMS AND CONDITIONS C. MAC APP STORE, APP STORE AND IBOOKS STORE TERMS AND CONDITIONS  THE LEGAL AGREEMENTS SET OUT BELOW ARE BETWEEN YOU AND ITUNES SARL (“ITUNES\") AND GOVERN YOUR USE OF THE ITUNES STORE, MAC APP STORE, APP STORE AND IBOOKS STORE (THE “STORES”). TO AGREE TO THESE TERMS, CLICK \"AGREE.\" IF YOU DO NOT AGREE TO THESE TERMS, DO NOT CLICK \"AGREE,\" AND DO NOT USE THE ITUNES STORE, MAC APP STORE, APP STORE OR IBOOKS STORE. THIS AGREEMENT APPLIES WITHOUT PREJUDICE TO SOFTWARE LICENCES THAT YOU MAY HAVE ENTERED INTO, SUCH AS FOR THE USE OF THE ITUNES APPLICATION. FOR MORE INFORMATION ABOUT OUR PRODUCTS AND SERVICES, PLEASE VISIT http://www.apple.com/support/. A. ITUNES STORE, MAC APP STORE, APP STORE AND IBOOKS STORE TERMS OF SALE PAYMENTS, TAXES, AND REFUND POLICY You agree that you will pay for all products you purchase through the Stores, and that iTunes may charge your payment method for any products purchased and for any additional amounts (including any taxes and late fees, as applicable) that may be accrued by or in connection with your Account. You are responsible for the timely payment of all fees and for providing iTunes with a valid payment method for payment of all fees. For details of how purchases are billed please visit http://support.apple.com/kb/HT5582. You agree to receipt of all invoices in an electronic format, which may include email. Your total price will include the price of the product plus any applicable VAT (in effect on the day of download). By using the United Kingdom store you are specifying that as your country of residence for tax purposes. Right of cancellation: If you choose to cancel your order, you may do so within 14 days from when you received your receipt without giving any reason, except iTunes Gifts which cannot be refunded once you have redeemed the code. To cancel your order, you must inform us of your decision. To ensure immediate processing we recommend you use Report a Problem to cancel all items with the exception of iTunes Match, Season Pass, Multi-Pass and, unless purchased from a third party or redeemed, iTunes Gifts and Allowances, which can be cancelled by contacting iTunes Support. You also have the right to inform us using the model cancellation form below or by making any other clear statement. If you use Report a Problem we will communicate acknowledgement of receipt of your cancellation to you without delay. To meet the cancellation deadline, you must send your communication of cancellation before the 14-day period has expired. Effects of cancellation: We will reimburse you no later than 14 days from the day on which we receive your cancellation notice. We will use the same means of payment as you used for the transaction, and you will not incur any fees for such reimbursement. Exception to the right of cancellation: You cannot cancel your order for the supply of digital content if the delivery has started upon your request and acknowledgement that you thereby lose your cancellation right. ', start_char_idx=None, end_char_idx=None, text_template='{metadata_str}\\n\\n{content}', metadata_template='{key}: {value}', metadata_seperator='\\n'),\n",
       " Document(id_='6295383e-f4a3-4608-b4b5-28c8edde1fc0', embedding=None, metadata={'page_label': '2', 'file_name': 'JAN2015.pdf', 'file_path': '/Users/ilyasaden/myrepo/Simmons_Tech_Challenge/data/JAN2015.pdf', 'file_type': 'application/pdf', 'file_size': 229026, 'creation_date': '2024-02-04', 'last_modified_date': '2024-02-04', 'last_accessed_date': '2024-02-04'}, excluded_embed_metadata_keys=['file_name', 'file_type', 'file_size', 'creation_date', 'last_modified_date', 'last_accessed_date'], excluded_llm_metadata_keys=['file_name', 'file_type', 'file_size', 'creation_date', 'last_modified_date', 'last_accessed_date'], relationships={}, text='Model cancellation form: - To iTunes S.à r.l., 31-33, rue Sainte Zithe, L-2763 Luxembourg: - I hereby give notice that I withdraw from my contract for the following: [INSERT ORDER ID, ITEM, ARTIST AND TYPE] - Ordered on [INSERT DATE] / received on [INSERT DATE] - Name of consumer - Address of consumer - Date Until a purchase is made, iTunes reserves the right to change prices for products offered via the Stores at any time, and the Stores do not provide price protection or refunds in the event of a price reduction or promotional offering subsequent to purchase. If a product becomes unavailable following a transaction but prior to download, your sole remedy is likely to be limited to a refund of the price paid for the unavailable product. If technical problems prevent or unreasonably delay delivery of your product, your exclusive and sole remedy is either replacement or refund of the price paid, as determined by iTunes. 1-Click® 1-Click is a registered service mark of Amazon.com, Inc., used under license. 1-Click is a convenient feature that allows you to make a purchase from the Stores with a single click of your mouse or other input device. When accessing the Stores on your computer, 1-Click purchasing may be activated via the dialog that appears when you click a Buy button. (You may reset this selection at any time by clicking Reset Warnings in your Account information). When accessing the Stores on your Apple-branded products running iOS such as an iPad, iPod touch, or iPhone (“iOS Device”), 1-Click is activated for each transaction by tapping the button showing the price of the product, which reveals the Buy button. When 1-Click is activated, clicking or tapping the Buy button starts the download immediately and completes your transaction without any further steps. GIFT CERTIFICATES, ITUNES CARDS AND CODES, ALLOWANCES, AND CONTENT CODES Gift Certificates, iTunes Cards and Codes, Content Codes, and Allowances, in addition to unused balances, are not redeemable for cash and, cannot be returned for a cash refund (except as set out in our refund policy above that is applicable in the event the item has been purchased from the iTunes Store; or except if the retailer from which the item has been purchased applies a different refund policy), without prejudice to any applicable statutory right to a refund in case of faulty or misdescribed gifts; exchanged; resold; used to purchase Gifts, Gift Certificates, or iTunes Cards or Codes; used to provide Allowances; used for purchases on the Apple Online Store; or used in Apple Retail Stores. Unused balances are not transferable. Gift Certificates, iTunes Cards and Codes, Content Codes, and Allowances purchased in the United Kingdom may be redeemed through the Stores only in the United Kingdom. iTunes is not responsible for lost or stolen Gift Certificates, iTunes Cards and Codes, Content Codes, or Allowances. Risk of loss and title for Gift Certificates, iTunes Cards and Codes, and Allowances that are transmitted electronically pass to the purchaser in the United Kingdom upon electronic transmission. Risk of loss and title for Content Codes that are transmitted electronically pass from iTunes in Luxembourg upon electronic transmission. ', start_char_idx=None, end_char_idx=None, text_template='{metadata_str}\\n\\n{content}', metadata_template='{key}: {value}', metadata_seperator='\\n'),\n",
       " Document(id_='be453534-1851-4ee6-8abd-15a2681cea2c', embedding=None, metadata={'page_label': '3', 'file_name': 'JAN2015.pdf', 'file_path': '/Users/ilyasaden/myrepo/Simmons_Tech_Challenge/data/JAN2015.pdf', 'file_type': 'application/pdf', 'file_size': 229026, 'creation_date': '2024-02-04', 'last_modified_date': '2024-02-04', 'last_accessed_date': '2024-02-04'}, excluded_embed_metadata_keys=['file_name', 'file_type', 'file_size', 'creation_date', 'last_modified_date', 'last_accessed_date'], excluded_llm_metadata_keys=['file_name', 'file_type', 'file_size', 'creation_date', 'last_modified_date', 'last_accessed_date'], relationships={}, text=\"iTunes reserves the right to close accounts and request alternative forms of payment if a Gift Certificate, iTunes Card and Codes, Content Code, or Allowance is fraudulently obtained or used on the Stores. GIFTS Gifts purchased from the Stores may be purchased only for, and redeemed only by, persons in the United Kingdom. Gift recipients must have compatible hardware and parental control settings to utilize some gifts. IMPORTANT SAFETY INFORMATION To avoid muscle, joint, or eye strain during your use of the products offered through the Stores, you should always take frequent breaks, and take a longer rest if you experience any soreness, fatigue, or discomfort. A very small percentage of people may experience seizures or blackouts when exposed to flashing lights or patterns, including but not limited to while playing video games or watching videos. Symptoms may include dizziness, nausea, involuntary movements, loss of awareness, altered vision, tingling, numbness, or other discomforts. Consult a doctor before using the products offered through the Stores if you have ever suffered these or similar symptoms, and stop using such products immediately and see a doctor if they occur during your use of such products. Parents should monitor their children’s use of the products offered through the Stores for signs of symptoms. PRE-ORDERS By pre-ordering products, you are authorizing the Stores to automatically charge your account and, if you have enabled automatic downloads, download the product when it becomes available. You may cancel your pre-order anytime prior to the time the item becomes available and as set out in our refund policy above. FAMILY SHARING Family Sharing allows you to share eligible iTunes, App Store, Mac App Store, and iBooks Store products with up to six members (including yourself) of a “Family.” If you set up or join a Family, you may view the eligible products of other Family members and download such products to your compatible device or computer. You can also choose to hide purchases so that other Family members will not be able to view or download them from you. You can share information such as photos and videos via the Photo app, events via your Family Calendar, reminders via the Reminders app, location information via Find My Friends, and device location via Find My iPhone. Family Sharing is for personal, non-commercial use only. iTunes and iCloud accounts are required; iOS 8 and/or OS X Yosemite are required to start and join a Family. Certain transactions and features may not be compatible with earlier software and may require a software upgrade. If you join a Family, the features of Family Sharing are enabled on your compatible devices and computers automatically. The “Organiser” of a Family can invite other members to participate in the Family. The Organiser must be 18 years or older and must have an eligible payment method registered with iTunes. If you are an Organiser, you represent that you are the parent or legal guardian of any Family member under age 13. The Organiser's payment method is used to pay for any purchase initiated by a Family member in excess of any store credit in such initiating Family member’s account. Family members are acting as agents for the Organiser when the Organiser's payment method is used. Products are associated with the account of the Family member who initiated the transaction. BY INVITING FAMILY MEMBERS TO JOIN A FAMILY, THE ORGANISER AGREES THAT ALL CHARGES FOR PURCHASES INITIATED BY FAMILY MEMBERS ARE AUTHORISED BY AND ARE THE RESPONSIBILITY OF THE ORGANISER, EVEN IF THE ORGANISER WAS UNAWARE OF ANY PARTICULAR TRANSACTION, IF A FAMILY MEMBER EXCEEDED HIS OR HER AUTHORITY AS GRANTED BY THE ORGANISER, OR IF MULTIPLE FAMILY MEMBERS INITIATE PURCHASES FOR THE SAME PRODUCT. THE ORGANISER IS RESPONSIBLE FOR COMPLIANCE WITH ANY AGREEMENT WITH ITS \", start_char_idx=None, end_char_idx=None, text_template='{metadata_str}\\n\\n{content}', metadata_template='{key}: {value}', metadata_seperator='\\n'),\n",
       " Document(id_='eb776b14-75d2-4c03-9264-bced40d8269f', embedding=None, metadata={'page_label': '4', 'file_name': 'JAN2015.pdf', 'file_path': '/Users/ilyasaden/myrepo/Simmons_Tech_Challenge/data/JAN2015.pdf', 'file_type': 'application/pdf', 'file_size': 229026, 'creation_date': '2024-02-04', 'last_modified_date': '2024-02-04', 'last_accessed_date': '2024-02-04'}, excluded_embed_metadata_keys=['file_name', 'file_type', 'file_size', 'creation_date', 'last_modified_date', 'last_accessed_date'], excluded_llm_metadata_keys=['file_name', 'file_type', 'file_size', 'creation_date', 'last_modified_date', 'last_accessed_date'], relationships={}, text=\"PAYMENT METHOD PROVIDER, AND ASSUMES ALL RISK IN THE EVENT THAT SHARING ACCESS TO SUCH PAYMENT METHOD LIMITS ANY PROTECTION OFFERED BY THE PAYMENT METHOD PROVIDER. The Organiser can change the payment method on file at any time. A record of the purchase will be sent to the initiating Family member and the Organiser, even if the purchase is hidden by the Family member; please use Report a Problem on your receipt if you or your Family members do not recognise charges on your receipt or payment method statement. The Organiser can use the Ask to Buy function to require children under the age of 18 to obtain permission from the Organiser, and/or other adults designated by the Organiser, to download free or paid products before a purchase or download commences. Products downloaded from Family members and products acquired via redemption codes are not subject to Ask to Buy. If you are an Organiser, you represent that you and/or any adult designee is the parent or legal guardian of any Family member for whom Ask to Buy is activated. Ask to Buy is optimized for iOS 8 and OS X Yosemite; product purchase or download requests from earlier software may present users with an alternative permission process or prevent purchases altogether, and may require a software upgrade. iTunes is not responsible for any harm resulting from a delay in Ask to Buy approvals or denials. The Organiser may remove any Family member from the Family, which will terminate that Family member's ability to initiate authorised purchases on the Organiser's payment method, and that Family Member’s ability to view and share other Family members' products and information. When a Family member leaves or is removed from a Family, or the Organiser's Apple ID is terminated for any reason, the remaining Family members may no longer be able to view or download the departing member’s products or information, or access products previously downloaded from the departing Family member, including purchases made on the Organiser's payment method while the departing member was part of the Family. Similarly, if you leave a Family, you may no longer be able to view or download the products or information of the other Family members, and products that you downloaded from other Family members while a member of the Family may no longer be accessible. If you have made In-App Purchases from an app originally purchased by a departed Family member or downloaded from a Family member and you no longer belong to the Family, you need to purchase the app yourself and restore the In-App Purchases to regain access to them; please review the developer’s policies and the section of this Agreement entitled “In-App Purchases” before buying In-App Purchases. Because personal accounts for users under age 13 can only be created as part of Family Sharing, deleting such an account in order to remove it from the Family will terminate that Family member’s Apple ID and his or her ability to access any Apple services that require an Apple ID or any content associated with that Apple ID. You can only belong to one Family at a time, and may join any Family no more than twice per year. You can change the store account you associate with a Family no more than once every 90 days. All Family members must use the same iTunes Store country or region. Music, movies, TV shows and books can be downloaded from the iTunes Store on up to 10 devices per account, only five of which can be computers; eligible apps can be downloaded to any devices the Family member owns or controls. Not all products, including In-App Purchases, content that is not available for re-download, subscriptions, and some previously purchased apps, are eligible for Family Sharing. Apple reserves the right to disband a Family in accordance with the “Termination” section of this Agreement. ELECTRONIC CONTRACTING Your use of the Stores includes the ability to enter into agreements and/or to make transactions electronically. You acknowledge that your electronic submissions constitute your agreement and intent to be bound by and to pay for such agreements and transactions. Your agreement and intent to be bound by electronic submissions applies to all records relating to all transactions you enter into on this site, including notices of cancellation, policies, contracts and applications. In order to access and retain your \", start_char_idx=None, end_char_idx=None, text_template='{metadata_str}\\n\\n{content}', metadata_template='{key}: {value}', metadata_seperator='\\n'),\n",
       " Document(id_='b6628ac5-df75-4eb3-aa05-3b98d04bd801', embedding=None, metadata={'page_label': '5', 'file_name': 'JAN2015.pdf', 'file_path': '/Users/ilyasaden/myrepo/Simmons_Tech_Challenge/data/JAN2015.pdf', 'file_type': 'application/pdf', 'file_size': 229026, 'creation_date': '2024-02-04', 'last_modified_date': '2024-02-04', 'last_accessed_date': '2024-02-04'}, excluded_embed_metadata_keys=['file_name', 'file_type', 'file_size', 'creation_date', 'last_modified_date', 'last_accessed_date'], excluded_llm_metadata_keys=['file_name', 'file_type', 'file_size', 'creation_date', 'last_modified_date', 'last_accessed_date'], relationships={}, text='electronic records, you may be required to have certain hardware and software, which are your sole responsibility. iTunes is not responsible for typographic errors. B. ITUNES STORE TERMS AND CONDITIONS THIS LEGAL AGREEMENT BETWEEN YOU AND ITUNES SARL. (\"ITUNES\") GOVERNS YOUR USE OF THE ITUNES STORE SERVICE (THE “SERVICE”). THE ITUNES STORE SERVICE iTunes is the provider of the Service, which permits you to access, purchase or rent a licence for digital content (\"iTunes Products\") for end user use only under the terms and conditions set forth in this Agreement. iTunes is not the provider of the iTunes application or of the iPad, iPod or iPhone. REQUIREMENTS FOR USE OF THE SERVICE Only persons aged 13 years or older can create accounts. Accounts for persons under 13 years old can be created by a parent or legal guardian using Family Sharing. Children under the age of 18 should review this Agreement with their parent or legal guardian to ensure that the child and parent or legal guardian understand it. The Service is available to you only in the United Kingdom. You agree not to use or attempt to use the Service from outside this location. iTunes may use technologies to verify your compliance. Use of the Service requires compatible devices, Internet access, and certain software (fees may apply); may require periodic updates; and may be affected by the performance of these factors. High-speed Internet access is strongly recommended for regular use and is required for Film Rentals. The latest version of the iTunes software is recommended to access the Service and may be required for certain transactions or features and to download iTunes Products previously purchased or acquired from the Service. You agree that meeting these requirements, which may change from time to time, is your responsibility. The Service is not part of any other product or offering, and no purchase or obtaining of any other product shall be construed to represent or guarantee you access to the Service. YOUR ACCOUNT As a registered user of the Service, you may establish an account (\"Account\"). Don’t reveal your Account information to anyone else. You are solely responsible for maintaining the confidentiality and security of your Account and for all activities that occur on or through your Account, and you agree to immediately notify iTunes of any security breach of your Account. iTunes shall not be responsible for any losses arising out of the unauthorised use of your Account. In order to purchase and download iTunes Products from the Service, you must enter your Apple ID and password or use Touch ID to authenticate your Account for transactions. Once you have authenticated your Account using your Apple ID and password, you will not need to authenticate again for fifteen minutes on your computer or iOS Device; you can choose to allow your computer or Apple TV to remember your password to remain authenticated. During this time, you will be able to purchase and download iTunes Products without re-entering your password. You can turn off the ability to make iTunes Product transactions or change settings to require a password for every transaction by adjusting the settings on your computer, iOS Device, or Apple TV. For more information, please see http://support.apple.com/kb/HT1904 and http://support.apple.com/kb/HT4213. You agree to provide accurate and complete information when you register with, and as you use, the Service (\"Registration Data\"), and you agree to update your Registration Data to keep it accurate and ', start_char_idx=None, end_char_idx=None, text_template='{metadata_str}\\n\\n{content}', metadata_template='{key}: {value}', metadata_seperator='\\n'),\n",
       " Document(id_='87b9a555-6255-46ac-b057-9cb047cc3c47', embedding=None, metadata={'page_label': '6', 'file_name': 'JAN2015.pdf', 'file_path': '/Users/ilyasaden/myrepo/Simmons_Tech_Challenge/data/JAN2015.pdf', 'file_type': 'application/pdf', 'file_size': 229026, 'creation_date': '2024-02-04', 'last_modified_date': '2024-02-04', 'last_accessed_date': '2024-02-04'}, excluded_embed_metadata_keys=['file_name', 'file_type', 'file_size', 'creation_date', 'last_modified_date', 'last_accessed_date'], excluded_llm_metadata_keys=['file_name', 'file_type', 'file_size', 'creation_date', 'last_modified_date', 'last_accessed_date'], relationships={}, text='complete. You agree that iTunes may store and use the Registration Data you provide for use in maintaining and billing fees to your Account. AUTOMATIC DELIVERY AND DOWNLOADING PREVIOUS PURCHASES When you first acquire music, purchased (i.e. not rented) movie, TV show and music video iTunes Products (collectively, “iTunes Eligible Content”), you may elect to automatically receive (“auto-download”) copies of such iTunes Eligible Content on additional compatible iOS Devices (except for purchased movies and TV show iTunes Products) and iTunes-authorized computers with compatible software by associating such iOS Devices and computers subject to the association rules below (each, an “Associated Device”). For each Associated Device, you may specify which type of iTunes Eligible Content, if any, may be auto-downloaded to it. On an Associated Device that is capable of receiving push notifications (“Push-Enabled”), including iOS Devices, the iTunes Eligible Content will auto-download to that Associated Device when it has an Internet connection; on an Associated Device that is not Push-Enabled, iTunes Eligible Content will automatically appear in the download queue and you may manually initiate the download within iTunes. As an accommodation to you, subsequent to acquiring iTunes Eligible Content, you may download certain of such previously-acquired iTunes Eligible Content onto any Associated Device. Some iTunes Eligible Content that you previously acquired may not be available for subsequent download at any given time, and iTunes shall have no liability to you in such event. As you may not be able to subsequently download certain previously-acquired iTunes Eligible Content, once you download an item of iTunes Eligible Content, it is your responsibility not to lose, destroy, or damage it, and you may want to back it up. Association of Associated Devices is subject to the following terms: (i) You may auto-download iTunes Eligible Content or download previously-acquired iTunes Eligible Content from an Account on up to 10 Associated Devices, provided no more than 5 are iTunes-authorized computers. (ii) An Associated Device can be associated with only one Account at any given time. (iii) You may switch an Associated Device to a different Account only once every 90 days. (iv) You may download previously-acquired free content onto an unlimited number of devices while it is free on the iTunes Service, but on no more than 5 iTunes-authorized computers. An Apple TV is not an “Associated Device.” However, TV show iTunes Products and purchased (i.e. not rented) movies iTunes Products may be played back on compatible Apple TVs, provided that you may only play back any such TV show or movie on a limited number of Apple TVs at the same time. Some pieces of iTunes Eligible Content may be large, and significant data charges may result from delivery of such iTunes Eligible Content over a data connection. ITUNES MATCH iTunes Match permits you to remotely access your matched or uploaded songs, and music videos you have purchased with your Account, along with related metadata, playlists, and other information about your iTunes Library (“iTunes Match Content”). You may subscribe to iTunes Match for an annual fee. You must have a valid credit card on file with iTunes to subscribe. The subscription is non-refundable (except as required by applicable law or as set out in our refund policy above), and will automatically renew for one-year periods until you cancel. Your account will be charged no more than 24 hours prior to the expiration of the current subscription period. You may cancel automatic renewal by adjusting the iTunes Store account settings on your computer. You ', start_char_idx=None, end_char_idx=None, text_template='{metadata_str}\\n\\n{content}', metadata_template='{key}: {value}', metadata_seperator='\\n'),\n",
       " Document(id_='1f1fa65e-bf90-4c8a-a652-f680fbfcb51a', embedding=None, metadata={'page_label': '7', 'file_name': 'JAN2015.pdf', 'file_path': '/Users/ilyasaden/myrepo/Simmons_Tech_Challenge/data/JAN2015.pdf', 'file_type': 'application/pdf', 'file_size': 229026, 'creation_date': '2024-02-04', 'last_modified_date': '2024-02-04', 'last_accessed_date': '2024-02-04'}, excluded_embed_metadata_keys=['file_name', 'file_type', 'file_size', 'creation_date', 'last_modified_date', 'last_accessed_date'], excluded_llm_metadata_keys=['file_name', 'file_type', 'file_size', 'creation_date', 'last_modified_date', 'last_accessed_date'], relationships={}, text=\"will no longer be able to access your iTunes Match Content from iTunes Match after the end of your subscription period. iTunes Match works with libraries that contain up to 25,000 songs which are either (i) not currently available on the iTunes Service, or (ii) not purchased from the iTunes Service with your Account. Songs that do not meet certain criteria, or that are not authorized for your computer are not eligible for iTunes Match. iTunes Match will automatically scan the song files and collect other information that may be used to identify media in your iTunes library, such as the names of songs, song artists or song durations. iTunes Match will use this information to match songs to those currently available on the iTunes Store, and will make matched songs available to you in a format then available on the iTunes Store. If the song is not successfully matched, your copy of the song will be uploaded to iTunes in the same format or a format determined by iTunes. iTunes reserves the right to limit types of content uploaded (for example, excessively large files). Matched or uploaded songs and related metadata will be available for access from an Associated Device that has been enabled for iTunes Match. Association of Associated Devices for iTunes Match is subject to the same terms as Automatic Delivery and Downloading Previous Purchases, and uploaded or matched songs and related information are deemed to be “iTunes Eligible Content.” You may also access iTunes Match Content from compatible Apple TVs, provided that you may only do so on a limited number of Apple TVs at the same time. When you use iTunes Match, Genius will begin associating information about the media in your iTunes library with your Account; the association with your Account will continue for a period of time after your subscription ends. iTunes will otherwise use this information as described in the Privacy Section of this Agreement. You will not be able to disable Genius while using iTunes Match, so if you prefer that we do not collect and use information from your iTunes library in this manner, you should not use iTunes Match. You hereby agree to use iTunes Match only for lawfully acquired content. Any use for illegitimate content infringes the rights of others and may subject you to civil and criminal penalties, including possible monetary damages, for copyright infringement. iTunes Match is provided on an “AS IS” basis and may contain errors or inaccuracies that could cause failures, corruption or loss of data and/or information, including music, playlist, and play history, from your computer or device and from peripherals (including, without limitation, servers and other computers) connected thereto. You should back up all data and information on your computer or device and any peripherals prior to using iTunes Match. You expressly acknowledge and agree that all use of iTunes Match is at your sole risk. To the extent permitted by law, iTunes shall have no liability with respect to your use of iTunes Match, including the inability to access matched or uploaded content. PRIVACY The Service is subject to Apple's Privacy Policy at http://www.apple.com/uk/privacy/. When you opt in to the Genius feature, Apple will, from time to time, automatically collect information that can be used to identify media in your iTunes library on any Genius-enabled device, such as your play history and playlists. This includes media purchased or acquired through iTunes and media obtained from other sources. This information will be stored anonymously and will not be associated with your name or Account. When you use the Genius feature, Apple will use this information and the contents of your iTunes library, as well as other information, to give personalized recommendations to you. Apple may only use this information and combine it with aggregated information from the iTunes libraries of other users who also opt in to this feature, your iTunes Store purchase history data, \", start_char_idx=None, end_char_idx=None, text_template='{metadata_str}\\n\\n{content}', metadata_template='{key}: {value}', metadata_seperator='\\n'),\n",
       " Document(id_='d36fec97-97fb-4a2f-b5ae-d71fd302999b', embedding=None, metadata={'page_label': '8', 'file_name': 'JAN2015.pdf', 'file_path': '/Users/ilyasaden/myrepo/Simmons_Tech_Challenge/data/JAN2015.pdf', 'file_type': 'application/pdf', 'file_size': 229026, 'creation_date': '2024-02-04', 'last_modified_date': '2024-02-04', 'last_accessed_date': '2024-02-04'}, excluded_embed_metadata_keys=['file_name', 'file_type', 'file_size', 'creation_date', 'last_modified_date', 'last_accessed_date'], excluded_llm_metadata_keys=['file_name', 'file_type', 'file_size', 'creation_date', 'last_modified_date', 'last_accessed_date'], relationships={}, text='aggregated purchase history data from other iTunes Store users, and other information obtained from third parties, to: • Create personalized playlists for you from your iTunes library. • Provide you with recommendations regarding media and other products and services that you may wish to purchase or acquire. • Provide recommendations regarding products and services to other users. At all times your information will be treated in accordance with Apple’s Privacy Policy. Once you opt in to the Genius feature, you will be able to create Genius playlists on Genius-capable devices. If you prefer that we do not collect and use information from your iTunes library in this manner, you should not enable the Genius feature. You can revoke your opt-in choice at any time by turning off the Genius feature from the Store menu in iTunes on your computer or turning off Genius in the Settings on your device. After you opt out, iTunes will no longer send information about your iTunes library to Apple. If you have elected to share your library from multiple devices, you need to turn off the Genius feature from each device. By opting in to the Genius feature, you consent to the use of your information as described above and as described in Apple’s Privacy Policy. CONTENT AVAILABILITY iTunes reserves the right to change content options (including eligibility for particular features) without notice. USE OF CONTENT You agree that the iTunes Products are provided to you by way of a license only. You understand that the Service and certain iTunes Products include a security framework using technology that protects digital information and limits your use of iTunes Products to certain usage rules (“Security Framework”) established by iTunes and its licensors and that, whether or not iTunes Products are limited by security technology, you shall use iTunes Products in compliance with the applicable usage rules established by iTunes and its licensors (“Usage Rules”), and that any other use of the iTunes Products may constitute a copyright infringement. Any security technology is an inseparable part of the iTunes Products. iTunes reserves the right to modify the Usage Rules for future purchases on the Service at any time. However, such changes will not apply to iTunes Products that you have already purchased. Any change to the Usage Rules will be communicated to you. In the event that you refuse to accept the new Usage Rules, you will no longer be able to acquire iTunes Products from the Service. USAGE RULES (i) You shall be authorised to use iTunes Products only for personal, noncommercial use. For details of your rights and restrictions on your rights to use the iTunes Products, see: • http://www.prsformusic.com • http://www.warnerchappell.com/wcmuk/pedl.jsp • http://www.sacem.fr • http://www.sdrm.fr • http://www.sesam.org ', start_char_idx=None, end_char_idx=None, text_template='{metadata_str}\\n\\n{content}', metadata_template='{key}: {value}', metadata_seperator='\\n'),\n",
       " Document(id_='9329fe79-17fb-4228-af94-46a8ec4b73ce', embedding=None, metadata={'page_label': '9', 'file_name': 'JAN2015.pdf', 'file_path': '/Users/ilyasaden/myrepo/Simmons_Tech_Challenge/data/JAN2015.pdf', 'file_type': 'application/pdf', 'file_size': 229026, 'creation_date': '2024-02-04', 'last_modified_date': '2024-02-04', 'last_accessed_date': '2024-02-04'}, excluded_embed_metadata_keys=['file_name', 'file_type', 'file_size', 'creation_date', 'last_modified_date', 'last_accessed_date'], excluded_llm_metadata_keys=['file_name', 'file_type', 'file_size', 'creation_date', 'last_modified_date', 'last_accessed_date'], relationships={}, text='(ii) You shall be authorised to use iTunes Products on five computers with the iTunes application installed at any time, except for Film Rentals (see below). (iii) You shall be able to store iTunes Products from up to five different Accounts at a time on compatible devices, such as an iPad, iPod, iPhone and Apple TV, provided that each iPhone may sync tone iTunes Products with only a single iTunes-authorised device at a time, and syncing an iPhone with a different iTunes-authorised device will cause tone iTunes Products stored on that iPhone to be erased. (iv) You shall be authorised to burn an audio playlist up to seven times. You may use the audio CD to which you have burned your iTunes Products in the same ways in which you may use an audio CD purchased from a retail store, subject to United Kingdom copyright laws. (v) You shall not be entitled to burn video iTunes Products or tone iTunes Products other than for backup purposes, which video iTunes Product backups will play via the iTunes application. (vi) iTunes Plus Products do not contain security technology that limits your usage of such iTunes Products, and Usage Rules (ii) – (v) do not apply to iTunes Plus Products. You may copy, store, and burn iTunes Plus Products as reasonably necessary for personal, noncommercial use. (vii) You shall be able to manually sync a film from at least one iTunes-authorised device to devices that have manual sync mode, provided that the film is associated with an Account on the primary iTunes-authorised device, where the primary iTunes-authorised device is the one that was first synced with the device or the one that you subsequently designate as primary using the iTunes application. (viii) An HDCP connection is required to view films and TV shows transmitted over HDMI. (ix) Film Rentals (a) Film rentals are viewable on only one device at a time. You must be connected to the Service when moving film rentals, and you may do so only between your computer and other compatible devices. Films rented using your Apple TV or iPad, iPhone 4 or iPod touch may not be moved. If you move a film to a compatible device and then use the Service to restore that device, or choose Settings > Reset > Erase all content and settings on that device, the film will be permanently deleted. (b) Once you purchase a rental, you must fully download the rental within thirty (30) days. You have thirty (30) days after downloading a film to begin viewing. Once you begin viewing, you have forty-eight (48) hours to finish viewing the film. Stopping, pausing, or restarting a film does not extend the available time for viewing. Some iTunes Products, including but not limited to Film rentals, may be downloaded only once and cannot be replaced if lost for any reason; it is your responsibility not to lose, destroy, or damage iTunes Products once downloaded, and to back them up. The delivery of iTunes Products does not transfer to you any commercial or promotional use rights in the iTunes Products. Any burning or exporting capabilities are solely an accommodation to you and shall not constitute a grant, waiver, or other limitation of any rights of the copyright owners in any content embodied in any iTunes Product. You acknowledge that some aspects of the Service, iTunes Products, and administration of the Usage Rules entails the ongoing involvement of iTunes. CONTENT SECURITY You agree not to violate, circumvent, reverse-engineer, decompile, disassemble, or otherwise tamper with any element of the Security Framework—or to attempt or assist another person to do so. Notwithstanding any other provisions, you are allowed to burn audio iTunes Products to CD, within the ', start_char_idx=None, end_char_idx=None, text_template='{metadata_str}\\n\\n{content}', metadata_template='{key}: {value}', metadata_seperator='\\n'),\n",
       " Document(id_='1c9504b3-314b-445c-b7ed-f4e4309deb0f', embedding=None, metadata={'page_label': '10', 'file_name': 'JAN2015.pdf', 'file_path': '/Users/ilyasaden/myrepo/Simmons_Tech_Challenge/data/JAN2015.pdf', 'file_type': 'application/pdf', 'file_size': 229026, 'creation_date': '2024-02-04', 'last_modified_date': '2024-02-04', 'last_accessed_date': '2024-02-04'}, excluded_embed_metadata_keys=['file_name', 'file_type', 'file_size', 'creation_date', 'last_modified_date', 'last_accessed_date'], excluded_llm_metadata_keys=['file_name', 'file_type', 'file_size', 'creation_date', 'last_modified_date', 'last_accessed_date'], relationships={}, text='limits of the Usage Rules. The Usage Rules may be controlled and monitored by iTunes for compliance purposes, and iTunes reserves the right to enforce the Usage Rules without notice to you. SERVICE SECURITY You agree not to access the Service by any means other than through use of software provided by Apple Inc. or its affiliated group companies (“Apple”) for accessing the Service. You agree not to modify the software that is provided by Apple to access the Service in any manner or form, or to use modified versions of the software, for any purposes including obtaining unauthorised access to the Service. You shall not access or attempt to access an Account that you are not authorised to access. Violations of system or network security may result in civil or criminal liability. SEASON PASS, MULTI-PASS The full price of the Season Pass or Multi-Pass is charged upon purchase. Refunds are available as set out in our refund policy above;. no other refunds, returns or cancellations after purchase. You must connect to the Service and download any remaining Pass content within 90 days after the final Pass content becomes available (or such other time period as may be specified on the purchase page), after which that content may no longer be available for download as part of the purchase. If automatic renewal is selected when you purchase a Multi-Pass, you will be charged the full price of each subsequent Multi-Pass cycle, unless and until you cancel automatic renewal prior to the beginning of the subsequent Multi-Pass cycle (in the Manage Passes section of your Account information). If a network or studio delivers fewer TV episodes than planned when you purchased a Season Pass, we will credit to your Account the retail value of the corresponding number of episodes. HIGH-DEFINITION (HD) PRODUCTS HD Products are viewable only on HD capable devices; however, HD Products purchased (not rented) include a standard-definition version for use on non-HD devices. SUBMISSIONS TO THE SERVICE The Service may offer interactive features that allow you to submit materials (including links to third-party content) on areas of the Service accessible and viewable by the public. You agree that any use by you of such features, including any materials submitted by you, shall be your sole responsibility, shall not infringe or violate the rights of any other party or violate any laws, contribute to or encourage infringing or otherwise unlawful conduct, or otherwise be obscene. You also agree that you have obtained all necessary rights and licenses. You agree to provide accurate and complete information in connection with your submission of any materials on the Service. You hereby grant iTunes a worldwide, perpetual, royalty-free, nonexclusive license to use such materials as part of the Service, and in relation to iTunes Products, without any compensation or obligation to you. iTunes reserves the right to not post or publish any materials, and to remove or edit any material, at any time in its sole discretion without notice or liability. iTunes has the right, but not the obligation, to monitor any materials submitted by you or otherwise available on the Service, to investigate any reported or apparent violation of this Agreement, and to take any action that iTunes in its sole discretion deems appropriate, including, without limitation, termination hereunder or under Apple’s Copyright Policy (http://www.apple.com/legal/copyright.html). THIRD-PARTY MATERIALS Certain content, iTunes Products, and services available via the Service may include materials from third parties. iTunes may provide links to third-party websites as a convenience to you. You agree that iTunes is not responsible for examining or evaluating the content or accuracy and iTunes does not warrant and will not have any liability or responsibility for any third-party materials or websites, or for any other ', start_char_idx=None, end_char_idx=None, text_template='{metadata_str}\\n\\n{content}', metadata_template='{key}: {value}', metadata_seperator='\\n'),\n",
       " Document(id_='c2fa1267-99bf-41b8-a14a-e3bbfda7fab8', embedding=None, metadata={'page_label': '11', 'file_name': 'JAN2015.pdf', 'file_path': '/Users/ilyasaden/myrepo/Simmons_Tech_Challenge/data/JAN2015.pdf', 'file_type': 'application/pdf', 'file_size': 229026, 'creation_date': '2024-02-04', 'last_modified_date': '2024-02-04', 'last_accessed_date': '2024-02-04'}, excluded_embed_metadata_keys=['file_name', 'file_type', 'file_size', 'creation_date', 'last_modified_date', 'last_accessed_date'], excluded_llm_metadata_keys=['file_name', 'file_type', 'file_size', 'creation_date', 'last_modified_date', 'last_accessed_date'], relationships={}, text='materials, products, or services of third parties. You agree that you will not use any third-party materials in a manner that would infringe or violate the rights of any other party and that iTunes is not in any way responsible for any such use by you. OBJECTIONABLE MATERIAL You understand that by using the Service, you may encounter material that you may deem to be offensive, indecent, or objectionable, and that such content may or may not be identified as having explicit material. Nevertheless, you agree to use the Service at your sole risk and iTunes shall have no liability to you for material that may be found to be offensive, indecent, or objectionable. Product types and descriptions are provided for convenience, and you agree that iTunes does not guarantee their accuracy. INTELLECTUAL PROPERTY You agree that the Service, including but not limited to iTunes Products, graphics, user interface, audio clips, video clips, editorial content, and the scripts and software used to implement the Service, contains proprietary information and material that is owned by iTunes and/or its licensors, and is protected by applicable intellectual property and other laws, including but not limited to copyright. You agree that you will not use such proprietary information or materials in any way whatsoever except for use of the Service in compliance with this Agreement. No portion of the Service may be reproduced in any form or by any means, except as expressly permitted in these terms. You agree not to modify, rent, lease, loan, sell, distribute, or create derivative works based on the Service in any manner, and you shall not exploit the Service in any unauthorised way whatsoever, including, but not limited to, by trespass or burdening network capacity. Notwithstanding any other provision of this Agreement, iTunes and its licensors reserve the right to change, suspend, remove, or disable access to any iTunes Products, content, or other materials that are offered by the Service without notice. In no event will iTunes be liable for making these changes. iTunes may also impose limits on the use of or access to certain features or portions of the Service, in any case and without notice or liability. Removal of content from the Service will not affect products that you have already acquired from the Service. iTunes and/or its licensors own the copyright in the Service, including the compilation of content, postings, links to other Internet resources, and descriptions of those resources. The use of any part of the Service, except for use of the Service as permitted herein, is strictly prohibited and infringes on the intellectual property rights of others and may subject you to civil and criminal penalties, including possible monetary damages, for copyright infringement. Apple, the Apple logo, iTunes, and other Apple trademarks, service marks, graphics, and logos used in connection with the Service are trademarks or registered trademarks of Apple Inc. in the U.S. and/or other countries. Other trademarks, service marks, graphics, and logos used in connection with the Service may be the trademarks of their respective owners. You are granted no right or license with respect to any of the aforesaid trademarks and any use of such trademarks. As an Account holder of the Service in good standing, you may be provided with limited access to download certain album cover art for music stored in the iTunes Library of your iTunes application. Such access is provided as an accommodation only, and iTunes does not warrant, and will not have any liability or responsibility for, such album cover art or your use thereof. You may access album cover art only for music for which you are the lawful owner of a legal copy. Album cover art is provided for personal, noncommercial use only. You agree that you will not use album cover art in any manner that would infringe or violate this Agreement or the rights of any other party, and that iTunes is not in any way responsible for any such use by you. ', start_char_idx=None, end_char_idx=None, text_template='{metadata_str}\\n\\n{content}', metadata_template='{key}: {value}', metadata_seperator='\\n'),\n",
       " Document(id_='824dbe1e-10c9-4ce6-bfac-7dbea356874b', embedding=None, metadata={'page_label': '12', 'file_name': 'JAN2015.pdf', 'file_path': '/Users/ilyasaden/myrepo/Simmons_Tech_Challenge/data/JAN2015.pdf', 'file_type': 'application/pdf', 'file_size': 229026, 'creation_date': '2024-02-04', 'last_modified_date': '2024-02-04', 'last_accessed_date': '2024-02-04'}, excluded_embed_metadata_keys=['file_name', 'file_type', 'file_size', 'creation_date', 'last_modified_date', 'last_accessed_date'], excluded_llm_metadata_keys=['file_name', 'file_type', 'file_size', 'creation_date', 'last_modified_date', 'last_accessed_date'], relationships={}, text='TERMINATION If you fail, or iTunes has strong grounds to believe that you have failed, to comply with any of the provisions of this Agreement, iTunes, at its sole discretion, without notice to you may: (i) terminate this Agreement and/or your Account, and you will remain liable for all amounts due under your Account up to and including the date of termination; and/or (ii) cause the license to the software to be terminated; and/or (iii) preclude access to the Service (or any part thereof). iTunes reserves the right to modify, suspend, or discontinue the Service (or any part or content thereof) at any time and iTunes will not be liable to you or to any third party should it exercise such rights. To the extent possible, iTunes will warn you in advance of any modification, suspension or discontinuance of the Service. Termination of the Service will not affect the iTunes Products that you have already acquired. However, you may be unable to authorise additional computers to use the iTunes Products. DISCLAIMER OF WARRANTIES; LIABILITY LIMITATIONS a. iTunes will provide the Service with reasonable care and skill. iTunes does not make any other promises or warranties about the Service and in particular does not warrant that: (i) your use of the Service will be uninterrupted or error-free. You agree that from time to time iTunes may remove the Service for indefinite periods of time, or cancel the Service at any time for technical or operational reasons and will, to the extent practicable, notify you of this; (ii) the Service will be free from loss, corruption, attack, viruses, interference, hacking, or other security intrusion which shall be events of Force Majeure, and iTunes disclaims any liability relating thereto. You shall be responsible for backing up your own system, including any iTunes Products purchased, acquired or rented from the Service. b. Except as set out in (d) below, or in the event that you are exercising any applicable statutory right to refund or compensation, in no case shall iTunes, its directors, officers, employees, affiliates, agents, contractors, or licensors be liable for any loss or damage caused by iTunes, its employees or agents where: (i) there is no breach of a legal duty of care owed to you by iTunes or by any of our employees or agents; (ii) it is not a reasonably foreseeable result of any such breach; (iii) any increase in loss or damage results from breach by you of any term of this Agreement; (iv) it results from a decision by iTunes to remove or refuse to process any information or content, to warn you, to suspend or terminate your access to the Service, or to take any other action during the investigation of a suspected violation or as a result of iTunes’ conclusion that a violation of this Agreement has occurred; or (v) it relates to loss of income, business or profits, or any loss of data or corruption of data in connection with your use of the Service. c. iTunes shall use reasonable efforts to protect information submitted by you in connection with the Services including from fraudulent use. d. Nothing in this Agreement removes or limits iTunes’ liability for fraud, gross negligence, wilful misconduct, or for death or personal injury. e. If you breach this Agreement, you will be liable to iTunes, its directors, officers, employees, affiliates, agents, contractors, and licensors for any claim arising out of your breach. You will also be liable for any ', start_char_idx=None, end_char_idx=None, text_template='{metadata_str}\\n\\n{content}', metadata_template='{key}: {value}', metadata_seperator='\\n'),\n",
       " Document(id_='fb24669a-bf44-4493-a0dc-5da0097dc16b', embedding=None, metadata={'page_label': '13', 'file_name': 'JAN2015.pdf', 'file_path': '/Users/ilyasaden/myrepo/Simmons_Tech_Challenge/data/JAN2015.pdf', 'file_type': 'application/pdf', 'file_size': 229026, 'creation_date': '2024-02-04', 'last_modified_date': '2024-02-04', 'last_accessed_date': '2024-02-04'}, excluded_embed_metadata_keys=['file_name', 'file_type', 'file_size', 'creation_date', 'last_modified_date', 'last_accessed_date'], excluded_llm_metadata_keys=['file_name', 'file_type', 'file_size', 'creation_date', 'last_modified_date', 'last_accessed_date'], relationships={}, text='action taken by iTunes as part of its investigation of a suspected violation of this Agreement, or as a result of its findings or decision that a violation of this Agreement has occurred. CHANGES iTunes reserves the right at any time to modify this Agreement and to impose new or additional terms or conditions on your use of the Service. Such modifications and additional terms and conditions will be communicated to you and, if accepted, will be effective immediately and will be incorporated into this Agreement. In the event that you refuse to accept such changes, iTunes will have the right to terminate the Agreement. MISCELLANEOUS This Agreement constitutes the entire agreement between you and iTunes and governs your use of the Service, superseding any prior agreements between you and iTunes. You also may be subject to additional terms and conditions that may apply when you use affiliate services, certain iTunes Products, third-party content, or third-party software. If any part of this Agreement is held invalid or unenforceable, that portion shall be construed in a manner consistent with applicable law to reflect, as nearly as possible, the original intentions of the parties, and the remaining portions shall remain in full force and effect. iTunes’ failure to enforce any right or provisions in this Agreement will not constitute a waiver of such or any other provision. iTunes will not be responsible for failures to fulfill any obligations due to causes beyond its control. The Service is operated by iTunes from its offices in Luxembourg. You agree to comply with all local, state, federal, and national laws, statutes, ordinances, and regulations that apply to your use of the Service. This Agreement and the use of the Service is governed by English law. iTunes may notify you with respect to the Service by sending an email message to your Account email address or a letter via postal mail to your Account mailing address, or by a posting on the Service. Notices shall become effective immediately. iTunes reserves the right to take steps iTunes believes are reasonably necessary or appropriate to enforce and/or verify compliance with any part of this Agreement. You agree that iTunes has the right, without liability to you, to disclose any Registration Data and/or Account information to law enforcement authorities, government officials, and/or a third party, as iTunes believes is reasonably necessary or appropriate to enforce and/or verify compliance with any part of this Agreement (including but not limited to iTunes’ right to cooperate with any legal process relating to your use of the Service and/or iTunes Products, and/or a third-party claim that your use of the Service and/or iTunes Products is unlawful and/or infringes such third party\\'s rights). About iTunes: Our registered number is RCS Luxembourg B 101 120 and our registered office is at 31 – 33, rue Sainte Zithe, L-2763 Luxembourg . C. MAC APP STORE, APP STORE AND IBOOKS STORE TERMS AND CONDITIONS THIS LEGAL AGREEMENT BETWEEN YOU AND ITUNES SARL (\"ITUNES\") GOVERNS YOUR USE OF THE MAC APP STORE, APP STORE AND IBOOKS STORE (“STORES”) AND THE PURCHASE OF LICENCES FROM THEM, WHICH ARE SOLD TO YOU BY ITUNES. THE MAC APP STORE, APP STORE AND IBOOKS STORE iTunes is the provider of the Stores that permit you to purchase from iTunes licences to software products from the App Store and Mac App Store (together, “App Store Products”) and digital book content (the “iBooks Store Products”) for end user use only under the terms and conditions set forth in this Agreement. For App Store Products, end users may be individuals acting in their own capacities, or ', start_char_idx=None, end_char_idx=None, text_template='{metadata_str}\\n\\n{content}', metadata_template='{key}: {value}', metadata_seperator='\\n'),\n",
       " Document(id_='b9c2d699-28c6-478d-b838-de2312fcc4eb', embedding=None, metadata={'page_label': '14', 'file_name': 'JAN2015.pdf', 'file_path': '/Users/ilyasaden/myrepo/Simmons_Tech_Challenge/data/JAN2015.pdf', 'file_type': 'application/pdf', 'file_size': 229026, 'creation_date': '2024-02-04', 'last_modified_date': '2024-02-04', 'last_accessed_date': '2024-02-04'}, excluded_embed_metadata_keys=['file_name', 'file_type', 'file_size', 'creation_date', 'last_modified_date', 'last_accessed_date'], excluded_llm_metadata_keys=['file_name', 'file_type', 'file_size', 'creation_date', 'last_modified_date', 'last_accessed_date'], relationships={}, text='commercial enterprises or educational institutions. App Store Products and iBooks Store Products shall be referred to together as “Products”. REQUIREMENTS FOR USE OF THE STORES Only persons aged 13 years or older can create accounts. Accounts for persons under 13 years can be created by a parent or legal guardian using Family Sharing. Children under the age of 18 should review this Agreement with their parent or legal guardian to ensure that the child and the parent or legal guardian understand it. The Stores are available to you only in the United Kingdom. You agree not to use or attempt to use the Stores from outside this location. iTunes may use technologies to verify your compliance. Use of the Stores requires compatible devices, Internet access, and certain software (fees may apply); may require periodic updates; and may be affected by the performance of these factors. High-speed Internet access is strongly recommended. The latest versions of required software (including, but not limited to, iTunes and Mac App Store software) are recommended to access the Stores and may be required for certain transactions or features and to download Products previously purchased or acquired from the Stores. You agree that these requirements, which may change from time to time, are your responsibility. The Stores are not part of any other product or offering, and no purchase or obtaining of any other product shall be construed to represent or guarantee you access to the Stores. YOUR ACCOUNT As a registered user of the Stores, you may establish an account (\"Account\"). Don’t reveal your Account information to anyone else. You are solely responsible for maintaining the confidentiality and security of your Account, and for all activities that occur on or through your Account, and you agree to immediately notify iTunes of any security breach of your Account. iTunes shall not be responsible for any losses arising out of the unauthorised use of your Account. In order to purchase and download App Store Products from the Stores, you must enter your Apple ID and password or use Touch ID to authenticate your Account for transactions. Once you have authenticated your Account using your Apple ID and password, you will not need to authenticate again for fifteen minutes; you can choose to allow your computer to remember your password to remain authenticated. During this time, you will be able to purchase and download App Store Products without re-entering your password. You can turn off the ability to make App Store Product transactions or change settings to require a password for every App and Book Product transaction by adjusting the settings on your computer or iOS Device. For more information, please see http://support.apple.com/kb/HT1904 and http://support.apple.com/kb/HT4213. You agree to provide accurate and complete information when you register with, and as you use, the Stores (\"Registration Data\"), and you agree to update your Registration Data to keep it accurate and complete. You agree that iTunes may store and use the Registration Data you provide for use in maintaining and billing fees to your Account. AUTOMATIC DELIVERY AND DOWNLOADING PREVIOUS PURCHASES When you first acquire Products (excluding products acquired from the Mac App Store) through the Stores (collectively, “Eligible Content”), you may elect to automatically receive (“auto-download”) copies of such Eligible Content on additional iTunes-authorised computers and iOS Devices with compatible software by associating such computers and iOS Devices subject to the association rules below (each, an “Associated Device”). For each Associated Device, you may specify which type of Eligible Content, if any, may be auto-downloaded to it. On an Associated Device that is capable of receiving push notifications (“Push-Enabled”), including iOS Devices, the Products will auto-download to that Associated Device when ', start_char_idx=None, end_char_idx=None, text_template='{metadata_str}\\n\\n{content}', metadata_template='{key}: {value}', metadata_seperator='\\n'),\n",
       " Document(id_='e1783b17-2148-4fd4-b1ce-44cd96d561cf', embedding=None, metadata={'page_label': '15', 'file_name': 'JAN2015.pdf', 'file_path': '/Users/ilyasaden/myrepo/Simmons_Tech_Challenge/data/JAN2015.pdf', 'file_type': 'application/pdf', 'file_size': 229026, 'creation_date': '2024-02-04', 'last_modified_date': '2024-02-04', 'last_accessed_date': '2024-02-04'}, excluded_embed_metadata_keys=['file_name', 'file_type', 'file_size', 'creation_date', 'last_modified_date', 'last_accessed_date'], excluded_llm_metadata_keys=['file_name', 'file_type', 'file_size', 'creation_date', 'last_modified_date', 'last_accessed_date'], relationships={}, text='it has an Internet connection; on an Associated Device that is not Push-Enabled, including those running on the Windows operating system, Eligible Content will automatically appear in the download queue and you may manually initiate the download within iTunes. As an accommodation to you, subsequent to acquiring Eligible Content, you may download certain of such previously acquired Eligible Content onto any Associated Device. Some Eligible Content that you previously acquired may not be available for subsequent download at any given time, and iTunes shall have no liability to you in such event. As you may not be able to subsequently download certain previously acquired Eligible Content, once you download an item of Eligible Content, it is your responsibility not to lose, destroy, or damage it, and you may want to back it up. Association of Associated Devices is subject to the following terms: (i) You may auto-download Eligible Content or download previously acquired Eligible Content from an Account on up to 10 Associated Devices, provided no more than 5 are iTunes-authorised computers. (ii) An Associated Device can be associated with only one Account at any given time. (iii) You may switch an Associated Device to a different Account only one every 90 days. (iv) You may download previously acquired free content onto an unlimited number of devices while it is free on the Stores, but no more than 5 iTunes-authorised computers. The above terms (i) to (iv) do not apply to App Store Products. Some pieces of Eligible Content may be large, and significant data charges may result from delivery of such Eligible Content over a data connection. AUTOMATIC DELIVERY OF UPDATES Your device or computer will periodically check with the App Store and Mac App Store for updates to the apps on your device or computer and, if available, the update may automatically download and install. You agree that iTunes, through the App Store and Mac App Store, may automatically download and install updates onto your device(s) or computer. You can turn off automatic updates altogether at any time by changing the automatic updates settings on your device or computer. APP BUNDLES Some App Store Products may contain multiple items (“App Bundles”). The price displayed with an App Bundle is the price you will be charged upon purchasing the App Bundle. The App Bundle price may be reduced to account for App Store Products you have already purchased or acquired, but may include a minimum charge to complete the App Bundle. PRIVACY Except as otherwise stated in this Agreement, the Stores are subject to Apple\\'s Privacy Policy at http://www.apple.com/uk/privacy/. USE OF PRODUCTS AND THE STORES iTunes is selling you a licence to use the Products. Once purchased from iTunes, that licence forms a binding agreement directly between you and the publisher of that Product (the \"Publisher\") governing your use of that Product. You understand that the Stores and certain Products include a security framework using technology that protects digital information and limits your use of Products to certain usage rules (“Security Framework”) established by iTunes and the Publishers and that, whether or not Products are limited by security technology, you shall use Products in compliance with the applicable usage rules established by iTunes and the Publishers (“Usage Rules”), and that any other use of the ', start_char_idx=None, end_char_idx=None, text_template='{metadata_str}\\n\\n{content}', metadata_template='{key}: {value}', metadata_seperator='\\n'),\n",
       " Document(id_='dd3fb0db-8975-4a2a-8448-f303809f4a18', embedding=None, metadata={'page_label': '16', 'file_name': 'JAN2015.pdf', 'file_path': '/Users/ilyasaden/myrepo/Simmons_Tech_Challenge/data/JAN2015.pdf', 'file_type': 'application/pdf', 'file_size': 229026, 'creation_date': '2024-02-04', 'last_modified_date': '2024-02-04', 'last_accessed_date': '2024-02-04'}, excluded_embed_metadata_keys=['file_name', 'file_type', 'file_size', 'creation_date', 'last_modified_date', 'last_accessed_date'], excluded_llm_metadata_keys=['file_name', 'file_type', 'file_size', 'creation_date', 'last_modified_date', 'last_accessed_date'], relationships={}, text='Products may constitute a copyright infringement. Any security technology is an inseparable part of the Products. iTunes reserves the right to modify the Usage Rules for future purchases from the Stores at any time. However, such changes will not apply to Products that you have already purchased. Any change to the Usage Rules will be communicated to you. In the event that you refuse to accept the new Usage Rules, you will no longer be able to acquire Products from the Stores. CONTENT SECURITY You agree not to violate, circumvent, reverse-engineer, decompile, disassemble, or otherwise tamper with any element of the Security Framework—or to attempt or assist another person to do so. Usage Rules may be controlled and monitored by iTunes for compliance purposes, and iTunes reserves the right to enforce the Usage Rules without notice to you. STORE SECURITY You agree not to access the Stores by any means other than through use of software provided by Apple Inc. or its affiliated group companies (“Apple”) for accessing the Stores. You agree not to modify the software that is provided by Apple to access the Stores in any manner or form, or to use modified versions of the software, for any purposes including obtaining unauthorised access to the Stores. You shall not access or attempt to access an Account that you are not authorised to access. Violations of system or network security may result in civil or criminal liability. The delivery of Products does not transfer to you any promotional use rights in the Products. You acknowledge that some aspects of the Stores, Products, and administration of the Usage Rules entails the ongoing involvement of iTunes notwithstanding that iTunes is not party to the licence between you and the Publishers of Products. SUBMISSIONS TO THE STORES The Stores may offer interactive features that allow you to submit materials (including links to third-party content) on areas of the Stores accessible and viewable by other users of the Stores and the public. You agree that any use by you of such features, including any materials submitted by you, shall be your sole responsibility, shall not infringe or violate the rights of any other party or violate any laws, contribute to or encourage infringing or otherwise unlawful conduct, or otherwise be obscene. You also agree that you have obtained all necessary rights and licenses. You agree to provide accurate and complete information in connection with your submission of any materials on the Stores. You hereby grant iTunes a worldwide, perpetual, royalty-free, nonexclusive license to use such materials as part of the Stores, and in relation to Products, without any compensation or obligation to you. iTunes reserves the right to not post or publish any materials, and to remove or edit any material, at any time in its sole discretion without notice or liability. You may not submit reviews or ratings for App Store Products downloaded using a promotional Content Code. iTunes has the right, but not the obligation, to monitor any materials submitted by you or otherwise available on the Stores, to investigate any reported or apparent violation of this Agreement, and to take any action that iTunes in its sole discretion deems appropriate, including, without limitation, termination hereunder or under Apple’s Copyright Policy (http://www.apple.com/legal/copyright.html). THIRD-PARTY MATERIALS Certain content, Products, and services available via the Stores may include materials from third parties. iTunes may provide links to third-party websites as a convenience to you. You agree that iTunes is not responsible for examining or evaluating the content or accuracy and iTunes does not warrant and will not have any liability or responsibility for any third-party materials or websites, or for any other materials, products, or services of third parties. You agree that you will not use any third-party materials in a ', start_char_idx=None, end_char_idx=None, text_template='{metadata_str}\\n\\n{content}', metadata_template='{key}: {value}', metadata_seperator='\\n'),\n",
       " Document(id_='208771bf-55b2-4fc9-8438-181a5d8c59c4', embedding=None, metadata={'page_label': '17', 'file_name': 'JAN2015.pdf', 'file_path': '/Users/ilyasaden/myrepo/Simmons_Tech_Challenge/data/JAN2015.pdf', 'file_type': 'application/pdf', 'file_size': 229026, 'creation_date': '2024-02-04', 'last_modified_date': '2024-02-04', 'last_accessed_date': '2024-02-04'}, excluded_embed_metadata_keys=['file_name', 'file_type', 'file_size', 'creation_date', 'last_modified_date', 'last_accessed_date'], excluded_llm_metadata_keys=['file_name', 'file_type', 'file_size', 'creation_date', 'last_modified_date', 'last_accessed_date'], relationships={}, text='manner that would infringe or violate the rights of any other party and that iTunes is not in any way responsible for any such use by you. OBJECTIONABLE MATERIAL You understand that by using the Stores, you may encounter material that you may deem to be offensive, indecent, or objectionable, and that such content may or may not be identified as having explicit material. Nevertheless, you agree to use the Stores at your sole risk and iTunes shall have no liability to you for material that may be found to be offensive, indecent, or objectionable. Product types and descriptions are provided for convenience, and you agree that iTunes does not guarantee their accuracy. INTELLECTUAL PROPERTY You agree that the Stores, including but not limited to Products, graphics, user interface, audio clips, editorial content, and the scripts and software used to implement the Stores, contain proprietary information and material that is owned by iTunes and/or the Publishers, and is protected by applicable intellectual property and other laws, including but not limited to copyright. You agree that you will not use such proprietary information or materials in any way whatsoever except for use of the Stores in compliance with this Agreement. No portion of the Stores may be reproduced in any form or by any means, except as expressly permitted in these terms. You agree not to modify, rent, lease, loan, sell, distribute, or create derivative works based on the Stores in any manner, and you shall not exploit the Stores in any unauthorised way whatsoever, including, but not limited to, by trespass or burdening network capacity. Notwithstanding any other provision of this Agreement, iTunes and the Publishers reserve the right to change, suspend, remove, or disable access to any Products, content, or other materials comprising a part of the Stores at any time without notice. In no event will iTunes be liable for making these changes. iTunes may also impose limits on the use of or access to certain features or portions of the Stores, in any case and without notice or liability. Removal of Products from the Stores will not affect Products that you have already acquired from the Stores. iTunes and/or its licensors own the copyright in the Stores, including the compilation of content, postings, links to other Internet resources, and descriptions of those resources. The use of any part of the Stores, except for use of the Stores as permitted herein, is strictly prohibited and infringes on the intellectual property rights of others and may subject you to civil and criminal penalties, including possible monetary damages, for copyright infringement. Apple, the Apple logo, iTunes, App Store, and other Apple trademarks, service marks, graphics, and logos used in connection with the Stores are trademarks or registered trademarks of Apple Inc. in the U.S. and/or other countries. Other trademarks, service marks, graphics, and logos used in connection with the Stores may be the trademarks of their respective owners. You are granted no right or license with respect to any of the aforesaid trademarks and any use of such trademarks. TERMINATION If you fail, or iTunes has strong grounds to believe that you have failed, to comply with any of the provisions of this Agreement, iTunes, at its sole discretion, without notice to you may: (i) terminate this Agreement and/or your Account, and you will remain liable for all amounts due under your Account up to and including the date of termination; and/or (ii) cause the license to the software to be terminated; and/or (iii) preclude access to the Stores (or any part thereof). iTunes reserves the right to modify, suspend, or discontinue the Stores (or any part or content thereof) at any time and iTunes will not be liable to you or to any third party should it exercise such rights. To the extent possible, iTunes will warn you in advance of any modification, suspension or discontinuance of the ', start_char_idx=None, end_char_idx=None, text_template='{metadata_str}\\n\\n{content}', metadata_template='{key}: {value}', metadata_seperator='\\n'),\n",
       " Document(id_='83361909-06f9-419a-bfc3-07e4c4754ffb', embedding=None, metadata={'page_label': '18', 'file_name': 'JAN2015.pdf', 'file_path': '/Users/ilyasaden/myrepo/Simmons_Tech_Challenge/data/JAN2015.pdf', 'file_type': 'application/pdf', 'file_size': 229026, 'creation_date': '2024-02-04', 'last_modified_date': '2024-02-04', 'last_accessed_date': '2024-02-04'}, excluded_embed_metadata_keys=['file_name', 'file_type', 'file_size', 'creation_date', 'last_modified_date', 'last_accessed_date'], excluded_llm_metadata_keys=['file_name', 'file_type', 'file_size', 'creation_date', 'last_modified_date', 'last_accessed_date'], relationships={}, text='Stores. Termination of the Stores will not affect the Products that you have already acquired. However, you may be unable to authorise additional computers to use the Products. DISCLAIMER OF WARRANTIES; LIABILITY LIMITATIONS a. iTunes will provide the Stores with reasonable care and skill. iTunes does not make any other promises or warranties about the Stores and in particular does not warrant that: (i) your use of the Stores will be uninterrupted or error-free. You agree that from time to time iTunes may remove the Stores for indefinite periods of time, or cancel the Stores at any time for technical or operational reasons and will, to the extent practicable, notify you of this; (ii) the Stores will be free from loss, corruption, attack, viruses, interference, hacking, or other security intrusion which shall be events of Force Majeure, and iTunes disclaims any liability relating thereto. Some Products can only be downloaded once; after being downloaded, they cannot be replaced if lost for any reason. You shall be responsible for backing up your own system, including any Products purchased or acquired from the Stores. b. Except as set out in (d) below, or in the event that you are exercising any applicable statutory right to refund or compensation, in no case shall iTunes, its directors, officers, employees, affiliates, agents, contractors, or licensors be liable for any loss or damage caused by iTunes, its employees or agents where: (i) there is no breach of a legal duty of care owed to you by iTunes or by any of our employees or agents; (ii) it is not a reasonably foreseeable result of any such breach; (iii) any increase in loss or damage results from breach by you of any term of this Agreement; (iv) it results from a decision by iTunes to remove or refuse to process any information or content, to warn you, to suspend or terminate your access to the Stores, or to take any other action during the investigation of a suspected violation or as a result of iTunes’ conclusion that a violation of this Agreement has occurred; or (v) it relates to loss of income, business or profits, or any loss of data or corruption of data in connection with your use of the Stores. c. iTunes shall use reasonable efforts to protect information submitted by you in connection with the Stores including from fraudulent use. d. Nothing in this Agreement removes or limits iTunes’ liability for fraud, gross negligence, wilful misconduct, or for death or personal injury. e. If you breach this Agreement, you will be liable to iTunes, its directors, officers, employees, affiliates, agents, contractors, and licensors for any claim arising out of your breach. You will also be liable for any action taken by iTunes as part of its investigation of a suspected violation of this Agreement, or as a result of its findings or decision that a violation of this Agreement has occurred. CHANGES iTunes reserves the right at any time to modify this Agreement and to impose new or additional terms or conditions on your use of the Stores. Such modifications and additional terms and conditions will be communicated to you and, if accepted, will be effective immediately and will be incorporated into this Agreement. In the event that you refuse to accept such changes, iTunes will have the right to terminate the Agreement. MISCELLANEOUS ', start_char_idx=None, end_char_idx=None, text_template='{metadata_str}\\n\\n{content}', metadata_template='{key}: {value}', metadata_seperator='\\n'),\n",
       " Document(id_='9106aa66-97ae-4b3a-ba8a-d25e9f9bc160', embedding=None, metadata={'page_label': '19', 'file_name': 'JAN2015.pdf', 'file_path': '/Users/ilyasaden/myrepo/Simmons_Tech_Challenge/data/JAN2015.pdf', 'file_type': 'application/pdf', 'file_size': 229026, 'creation_date': '2024-02-04', 'last_modified_date': '2024-02-04', 'last_accessed_date': '2024-02-04'}, excluded_embed_metadata_keys=['file_name', 'file_type', 'file_size', 'creation_date', 'last_modified_date', 'last_accessed_date'], excluded_llm_metadata_keys=['file_name', 'file_type', 'file_size', 'creation_date', 'last_modified_date', 'last_accessed_date'], relationships={}, text=\"This Agreement constitutes the entire agreement between you and iTunes and governs your use of the Stores, superseding any prior agreements between you and iTunes. You also may be subject to additional terms and conditions that may apply when you use affiliate services, certain Products, third-party content, or third-party software. If any part of this Agreement is held invalid or unenforceable, that portion shall be construed in a manner consistent with applicable law to reflect, as nearly as possible, the original intentions of the parties, and the remaining portions shall remain in full force and effect. iTunes’ failure to enforce any right or provisions in this Agreement will not constitute a waiver of such or any other provision. iTunes will not be responsible for failures to fulfill any obligations due to causes beyond its control. The Stores are operated by iTunes from its offices in Luxembourg. You agree to comply with all local, state, federal, and national laws, statutes, ordinances, and regulations that apply to your use of the Stores. This Agreement and the use of the Stores is governed by English law. iTunes may notify you with respect to the Stores by sending an email message to your Account email address or a letter via postal mail to your Account mailing address, or by posting on the Stores. Notices shall become effective immediately. iTunes reserves the right to take steps iTunes believes are reasonably necessary or appropriate to enforce and/or verify compliance with any part of this Agreement. You agree that iTunes has the right, without liability to you, to disclose any Registration Data and/or Account information to law enforcement authorities, government officials, and/or a third party, as iTunes believes is reasonably necessary or appropriate to enforce and/or verify compliance with any part of this Agreement (including but not limited to iTunes’ right to cooperate with any legal process relating to your use of the Stores and/or Products, and/or a third-party claim that your use of the Stores and/or Products is unlawful and/or infringes such third party's rights). About iTunes: Our registered number is RCS Luxembourg B 101 120 and our registered office is at 31 – 33, rue Sainte Zithe, L-2763Luxembourg. FURTHER MAC APP STORE AND APP STORE TERMS AND CONDITIONS LICENSE OF MAC APP STORE AND APP STORE PRODUCTS iTunes is selling you a licence to use the software products made available through the Mac App Store and App Store (collectively, the “App Store Products”). There are two (2) categories of App Store Products, as follows: (i) those App Store Products that have been developed by Apple, and which are licensed to you by iTunes (“Apple Products”); and (ii) those App Store Products that have been developed, and are licensed to you, by a third-party developer (“Third-Party Products”). The category of a particular App Store Product (Apple Product or Third-Party Product) is identified on the Mac App Store Application or App Store application. Your license to each App Store Product is subject to the Licensed Application End User License Agreement set forth below, and you agree that such terms will apply unless the App Store Product is covered by a valid end user license agreement entered into between you and the publisher of that App Store Product (the “Publisher”), in which case the Publisher’s end user license agreement will apply to that App Store Product. The Publisher reserves all rights in and to the App Store Product not expressly granted to you. You acknowledge that the license to each Apple Product that you obtain through the Mac App Store or App Store, or you associate with your Account, is a binding agreement between you and iTunes. You acknowledge that: once you acquire a Third-Party Product from iTunes, you are entering into a binding agreement directly with the Publisher of that Third-Party Product governing your use of that Third-Party Product; and iTunes is not a party to the license between you and the Publisher with respect to that Third-Party Product. The Publisher of each Third-Party Product is solely responsible for that Third-Party \", start_char_idx=None, end_char_idx=None, text_template='{metadata_str}\\n\\n{content}', metadata_template='{key}: {value}', metadata_seperator='\\n'),\n",
       " Document(id_='8212f9ff-7df3-41f1-8708-3fecc16bcf28', embedding=None, metadata={'page_label': '20', 'file_name': 'JAN2015.pdf', 'file_path': '/Users/ilyasaden/myrepo/Simmons_Tech_Challenge/data/JAN2015.pdf', 'file_type': 'application/pdf', 'file_size': 229026, 'creation_date': '2024-02-04', 'last_modified_date': '2024-02-04', 'last_accessed_date': '2024-02-04'}, excluded_embed_metadata_keys=['file_name', 'file_type', 'file_size', 'creation_date', 'last_modified_date', 'last_accessed_date'], excluded_llm_metadata_keys=['file_name', 'file_type', 'file_size', 'creation_date', 'last_modified_date', 'last_accessed_date'], relationships={}, text='Product, the content therein, any warranties to the extent that such warranties have not been disclaimed, and any claims that you or any other party may have relating to that Third-Party Product. You acknowledge and agree that iTunes and its affiliates are third-party beneficiaries of the Licensed Application End User License Agreement or the Publisher’s end user license agreement, as the case may be, for each Third-Party Product. You also agree that, upon your acceptance of the terms and conditions of the license to any such Third-Party Product, iTunes will have the right (and will be deemed to have accepted the right) to enforce such license against you as a third-party beneficiary thereof. IN-APP PURCHASES Certain App Store Products may include functionality that enables you to receive additional services, or licenses to additional functionality or content for use within the App Store Product (\"In App Purchases\"). In App Purchases that are consumed during the use of the App Store Product (for example, virtual ammunition) cannot be transferred among devices; can be downloaded only once; and after being downloaded, cannot be replaced. Once a consumable In App Purchase is acquired and received by you, iTunes shall be without liability to you in the event of any loss, destruction, or damage. All In-App Purchases are deemed App Store Products, and In App Purchases received within Third-Party Products are deemed Third-Party Products, and treated as such, for purposes of these terms and conditions. You must authenticate to acquire In-App Purchases separately from any authentication to obtain App Store Products by entering your password when prompted, but once you have authenticated to obtain an In-App Purchase, you will be able to acquire additional In-App Purchases for fifteen minutes without re-entering your password. You can turn off the ability to acquire In-App Purchases on your iOS Device by going to your Settings, selecting “General” and then selecting the “Restrictions” tab, as outlined at http://support.apple.com/kb/HT4213. IN-APP SUBSCRIPTIONS Certain App Store Products may include functionality that enables you to acquire content on a subscription basis (“In-App Subscriptions”). In-App Subscriptions will automatically renew for the applicable time period you have selected and, where applicable, your Account will be charged no more than 24-hours prior to the expiration of the current In-App Subscription period. You may cancel automatic renewal of paid In-App Subscriptions by selecting Manage App Subscriptions in your Account and selecting the subscription you want to modify. The auto-renew feature of the subscription will be turned off if the Publisher increases the price of the subscription. You may cancel free In-App Subscriptions by deleting the App Store Product from your device. Certain paid In-App Subscriptions may offer a free trial period prior to charging your Account. If you decide you do not want to purchase the In App Subscription, turn off auto-renewal in your Account settings during the free trial period. Certain In-App Subscriptions may be designated as “Newsstand” products, in which case they will appear only within the Newsstand application on your device after download. You should also review additional information about the paid In-App Subscription offer at the point of sale within the App Store Product. We may ask for your permission to provide the name, email address and postcode listed in your Account to the Publisher so that the Publisher can send you marketing messages about its own products in accordance with its privacy policy. Once the Publisher has this information, it will be treated in accordance with the Publisher\\'s publicly posted privacy policy. We encourage you to learn about the privacy practices of the Publisher before agreeing to give it your personal information. For more information, please review the Publisher\\'s privacy policy or contact the Publisher directly. Refunds are available as set out in our refund policy above; no other refunds, returns or cancellations after purchase. POPULAR NEAR ME ', start_char_idx=None, end_char_idx=None, text_template='{metadata_str}\\n\\n{content}', metadata_template='{key}: {value}', metadata_seperator='\\n'),\n",
       " Document(id_='7b81900a-ee91-469f-a5e9-c2670c640950', embedding=None, metadata={'page_label': '21', 'file_name': 'JAN2015.pdf', 'file_path': '/Users/ilyasaden/myrepo/Simmons_Tech_Challenge/data/JAN2015.pdf', 'file_type': 'application/pdf', 'file_size': 229026, 'creation_date': '2024-02-04', 'last_modified_date': '2024-02-04', 'last_accessed_date': '2024-02-04'}, excluded_embed_metadata_keys=['file_name', 'file_type', 'file_size', 'creation_date', 'last_modified_date', 'last_accessed_date'], excluded_llm_metadata_keys=['file_name', 'file_type', 'file_size', 'creation_date', 'last_modified_date', 'last_accessed_date'], relationships={}, text=\"When you opt in to Popular Near Me via enabling Location Services, Apple will, from time to time, automatically collect information related to certain of your App Store Products, such as your time spent with each App Store Product and the number of times each App Store Product is launched. This information is stored anonymously and will not be associated with your name or Account. Apple will use this information, as well as other information, such as your App Store Product download history, to give personalized recommendations to you. Apple may use this information and combine it with aggregated information from other users who opt in to this feature, your iTunes Store purchase history data, your App Store download data, aggregated App Store Product download data from other users, and other information like customer ratings of App Store Products, to: • Provide you with recommendations regarding App Store Products, media, and other products and services that you may wish to purchase, download, or use. • Provide recommendations to other users. At all times your information will be treated in accordance with Apple’s Privacy Policy. If you prefer that we do not collect and use information from your device or system in this manner, you should not enable the Location Services or use Popular Near Me. You can opt out at any time by turning off Popular Near Me in the System Services menu of the Location Services settings on your device. MAC APP STORE PRODUCT USAGE RULES Except as otherwise set forth herein, (i) If you are an individual acting in your personal capacity, you may download and use an application from the Mac App Store (“Mac App Store Product”) for personal, non-commercial use on any Apple-branded products running Mac OS X (“Mac Computer”) that you own or control. (ii) If you are a commercial enterprise or educational institution, you may download a Mac App Store Product for use by either (a) a single individual on each of the Mac Computer(s) used by that individual that you own or control, or (b) multiple individuals on a single shared Mac Computer that you own or control. For example, a single employee may use a Mac App Store Product on both the employee’s desktop Mac Computer and laptop Mac Computer, or multiple students may serially use the Mac App Store Product on a single Mac Computer located at a resource centre or library. For the sake of clarity, each Mac Computer used serially by multiple users requires a separate licence. (iii) Use of Mac App Store Products may require sign-in with the Apple ID used to download the Mac App Store Product from the Mac App Store. Mac App Store Products can be updated through the Mac App Store only. APP STORE PRODUCT USAGE RULES (i) If you are an individual acting in your personal capacity, you may download and sync an App Store Product for personal, noncommercial use on any iOS Device you own or control. (ii) If you are a commercial enterprise or educational institution, you may download and sync an App Store Product for use by either (a) a single individual on one or more iOS Devices used by that individual that you own or control or (b) multiple individuals, on a single shared iOS Device you own or control. For example, a single employee may use an App Store Product on both the employee's iPhone and iPad, or multiple students may serially use an App Store Product on a single iPad located at a resource centre or library. For the sake of clarity, each iOS Device used serially by multiple users requires a separate licence. \", start_char_idx=None, end_char_idx=None, text_template='{metadata_str}\\n\\n{content}', metadata_template='{key}: {value}', metadata_seperator='\\n'),\n",
       " Document(id_='ece71b70-7cea-4b1f-ad6e-49eae19a7929', embedding=None, metadata={'page_label': '22', 'file_name': 'JAN2015.pdf', 'file_path': '/Users/ilyasaden/myrepo/Simmons_Tech_Challenge/data/JAN2015.pdf', 'file_type': 'application/pdf', 'file_size': 229026, 'creation_date': '2024-02-04', 'last_modified_date': '2024-02-04', 'last_accessed_date': '2024-02-04'}, excluded_embed_metadata_keys=['file_name', 'file_type', 'file_size', 'creation_date', 'last_modified_date', 'last_accessed_date'], excluded_llm_metadata_keys=['file_name', 'file_type', 'file_size', 'creation_date', 'last_modified_date', 'last_accessed_date'], relationships={}, text='(iii) You shall be able to store App Store Products from up to five different Accounts at a time on a compatible iOS Device. (iv) You shall be able to manually sync App Store Products from at least one iTunes-authorised device to iOS Devices that have manual sync mode, provided that the App Store Product is associated with an Account on the primary iTunes-authorised device, where the primary iTunes-authorised device is the one that was first synced with the iOS Device or the one that you subsequently designate as primary using the iTunes application. MAC APP STORE AND APP STORE PRODUCT MAINTENANCE AND SUPPORT iTunes will be responsible for providing any maintenance and support services with respect to the Apple Products only, as specified in the Licensed Application End User License Agreement or the separate end user license agreement, as the case may be, or as required under applicable law. The Publisher of any Third-Party Product will be solely responsible for providing maintenance and support services with respect to that Product, as specified in the Licensed Application End User License Agreement or the Publisher end user license agreement, as the case may be, or as required under applicable law. LICENSED APPLICATION END USER LICENCE AGREEMENT The Mac App Store Products and App Store Products (collectively, “App Store Products”) made available through the Mac App Store and App Store (collectively, the “App Stores”) are licensed, not sold, to you. Your licence to each App Store Product that you obtain through the App Stores or associate with your Account is subject to your prior acceptance of this Licensed Application End User Licence Agreement (“Standard EULA”), and you agree that the terms of this Standard EULA will apply to each App Store Product that you license through the App Stores, unless that App Store Product is covered by a valid end user licence agreement entered into between you and the Publisher of that App Store Product, in which case the terms of that separate end user licence agreement will govern. Your licence to any Apple Product under this Standard EULA or separate end user licence agreement is granted by iTunes, and your licence to any Third-Party Product under this Standard EULA or separate end user licence agreement is granted by the Publisher of that Third-Party Product. Any App Store Product that is subject to the licence granted under this Standard EULA is referred to herein as the “Licensed Application”. Publisher or iTunes as applicable (the “Licensor”) reserves all rights in and to the Licensed Application not expressly granted to you under this Standard EULA. a. Scope of License: This licence granted to you for the Licensed Application by Licensor is limited to a nontransferable license to use the Licensed Application on any Apple-branded products running iOS (including but not limited to iPad, iPhone, and iPod touch) (“iOS Devices”) or Mac OS X (“Mac Computers”), as applicable (collectively, “Apple Devices”) that you own or control and as permitted by the Usage Rules set forth in the Mac App Store, App Store and iBooks Store Terms and Conditions (the “Usage Rules”). This licence does not allow you to use the Licensed Application on any Apple Device that you do not own or control, and, except as provided in the Usage Rules, you may not distribute or make the Licensed Application available over a network where it could be used by multiple devices at the same time. You may not rent, lease, lend, sell, transfer, redistribute, or sublicense the Licensed Application and, if you sell your Mac Computer or iOS Device to a third party, you must remove the Licensed Application from the Mac Computer or iOS Device before doing so. You may not copy (except as expressly permitted by this licence and the Usage Rules), decompile, reverse-engineer, disassemble, attempt to derive the source code of, modify, or create derivative works of the Licensed Application, any updates, or any part thereof (except as and only to the extent that any foregoing restriction is prohibited by applicable law or to the extent as may be permitted by the licensing terms governing use of any open-sourced components included with the Licensed Application). Any attempt to do so is a violation of the rights of the Licensor and its licensors. If you breach this restriction, you may be subject to prosecution and damages. ', start_char_idx=None, end_char_idx=None, text_template='{metadata_str}\\n\\n{content}', metadata_template='{key}: {value}', metadata_seperator='\\n'),\n",
       " Document(id_='11364d5b-e5e6-4431-9f48-d357baa2cd10', embedding=None, metadata={'page_label': '23', 'file_name': 'JAN2015.pdf', 'file_path': '/Users/ilyasaden/myrepo/Simmons_Tech_Challenge/data/JAN2015.pdf', 'file_type': 'application/pdf', 'file_size': 229026, 'creation_date': '2024-02-04', 'last_modified_date': '2024-02-04', 'last_accessed_date': '2024-02-04'}, excluded_embed_metadata_keys=['file_name', 'file_type', 'file_size', 'creation_date', 'last_modified_date', 'last_accessed_date'], excluded_llm_metadata_keys=['file_name', 'file_type', 'file_size', 'creation_date', 'last_modified_date', 'last_accessed_date'], relationships={}, text='The terms of this licence will govern any upgrades provided by Licensor that replace and/or supplement the original Licensed Application, unless such upgrade is accompanied by a separate licence in which case the terms of that license will govern. b. Consent to Use of Data: You agree that Licensor may collect and use technical data and related information—including but not limited to technical information about your device, system and application software, and peripherals—that is gathered periodically to facilitate the provision of software updates, product support, and other services to you (if any) related to the Licensed Application. Licensor may use this information, as long as it is in a form that does not personally identify you, to improve its products or to provide services or technologies to you. c. Termination. The licence is effective until terminated by you or Licensor. Your rights under this licence will terminate automatically without notice from the Licensor if you fail to comply with any term(s) of this licence. Upon termination of the licence, you shall cease all use of the Licensed Application and destroy all copies, full or partial, of the Licensed Application. d. Services; Third-Party Materials. The Licensed Application may enable access to Licensor’s and/or third-party services and websites (collectively and individually, \"External Services\"). Use of the External Services requires Internet access and use of certain External Services requires you to accept additional terms. You understand that by using any of the External Services, you may encounter content that may be deemed offensive, indecent, or objectionable, which content may or may not be identified as having explicit language, and that the results of any search or entering of a particular URL may automatically and unintentionally generate links or references to objectionable material. Nevertheless, you agree to use the External Services at your sole risk and that neither the Licensor nor its agents shall have any liability to you for content that may be found to be offensive, indecent, or objectionable. Certain External Services may display, include or make available content, data, information, applications or materials from third parties (“Third Party Materials”) or provide links to certain third party websites. By using the Services, you acknowledge and agree that neither the Licensor nor its agents are responsible for examining or evaluating the content, accuracy, completeness, timeliness, validity, copyright compliance, legality, decency, quality or any other aspect of such Third Party Materials or websites. The Licensor, its agents, officers, affiliates and subsidiaries do not warrant or endorse and do not assume and will not have any liability or responsibility to you or any other person for any External Services, Third Party Materials or websites, or for any other materials, products, or services of third parties. Third Party Materials and links to other websites are provided solely as a convenience to you. Financial information displayed by any External Service is for general informational purposes only and should not be relied on as investment advice. Before executing any securities transaction based on information obtained through the External Services, you should consult with a financial or securities professional who is legally qualified to give financial or securities advice in your country or region. Medical information displayed by any App Store Product or External Service is for general information purposes only and should not be relied upon for medical diagnostic or treatment advice except as directed by a doctor. You should consult with a medical professional before relying on medical information available in an App Store Product. Location data provided by any External Service is for basic navigational purposes only and is not intended to be relied on in situations where precise location information is needed or where erroneous, inaccurate, time-delayed or incomplete location data may lead to death, personal injury, or property or environmental damage. Neither the Licensor, its agents nor any of its content providers guarantees the availability, accuracy, completeness, reliability, or timeliness of stock information, location data or any other data displayed by any External Services. ', start_char_idx=None, end_char_idx=None, text_template='{metadata_str}\\n\\n{content}', metadata_template='{key}: {value}', metadata_seperator='\\n'),\n",
       " Document(id_='7fa119ad-3b1b-4ac8-97dd-31ca563b85c9', embedding=None, metadata={'page_label': '24', 'file_name': 'JAN2015.pdf', 'file_path': '/Users/ilyasaden/myrepo/Simmons_Tech_Challenge/data/JAN2015.pdf', 'file_type': 'application/pdf', 'file_size': 229026, 'creation_date': '2024-02-04', 'last_modified_date': '2024-02-04', 'last_accessed_date': '2024-02-04'}, excluded_embed_metadata_keys=['file_name', 'file_type', 'file_size', 'creation_date', 'last_modified_date', 'last_accessed_date'], excluded_llm_metadata_keys=['file_name', 'file_type', 'file_size', 'creation_date', 'last_modified_date', 'last_accessed_date'], relationships={}, text='You agree that the External Services contain proprietary content, information and material that is owned by Licensor and/or its agents or licensors, and is protected by applicable intellectual property and other laws, including but not limited to copyright, and that you will not use such proprietary content, information or materials in any way whatsoever except for permitted use of the External Services or in any manner that is inconsistent with the terms of this Standard EULA or that infringes any intellectual property rights of a third party, iTunes or Apple. No portion of the External Services may be reproduced in any form or by any means. You agree not to modify, rent, lease, loan, sell, distribute, or create derivative works based on the External Services in any manner, and you shall not exploit the External Services in any unauthorised way whatsoever, including, but not limited to, by using the External Services to transmit any computer viruses, worms, Trojan horses or other malware, or by trespass or burdening network capacity. You further agree not to use the External Services in any manner to harass, abuse, stalk, threaten, defame or otherwise infringe or violate the rights of any other party, and that neither Licensor nor its agents are in any way responsible for any such use by you, nor for any harassing, threatening, defamatory, offensive, infringing or illegal messages or transmissions that you may receive as a result of using any of the External Services. In addition, External Services and Third Party Materials that may be accessed from, displayed on or linked to from the Apple Devices are not available in all languages or in all countries or regions. The Licensor makes no representation that such External Services and Materials are appropriate or available for use in any particular location. To the extent you choose to use or access such External Services and Materials, you do so at your own initiative and are responsible for compliance with any applicable laws, including but not limited to applicable local laws. Licensor reserves the right to change, suspend, remove, or disable access to any External Services at any time without notice. In no event will the Licensor be liable for the removal of or disabling of access to any such External Services. The Licensor may also impose limits on the use of or access to certain External Services, in any case and without notice or liability. e. NO WARRANTY: Licensor will use reasonable care and skill with respect to the provision of the Licensed Application and any External Services performed or provided by the Licensed Application to you. Licensor does not make any other promises or warranties about the External Services and in particular does not warrant that: (i) your used of the External Services will be uninterrupted or error-free; (ii) the External Services will be free from loss, corruption, attack, viruses, interference, hacking, or other security intrusion, and Licensor disclaims any liability relating thereto. You shall be responsible for backing up your own system, including any Licensed Application that is stored on your system. f. Limitation of Liability. (i) Except as set out in section (ii) hereunder, in no case shall Licensor, its directors, officers, employees, affiliates, agents, contractors, principals or licensors be liable for any loss or damage caused by Licensor, its employees or agents where: (1) there is no breach of a legal duty of care owed to you by Licensor or by any of its employees or agents; (2) it is not a reasonably foreseeable result of any such breach; (3) any increase in loss or damage results from breach by you of any term of this End User Licence Agreement (\"Agreement\"); (4) it results from a decision by Licensor to warn you, to suspend or terminate your access to the External Services, or to take any other action during the investigation of a suspected violation or as a result of Licensor’s conclusion that a violation of this Agreement has occurred; ', start_char_idx=None, end_char_idx=None, text_template='{metadata_str}\\n\\n{content}', metadata_template='{key}: {value}', metadata_seperator='\\n'),\n",
       " Document(id_='8ea5a2f6-14b7-4418-8927-aaebf148140e', embedding=None, metadata={'page_label': '25', 'file_name': 'JAN2015.pdf', 'file_path': '/Users/ilyasaden/myrepo/Simmons_Tech_Challenge/data/JAN2015.pdf', 'file_type': 'application/pdf', 'file_size': 229026, 'creation_date': '2024-02-04', 'last_modified_date': '2024-02-04', 'last_accessed_date': '2024-02-04'}, excluded_embed_metadata_keys=['file_name', 'file_type', 'file_size', 'creation_date', 'last_modified_date', 'last_accessed_date'], excluded_llm_metadata_keys=['file_name', 'file_type', 'file_size', 'creation_date', 'last_modified_date', 'last_accessed_date'], relationships={}, text='(5) it relates to loss of income, business or profits, or any loss or corruption of data in connection with your use of the Licensed Application. (ii) Nothing in this Agreement removes or limits Licensor’s liability for fraud, gross negligence, wilful misconduct, or for death or personal injury caused by its negligence. g. You may not use or otherwise export or re-export the Licensed Application except as authorised by United States law and the laws of the jurisdiction in which the Licensed Application was obtained. In particular, but without limitation, the Licensed Application may not be exported or re-exported (a) into any U.S.-embargoed countries or (b) to anyone on the U.S. Treasury Department\\'s Specially Designated Nationals List or the U.S. Department of Commerce Denied Persons List or Entity List. By using the Licensed Application, you represent and warrant that you are not located in any such country or on any such list. You also agree that you will not use these products for any purposes prohibited by United States law, including, without limitation, the development, design, manufacture, or production of nuclear, missile, or chemical or biological weapons. h. The Licensed Application and related documentation are \"Commercial Items\", as that term is defined at 48 C.F.R. §2.101, consisting of \"Commercial Computer Software\" and \"Commercial Computer Software Documentation\", as such terms are used in 48 C.F.R. §12.212 or 48 C.F.R. §227.7202, as applicable. Consistent with 48 C.F.R. §12.212 or 48 C.F.R. §227.7202-1 through 227.7202-4, as applicable, the Commercial Computer Software and Commercial Computer Software Documentation are being licensed to U.S. Government end users (a) only as Commercial Items and (b) with only those rights as are granted to all other end users pursuant to the terms and conditions herein. Unpublished-rights reserved under the copyright laws of the United States. i. English laws govern this license and your use of the Licensed Application. Your use of the Licensed Application may also be subject to other local, state, national, or international laws. FURTHER IBOOKS STORE TERMS AND CONDITIONS LICENSE OF IBOOKS STORE PRODUCTS You acknowledge that iTunes is selling you a licence to use the content made available through the iBooks Store (the “iBooks Store Products”). Once purchased from iTunes, that licence forms a binding agreement directly between you and the third-party publisher of that iBooks Store Product (the “Publisher”) governing your use of that iBooks Store Product; iTunes is not a party to the licence between you and the Publisher with respect to that iBooks Store Product; and the Publisher of each iBooks Store Product reserves the right to enforce the terms of use relating to that iBooks Store Product. The Publisher of each iBooks Store Product is solely responsible for that iBooks Store Product, the content therein, any warranties to the extent that such warranties have not been disclaimed, and any claims that you or any other party may have relating to that iBooks Store Product or your use of that iBooks Store Product. You acknowledge that any iBooks Store Product purchased on a computer will not be viewable on any computer, and will be viewable only on an iOS device with compatible software. IBOOKS STORE PRODUCT USAGE RULES (i) You shall be authorised to use the iBooks Store Products only for personal, noncommercial use. (ii) You shall be able to store iBooks Store Products from up to five different Accounts at a time on certain iOS-based devices, such as an iPad, iPod touch, or iPhone. (iii) You shall be able to store iBooks Store Products on five iTunes-authorised devices (such as a computer) at any time. ', start_char_idx=None, end_char_idx=None, text_template='{metadata_str}\\n\\n{content}', metadata_template='{key}: {value}', metadata_seperator='\\n'),\n",
       " Document(id_='62496f69-2401-4a91-a515-98969fbe8c91', embedding=None, metadata={'page_label': '26', 'file_name': 'JAN2015.pdf', 'file_path': '/Users/ilyasaden/myrepo/Simmons_Tech_Challenge/data/JAN2015.pdf', 'file_type': 'application/pdf', 'file_size': 229026, 'creation_date': '2024-02-04', 'last_modified_date': '2024-02-04', 'last_accessed_date': '2024-02-04'}, excluded_embed_metadata_keys=['file_name', 'file_type', 'file_size', 'creation_date', 'last_modified_date', 'last_accessed_date'], excluded_llm_metadata_keys=['file_name', 'file_type', 'file_size', 'creation_date', 'last_modified_date', 'last_accessed_date'], relationships={}, text='(iv) The delivery of iBooks Store Products does not transfer to you any promotional use rights in the iBooks Store Products or any rights to burn the iBooks Store Products to disc. (v) You shall be able to manually sync iBooks Store Products from at least one iTunes-authorised device to devices that have manual sync mode, provided that the iBooks Store Product is associated with an Account on the primary iTunes-authorised device, where the primary iTunes-authorised device is the one that was first synced with the device or the one that you subsequently designate as primary using iTunes. Last Updated: January 2, 2015  ', start_char_idx=None, end_char_idx=None, text_template='{metadata_str}\\n\\n{content}', metadata_template='{key}: {value}', metadata_seperator='\\n'),\n",
       " Document(id_='b7a77a52-7779-4ed2-b76c-feede02ff506', embedding=None, metadata={'page_label': '1', 'file_name': 'MAR2023.pdf', 'file_path': '/Users/ilyasaden/myrepo/Simmons_Tech_Challenge/data/MAR2023.pdf', 'file_type': 'application/pdf', 'file_size': 147046, 'creation_date': '2024-02-04', 'last_modified_date': '2024-02-04', 'last_accessed_date': '2024-02-04'}, excluded_embed_metadata_keys=['file_name', 'file_type', 'file_size', 'creation_date', 'last_modified_date', 'last_accessed_date'], excluded_llm_metadata_keys=['file_name', 'file_type', 'file_size', 'creation_date', 'last_modified_date', 'last_accessed_date'], relationships={}, text='Apple Media Services Terms and Conditions These terms and conditions create a contract between you and Apple (the “Agreement”). Please read the Agreement carefully. A. INTRODUCTION TO OUR SERVICES This Agreement governs your use of Apple’s Services (“Services” – e.g., and where available, App Store, Apple Arcade, Apple Books, Apple Fitness+, Apple Music, Apple News, Apple News+, Apple One, Apple Podcasts, Apple Podcasts Subscriptions, Apple TV, Apple TV+, Apple TV Channels, Game Center, iTunes), through which you can buy, get, license, rent or subscribe to content, Apps (as defined below), and other in-app services (collectively, “Content”). Content may be offered through the Services by Apple or a third party. Our Services are available for your use in your country or territory of residence (“Home Country”). By creating an account for use of the Services in a particular country or territory you are specifying it as your Home Country. To use our Services, you need compatible hardware, software (latest version recommended and sometimes required) and Internet access (fees may apply). Our Services’ performance may be affected by these factors. B. USING OUR SERVICES PAYMENTS, TAXES AND REFUNDS You can acquire Content on our Services for free or for a charge, either of which is referred to as a “Transaction”. By each Transaction, you acquire a license to use the Content only. Each Transaction is an electronic contract between you and Apple and/or you and the entity providing the Content on our Services. However, if you are a customer of Apple Distribution International Ltd., Apple Distribution International Ltd. is the merchant of record for some Content you acquire from Apple Books, Apple Podcasts, or App Store as displayed on the product page and/or during the acquisition process for the relevant Service. In such case, you acquire the Content from Apple Distribution International Ltd., which is licensed by the Content provider (e.g., App Provider (as defined below), book publisher, etc.). When you make your first Transaction, we will ask you to choose how frequently we should ask for your password for future Transactions. On applicable Apple hardware, if you enable Touch ID for Transactions, we will ask you to authenticate all Transactions with your fingerprint, and if you enable Face ID for Transactions, we will ask you to authenticate all Transactions using facial recognition. Manage your password settings at any time by following these instructions: https://support.apple.com/HT204030. ', start_char_idx=None, end_char_idx=None, text_template='{metadata_str}\\n\\n{content}', metadata_template='{key}: {value}', metadata_seperator='\\n'),\n",
       " Document(id_='d665fa0a-c2d4-4d36-a1bd-33b23f5a0f8f', embedding=None, metadata={'page_label': '2', 'file_name': 'MAR2023.pdf', 'file_path': '/Users/ilyasaden/myrepo/Simmons_Tech_Challenge/data/MAR2023.pdf', 'file_type': 'application/pdf', 'file_size': 147046, 'creation_date': '2024-02-04', 'last_modified_date': '2024-02-04', 'last_accessed_date': '2024-02-04'}, excluded_embed_metadata_keys=['file_name', 'file_type', 'file_size', 'creation_date', 'last_modified_date', 'last_accessed_date'], excluded_llm_metadata_keys=['file_name', 'file_type', 'file_size', 'creation_date', 'last_modified_date', 'last_accessed_date'], relationships={}, text='Apple will charge your selected payment method for any paid Transactions, including any applicable taxes. If you have also added it to your Apple Wallet, Apple may charge your selected payment method in Apple Wallet using Apple Pay. You can associate multiple payment methods with your Apple ID, and you agree that Apple may store and charge those payment methods for Transactions. Your primary payment method appears at the top of your account settings payments page. If your primary payment method cannot be charged for any reason (such as expiration or insufficient funds), you authorize Apple to attempt to charge your other eligible payment methods in order from top to bottom as they appear on your account settings payments page. If we cannot charge you , you remain responsible for any uncollected amounts, and we may attempt to charge you again or request that you provide another payment method. If you pre-order Content, you will be charged when the Content is delivered to you (unless you cancel prior to the Content’s availability). In accordance with local law, Apple may automatically update your payment information regarding your payment methods, if provided such information by the payment networks or your financial institutions. Terms related to store credit and gift cards/codes are available here: https://www.apple.com/legal/internet-services/itunes/giftcards/. For more details about how Transactions are billed, please visit https://support.apple.com/HT201359. You agree to receipt of all invoices in an electronic format, which may include email. Content prices may change at any time. If technical problems prevent or unreasonably delay delivery of Content, your exclusive and sole remedy is either replacement of the Content or refund of the price paid, as determined by Apple. From time to time, Apple may suspend or cancel payment or refuse a refund request if we find evidence of fraud, abuse, or unlawful or other manipulative behavior that entitles Apple to a corresponding counterclaim. Right of cancellation: If you choose to cancel your order, you may do so within 14 days of when you received your receipt, without giving any reason. To cancel your order, you must inform us of your decision. To ensure immediate processing we recommend you use Report a Problem to cancel all items with the exception of Complete My Season, which can be cancelled by contacting iTunes Support. Subscription services can only be cancelled following the initial subscription and not upon each automatic renewal. You also have the right to inform us using the model cancellation form below or by making any other clear statement. If you use Report a Problem we will communicate acknowledgement of receipt of your cancellation to you without delay. To meet the cancellation deadline, you must send your communication of cancellation before the 14-day period has expired. Effects of cancellation: We will reimburse you no later than 14 days from the day on which we receive your cancellation notice. We will use the same means of payment as you used for the Transaction, and you will not incur any fees for such reimbursement. ', start_char_idx=None, end_char_idx=None, text_template='{metadata_str}\\n\\n{content}', metadata_template='{key}: {value}', metadata_seperator='\\n'),\n",
       " Document(id_='cc60aebd-3660-4ff4-8ff8-e0578f3bb508', embedding=None, metadata={'page_label': '3', 'file_name': 'MAR2023.pdf', 'file_path': '/Users/ilyasaden/myrepo/Simmons_Tech_Challenge/data/MAR2023.pdf', 'file_type': 'application/pdf', 'file_size': 147046, 'creation_date': '2024-02-04', 'last_modified_date': '2024-02-04', 'last_accessed_date': '2024-02-04'}, excluded_embed_metadata_keys=['file_name', 'file_type', 'file_size', 'creation_date', 'last_modified_date', 'last_accessed_date'], excluded_llm_metadata_keys=['file_name', 'file_type', 'file_size', 'creation_date', 'last_modified_date', 'last_accessed_date'], relationships={}, text='Exception to the right of cancellation: You cannot cancel your order for the supply of Content if the delivery has started upon your request and acknowledgement that you thereby lose your cancellation right. Model cancellation form: - To Apple Distribution International Ltd., iTunes Store Customer Support, Hollyhill Industrial Estate, Hollyhill, Cork, Republic of Ireland, rightofwithdrawal@apple.com: - I hereby give notice that I withdraw from my contract for the following: [INSERT ORDER ID, ITEM, ARTIST AND TYPE] - Ordered on [INSERT DATE] / received on [INSERT DATE] - Name of consumer - Address of consumer - Email address of consumer - Date ACCOUNT Using our Services and accessing your Content may require an Apple ID. An Apple ID is the account you use across Apple’s ecosystem. Use of Game Center is subject to this Agreement and also requires a Game Center account. Your account is valuable, and you are responsible for maintaining its confidentiality and security. Apple is not responsible for any losses arising from the unauthorized use of your account. Please contact Apple if you suspect that your account has been compromised. You must be age 13 (or equivalent minimum age in your Home Country, as set forth in the Apple ID creation process) to create an account and use our Services. Apple IDs for persons under this age can be created by a parent or legal guardian using Family Sharing or by an approved educational institution. A parent or legal guardian who is creating an account for a minor should review this Agreement with the minor to ensure that they both understand it. You may add, notify, or remove a Legacy Contact for your Apple ID as described in http://support.apple.com/HT212360. A Legacy Contact’s access to your Apple ID is limited as described in http://support.apple.com/HT212361. PRIVACY Your use of our Services is subject to Apple’s Privacy Policy, which is available at https://www.apple.com/legal/privacy/. SERVICES AND CONTENT USAGE RULES ', start_char_idx=None, end_char_idx=None, text_template='{metadata_str}\\n\\n{content}', metadata_template='{key}: {value}', metadata_seperator='\\n'),\n",
       " Document(id_='717dee07-243e-430b-b2fc-542996388f30', embedding=None, metadata={'page_label': '4', 'file_name': 'MAR2023.pdf', 'file_path': '/Users/ilyasaden/myrepo/Simmons_Tech_Challenge/data/MAR2023.pdf', 'file_type': 'application/pdf', 'file_size': 147046, 'creation_date': '2024-02-04', 'last_modified_date': '2024-02-04', 'last_accessed_date': '2024-02-04'}, excluded_embed_metadata_keys=['file_name', 'file_type', 'file_size', 'creation_date', 'last_modified_date', 'last_accessed_date'], excluded_llm_metadata_keys=['file_name', 'file_type', 'file_size', 'creation_date', 'last_modified_date', 'last_accessed_date'], relationships={}, text='Your use of the Services and Content must follow the rules set forth in this section (“Usage Rules”). Any other use of the Services and Content is a material breach of this Agreement. Apple may monitor your use of the Services and Content to ensure that you are following these Usage Rules. All Services: - You may use the Services and Content only for personal, noncommercial purposes (except as set forth in the App Store Content section below or as otherwise specified by Apple). - Apple’s delivery of Services or Content does not transfer any commercial or promotional use rights to you, and does not constitute a grant or waiver of any rights of the copyright owners. - You can use Content from up to five different Apple IDs on each device. - For any Service, you can have up to 10 devices (but only a maximum of 5 computers) signed in with your Apple ID at one time, though simultaneous streams or downloads of Content may be limited to a lower number of devices as set out below under Apple Music and Apple TV content. Each computer must also be authorized using the same Apple ID (to learn more about authorization of computers, visit https://support.apple.com/HT201251). Devices can be associated with a different Apple ID once every 90 days. - Manipulating play counts, downloads, ratings, or reviews via any means — such as (i) using a bot, script, or automated process; or (ii) providing or accepting any kind of compensation or incentive — is prohibited. - It is your responsibility not to lose, destroy or damage Content once downloaded. We encourage you to back up your Content regularly. - You may not tamper with or circumvent any security technology included with the Services or Content. - You may access our Services only using Apple’s software, and may not modify or use modified versions of such software. - Video Content requires an HDCP connection. Audio and Video Content Sales and Rentals: - You can use Digital Rights Management (DRM)-free Content on a reasonable number of compatible devices that you own or control. DRM-protected Content can be used on up to five computers and any number of devices that you sync to from those computers. - Content rentals are viewable on a single device at a time, and must be played within 30 days, and completed within 48 hours of the start of play (stopping, pausing or restarting does not extend this period). ', start_char_idx=None, end_char_idx=None, text_template='{metadata_str}\\n\\n{content}', metadata_template='{key}: {value}', metadata_seperator='\\n'),\n",
       " Document(id_='2288df01-cff1-4b96-b44e-6e18ca9e01ea', embedding=None, metadata={'page_label': '5', 'file_name': 'MAR2023.pdf', 'file_path': '/Users/ilyasaden/myrepo/Simmons_Tech_Challenge/data/MAR2023.pdf', 'file_type': 'application/pdf', 'file_size': 147046, 'creation_date': '2024-02-04', 'last_modified_date': '2024-02-04', 'last_accessed_date': '2024-02-04'}, excluded_embed_metadata_keys=['file_name', 'file_type', 'file_size', 'creation_date', 'last_modified_date', 'last_accessed_date'], excluded_llm_metadata_keys=['file_name', 'file_type', 'file_size', 'creation_date', 'last_modified_date', 'last_accessed_date'], relationships={}, text='- You may burn an audio playlist of purchased music to disc for listening purposes up to seven times; this limitation does not apply to DRM-free Content. Other Content may not be burned to disc. You may use the disc to which you have burned your Content in the same ways in which you may use a disc purchased from a retail store, subject to local copyright laws. - Purchased Content will generally remain available for you to download, redownload, or otherwise access from Apple. Though it is unlikely, subsequent to your purchase, Content may be removed from the Services (for instance, because the provider removed it) and become unavailable for further download or access from Apple. To ensure your ability to continue enjoying Content, we encourage you to download all purchased Content to a device in your possession and to back it up. App Store Content: - The term “Apps” includes apps and App Clips for any Apple platform and/or operating system, including any in-app purchases, extensions (such as keyboards), stickers, and subscriptions made available in such apps or App Clips. - Individuals acting on behalf of a commercial enterprise, governmental organization or educational institution (an “Enterprise”) may download and sync non-Arcade Apps for use by either (i) a single individual on one or more devices owned or controlled by an Enterprise; or (ii) multiple individuals on a single shared device owned or controlled by an Enterprise. For the sake of clarity, each device used serially or collectively by multiple users requires a separate license. Apple Music: - An Individual Apple Music membership allows you to stream on a single device at a time; a Family membership allows you or your Family members to stream on up to six devices at a time. Apple Arcade: - Apple Arcade Apps may only be downloaded, or redownloaded, with a valid Apple Arcade trial or subscription. - If your subscription ends, Apps downloaded via Apple Arcade will no longer be accessible to you. Apple TV Content: - For most channels, you can stream video Content on up to three devices simultaneously. - Learn more about Apple TV Content Usage Rules at https://support.apple.com/HT210074. DOWNLOADS ', start_char_idx=None, end_char_idx=None, text_template='{metadata_str}\\n\\n{content}', metadata_template='{key}: {value}', metadata_seperator='\\n'),\n",
       " Document(id_='54136c70-89a5-4439-9df9-90810448492c', embedding=None, metadata={'page_label': '6', 'file_name': 'MAR2023.pdf', 'file_path': '/Users/ilyasaden/myrepo/Simmons_Tech_Challenge/data/MAR2023.pdf', 'file_type': 'application/pdf', 'file_size': 147046, 'creation_date': '2024-02-04', 'last_modified_date': '2024-02-04', 'last_accessed_date': '2024-02-04'}, excluded_embed_metadata_keys=['file_name', 'file_type', 'file_size', 'creation_date', 'last_modified_date', 'last_accessed_date'], excluded_llm_metadata_keys=['file_name', 'file_type', 'file_size', 'creation_date', 'last_modified_date', 'last_accessed_date'], relationships={}, text='You may be limited in the amount of Content you may download, and some downloaded Content may expire after a given amount of time after downloaded or first played. Certain Content may not be available for download at all. You may be able to redownload previously acquired Content (“Redownload”) to your devices that are signed in with the same Apple ID (“Associated Devices”). You can see Content types available for Redownload in your Home Country at https://support.apple.com/HT204632. Content may not be available for Redownload if that Content is no longer offered on our Services. Content also may be removed from our Services at any time (for instance, because the provider removed it), after which it cannot be downloaded, redownloaded, or otherwise accessed from Apple. SUBSCRIPTIONS The Services and certain Apps may allow you to purchase access to Content or Services on a subscription basis (“Paid Subscriptions”). Paid Subscriptions automatically renew until cancelled in the Manage Subscriptions section of your account settings. To learn more about cancelling your subscriptions, visit https://support.apple.com/HT202039. You will be notified if the price of a Paid Subscription increases and, if required, your consent will be required to continue. You will be charged no more than 24 hours prior to the start of the latest Paid Subscription period. If we cannot charge your payment method for any reason (such as expiration or insufficient funds), and you have not cancelled the Paid Subscription, you remain responsible for any uncollected amounts, and we will attempt to charge the payment method as you may update your payment method information. This may result in a change to the start of your next Paid Subscription period and may change the date on which you are billed for each period, as displayed on your receipt. We reserve the right to cancel your Paid Subscription if we are unable to successfully charge your payment method to renew your subscription. Certain Paid Subscriptions may offer a free trial prior to charging your payment method. If you decide to unsubscribe from a Paid Subscription before we start charging your payment method, cancel the subscription at least 24 hours before the free trial ends. If you start a free trial to a Paid Subscription offered by Apple as Content provider (an “Apple Paid Subscription”) and cancel before it ends, you cannot reactivate the free trial. Free trials or free offers to Apple Paid Subscriptions, excluding iCloud, cannot be combined with any free trials or offers of Apple One. If you are in a free trial or free offer for any Apple Paid Subscriptions, and you subscribe to Apple One, your free trial(s) or offer(s) will not be paused even if you have access to such Apple Paid Subscription(s) through your Apple One subscription. You acknowledge that your free trial or free offer may expire while you are a Paid Subscriber to Apple One, and Apple shall have no obligation to reinstate, reimburse, or otherwise compensate you for any part of such expired free trial or free offer. ', start_char_idx=None, end_char_idx=None, text_template='{metadata_str}\\n\\n{content}', metadata_template='{key}: {value}', metadata_seperator='\\n'),\n",
       " Document(id_='1eb0addb-71f7-45d9-93c0-3932e35d4023', embedding=None, metadata={'page_label': '7', 'file_name': 'MAR2023.pdf', 'file_path': '/Users/ilyasaden/myrepo/Simmons_Tech_Challenge/data/MAR2023.pdf', 'file_type': 'application/pdf', 'file_size': 147046, 'creation_date': '2024-02-04', 'last_modified_date': '2024-02-04', 'last_accessed_date': '2024-02-04'}, excluded_embed_metadata_keys=['file_name', 'file_type', 'file_size', 'creation_date', 'last_modified_date', 'last_accessed_date'], excluded_llm_metadata_keys=['file_name', 'file_type', 'file_size', 'creation_date', 'last_modified_date', 'last_accessed_date'], relationships={}, text='When your Paid Subscription to any Service or Content ends, you will lose access to any functionality or Content of that Service that requires a Paid Subscription. CONTENT AND SERVICE AVAILABILITY Terms found in this Agreement that relate to Services, Content types, features or functionality not available in your Home Country are not applicable to you, unless and until they become available to you. To see the Content types available to you in your Home Country, go to the Services or visit https://support.apple.com/HT204411. Certain Services and Content available to you in your Home Country may not be available to you when traveling outside of your Home Country except if required by law. THIRD-PARTY DEVICES AND EQUIPMENT You may not be able to use all features of the Services when accessing them on a non-Apple-branded device. Additionally, certain Services may require, direct, or suggest you use third-party equipment in some circumstances and/or for certain activities; such use is subject to the terms and conditions of such equipment and should be made in accordance with the applicable manufacturer’s instructions. By using the Services, you agree that Apple may automatically download and install minor updates to its software on third-party equipment from time to time. C. YOUR SUBMISSIONS TO OUR SERVICES Our Services may allow you to submit or post materials such as comments, ratings and reviews, pictures, videos and podcasts (including associated metadata and artwork). Your use of such features must comply with the Submissions Guidelines below, which may be updated from time to time, and if we become aware of materials that violate our Submission Guidelines we will remove them. If you see materials that do not comply with the Submissions Guidelines, please use the Report a Concern feature. Except to the extent prohibited by law, you hereby grant Apple a worldwide, royalty-free, perpetual, nonexclusive license to use the materials you submit within the Services and related marketing as well as to use the materials you submit for Apple internal purposes. Apple may monitor and decide to remove or edit any submitted material. Submissions Guidelines: You may not use the Services to: - post any materials that (i) you do not have permission, right or license to use, or (ii) infringe on the rights of any third party; - post objectionable, offensive, unlawful, deceptive, inaccurate, or harmful content; - post personal, private or confidential information belonging to others; - request personal information from a minor; - impersonate or misrepresent your affiliation with another person or entity; ', start_char_idx=None, end_char_idx=None, text_template='{metadata_str}\\n\\n{content}', metadata_template='{key}: {value}', metadata_seperator='\\n'),\n",
       " Document(id_='68efdf7f-b14f-4b12-bd7e-9848291962c4', embedding=None, metadata={'page_label': '8', 'file_name': 'MAR2023.pdf', 'file_path': '/Users/ilyasaden/myrepo/Simmons_Tech_Challenge/data/MAR2023.pdf', 'file_type': 'application/pdf', 'file_size': 147046, 'creation_date': '2024-02-04', 'last_modified_date': '2024-02-04', 'last_accessed_date': '2024-02-04'}, excluded_embed_metadata_keys=['file_name', 'file_type', 'file_size', 'creation_date', 'last_modified_date', 'last_accessed_date'], excluded_llm_metadata_keys=['file_name', 'file_type', 'file_size', 'creation_date', 'last_modified_date', 'last_accessed_date'], relationships={}, text=\"- post or transmit spam, including but not limited to unsolicited or unauthorized advertising, promotional materials or informational announcements; - post, modify, or remove a rating or review in exchange for any kind of compensation or incentive; - post a dishonest, abusive, harmful, misleading, or bad-faith rating or review, or a rating or review that is irrelevant to the Content being reviewed; - plan or engage in any illegal, fraudulent or manipulative activity. D. FAMILY SHARING The organizer of a Family (“Organizer”) must be 18 years (or the equivalent age of majority in your Home Country) or older and the parent or legal guardian of any Family member under age 13 (or the equivalent minimum age in their Home Country as set forth in the registration process). Apple devices are required for access to all of the Family Sharing features. Family Sharing allows eligible subscriptions to be shared among up to six members of a Family. To learn more about Family Sharing visit: https://support.apple.com/HT201060. Purchase Sharing: Family Sharing’s Purchase Sharing feature allows eligible Content to be shared among up to six members of a Family. The Organizer invites other members to participate, and agrees to pay for all Transactions initiated by Family members. The Organizer's eligible payment methods are used to pay for any Transaction initiated by a Family member (except when the Family member’s account has store credit, which is always used first). Family members are acting as agents for the Organizer when the Organizer’s eligible payment methods are used. The Organizer hereby agrees (1) to pay for such Transactions; (2) that Transactions initiated by Family members are authorized; and (3) Transactions will be charged to eligible payment methods in the manner indicated in Section B above. Organizers are responsible for complying with their payment method contracts, and assume all risk related to sharing access to their eligible payment methods with Family members. A receipt or invoice for any Family member Transaction is sent to the initiating Family member and, if billed to the Organizer’s payment method, also to the Organizer. Ask to Buy: Ask to Buy is a feature that allows an Organizer to approve Transactions initiated by a Family member under age 18 (or the equivalent age of majority in your Home Country). Content shared by Family members or acquired via content codes generally is not subject to Ask to Buy; content codes facilitating access to subscriptions are subject to Ask to Buy. The Organizer must be the parent or legal guardian of any Family member for whom Ask to Buy is activated. Ask to Buy is enabled by default for any Family member under the age of 13 (or the equivalent minimum age in their Home Country) and stays on until deactivated by the parent or legal guardian. If Ask to Buy is turned off after the Family member turns 18 years old, it cannot be turned on anymore. Ask to Buy does not require Purchase Sharing to be enabled. \", start_char_idx=None, end_char_idx=None, text_template='{metadata_str}\\n\\n{content}', metadata_template='{key}: {value}', metadata_seperator='\\n'),\n",
       " Document(id_='161960ff-3406-43ad-814f-0046a4f7a813', embedding=None, metadata={'page_label': '9', 'file_name': 'MAR2023.pdf', 'file_path': '/Users/ilyasaden/myrepo/Simmons_Tech_Challenge/data/MAR2023.pdf', 'file_type': 'application/pdf', 'file_size': 147046, 'creation_date': '2024-02-04', 'last_modified_date': '2024-02-04', 'last_accessed_date': '2024-02-04'}, excluded_embed_metadata_keys=['file_name', 'file_type', 'file_size', 'creation_date', 'last_modified_date', 'last_accessed_date'], excluded_llm_metadata_keys=['file_name', 'file_type', 'file_size', 'creation_date', 'last_modified_date', 'last_accessed_date'], relationships={}, text='Family Member changes: When a Family member leaves or is removed from the Family, the remaining Family members may no longer be able to access the former member’s Content, including Content acquired with the Organizer’s payment method. Family Sharing Rules: You can only belong to one Family at a time, and may join any Family no more than twice per year. You can change the Apple ID you associate with a Family no more than once every 90 days. All Family members must share the same Home Country. Not all Content, including In-App Purchases, subscriptions, and some previously acquired Apps, are eligible for Purchase Sharing. Apple TV+, Apple TV Channels, Apple One Family, Apple One Premier, Apple Music Family, Apple Arcade, Apple News+, and Apple Fitness+ subscriptions are automatically enabled for Family Sharing. Subscriptions shared by a Family may be subject to Content usage limitations on a per subscription basis. E. SERIES PASS AND MULTI-PASS A Pass allows you to purchase and receive television Content as it becomes available. A Series Pass applies to television Content that has a limited number of episodes per series; a Multi-Pass applies to television Content that is available on an ongoing basis. The full price of a Series Pass or Multi-Pass is charged at the time of the Transaction. Series Pass or Multi-Pass Content is available for download up to 90 days after the last episode becomes available. If a Content provider delivers to Apple fewer TV episodes than planned when you purchased a Series Pass, we will credit to your Apple ID the retail value of the corresponding number of episodes that were not provided to Apple. F. ADDITIONAL APP STORE TERMS (EXCLUDING APPLE ARCADE APPS) LICENSE OF APP STORE CONTENT App licenses are provided to you by Apple or a third party developer (“App Provider”). Apple acts as an agent for App Providers in operating the App Store and is not a party to the sales contract or user agreement between you and the App Provider. However, if you are a customer of Apple Distribution International Ltd., the merchant of record is Apple Distribution International Ltd., which means that you acquire the App license from Apple Distribution International Ltd., but the App is licensed by the App Provider. An App licensed by Apple is an “Apple App”; an App licensed by an App Provider is a “Third Party App\". Any App that you acquire is governed by the Licensed Application End User License Agreement (“Standard EULA”) set forth below, unless Apple or the App Provider provides an overriding custom license agreement (“Custom EULA”). The App Provider of any Third Party App is solely responsible for its content, warranties, and claims that you may have related to the Third Party App, subject to local law. You acknowledge and agree that Apple is a third-party beneficiary of the Standard EULA or Custom EULA applicable to each Third Party App and may therefore enforce such agreement. Certain Apps, such as stickers and iMessage apps, may not appear on the device springboard but can be accessed and used in the Messages app drawer. ', start_char_idx=None, end_char_idx=None, text_template='{metadata_str}\\n\\n{content}', metadata_template='{key}: {value}', metadata_seperator='\\n'),\n",
       " Document(id_='98442124-61ee-48cf-85e7-50551ee09ad7', embedding=None, metadata={'page_label': '10', 'file_name': 'MAR2023.pdf', 'file_path': '/Users/ilyasaden/myrepo/Simmons_Tech_Challenge/data/MAR2023.pdf', 'file_type': 'application/pdf', 'file_size': 147046, 'creation_date': '2024-02-04', 'last_modified_date': '2024-02-04', 'last_accessed_date': '2024-02-04'}, excluded_embed_metadata_keys=['file_name', 'file_type', 'file_size', 'creation_date', 'last_modified_date', 'last_accessed_date'], excluded_llm_metadata_keys=['file_name', 'file_type', 'file_size', 'creation_date', 'last_modified_date', 'last_accessed_date'], relationships={}, text='IN-APP PURCHASES Apps may offer content, services or functionality for use within such Apps (“In-App Purchases”). In-App Purchases that are consumed during the use of the App (for example, virtual gems) cannot be transferred among devices and can be downloaded only once. You must authenticate your account before making In-App Purchases – separate from any authentication to obtain other Content – by entering your password or using Touch ID or Face ID. You will be able to make additional In-App Purchases for fifteen minutes without re-authenticating unless you have asked us to require a password for every purchase or have enabled Touch ID or Face ID. You can turn off the ability to make In-App Purchases by following these instructions: https://support.apple.com/HT201304. APP MAINTENANCE AND SUPPORT Apple is responsible for providing maintenance and support for Apple Apps only, or as required under applicable law. App Providers are responsible for providing maintenance and support for Third Party Apps. APP BUNDLES Some Apps may be sold together as a bundle (“App Bundle”). The price displayed with an App Bundle is the price you will be charged upon purchasing the App Bundle. The App Bundle price may be reduced to account for Apps you have already purchased or acquired, but may include a minimum charge to complete the App Bundle. SEARCH RESULTS AND RANKINGS When determining how to order the Apps in search results, the main parameters considered are the metadata provided by App Providers, how customers have engaged with the Apps and the App Store, and the popularity of the Apps in the App Store. These main parameters deliver the most relevant results to customer search queries. LICENSED APPLICATION END USER LICENSE AGREEMENT Apps made available through the App Store are licensed, not sold, to you. Your license to each App is subject to your prior acceptance of either this Licensed Application End User License Agreement (“Standard EULA”), or a custom end user license agreement between you and the App Provider (“Custom EULA”), if one is provided. Your license to any Apple App under this Standard EULA or Custom EULA is granted by Apple, and your license to any Third Party App under this Standard EULA or Custom EULA is granted by the App Provider of that Third Party App. Any App that is subject to this Standard EULA is referred to herein as the “Licensed Application”. The App Provider or Apple as applicable (“Licensor”) reserves all rights in and to the Licensed Application not expressly granted to you under this Standard EULA. ', start_char_idx=None, end_char_idx=None, text_template='{metadata_str}\\n\\n{content}', metadata_template='{key}: {value}', metadata_seperator='\\n'),\n",
       " Document(id_='f9cf1b70-0b2b-4191-81f8-e84bc16b2589', embedding=None, metadata={'page_label': '11', 'file_name': 'MAR2023.pdf', 'file_path': '/Users/ilyasaden/myrepo/Simmons_Tech_Challenge/data/MAR2023.pdf', 'file_type': 'application/pdf', 'file_size': 147046, 'creation_date': '2024-02-04', 'last_modified_date': '2024-02-04', 'last_accessed_date': '2024-02-04'}, excluded_embed_metadata_keys=['file_name', 'file_type', 'file_size', 'creation_date', 'last_modified_date', 'last_accessed_date'], excluded_llm_metadata_keys=['file_name', 'file_type', 'file_size', 'creation_date', 'last_modified_date', 'last_accessed_date'], relationships={}, text='a. Scope of License: Licensor grants to you a nontransferable license to use the Licensed Application on any Apple-branded products that you own or control and as permitted by the Usage Rules. The terms of this Standard EULA will govern any content, materials, or services accessible from or purchased within the Licensed Application, as well as upgrades provided by Licensor that replace or supplement the original Licensed Application, unless such upgrade is accompanied by a Custom EULA. Except as provided in the Usage Rules, you may not distribute or make the Licensed Application available over a network where it could be used by multiple devices at the same time. You may not transfer, redistribute or sublicense the Licensed Application except as expressly permitted in this Agreement and, if you sell your Apple Device to a third party, you must remove the Licensed Application from the Apple Device before doing so. You may not copy (except as permitted by this license and the Usage Rules), reverse-engineer, disassemble, attempt to derive the source code of, modify or create derivative works of the Licensed Application, any updates or any part thereof (except as and only to the extent that any foregoing restriction is prohibited by applicable law or to the extent as may be permitted by the licensing terms governing use of any open-sourced components included with the Licensed Application). b. Consent to Use of Data: You agree that Licensor may collect and use technical data and related information—including but not limited to technical information about your device, system and application software and peripherals—that is gathered periodically to facilitate the provision of software updates, product support and other services to you (if any) related to the Licensed Application. Licensor may use this information, as long as it is in a form that does not personally identify you, to improve its products or to provide services or technologies to you. c. Termination: This Standard EULA is effective until terminated by you or Licensor. Your rights under this Standard EULA will terminate automatically if you fail to comply with any of its terms. d. External Services: The Licensed Application may enable access to Licensor’s and/or third-party services and websites (collectively and individually, \"External Services\"). You agree to use the External Services at your sole risk. Licensor is not responsible for examining or evaluating the content or accuracy of any third-party External Services, and shall not be liable for any such third-party External Services. Data displayed by any Licensed Application or External Service, including but not limited to financial, medical and location information, is for general informational purposes only and is not guaranteed by Licensor or its agents. You will not use the External Services in any manner that is inconsistent with the terms of this Standard EULA or that infringes the intellectual property rights of Licensor or any third party. You agree not to use the External Services to harass, abuse, stalk, threaten or defame any person or entity, and that Licensor is not responsible for any such use. External Services may not be available in all languages or in your Home Country, and may not be appropriate or available for ', start_char_idx=None, end_char_idx=None, text_template='{metadata_str}\\n\\n{content}', metadata_template='{key}: {value}', metadata_seperator='\\n'),\n",
       " Document(id_='79fbfd4f-91e7-4ac9-9c32-2ccadae64c39', embedding=None, metadata={'page_label': '12', 'file_name': 'MAR2023.pdf', 'file_path': '/Users/ilyasaden/myrepo/Simmons_Tech_Challenge/data/MAR2023.pdf', 'file_type': 'application/pdf', 'file_size': 147046, 'creation_date': '2024-02-04', 'last_modified_date': '2024-02-04', 'last_accessed_date': '2024-02-04'}, excluded_embed_metadata_keys=['file_name', 'file_type', 'file_size', 'creation_date', 'last_modified_date', 'last_accessed_date'], excluded_llm_metadata_keys=['file_name', 'file_type', 'file_size', 'creation_date', 'last_modified_date', 'last_accessed_date'], relationships={}, text='use in any particular location. To the extent you choose to use such External Services, you are solely responsible for compliance with any applicable laws. Licensor reserves the right to change, suspend, remove, disable or impose access restrictions or limits on any External Services at any time without notice or liability to you. e. WARRANTY: Licensor will use reasonable care and skill with respect to the provision of the Licensed Application and any External Services performed or provided by the Licensed Application to you. Licensor does not make any other promises or warranties about the External Services and in particular does not warrant that: (i) your use of the External Services will be uninterrupted or error-free; (ii) the External Services will be free from loss, corruption, attack, viruses, interference, hacking or other security intrusion, and Licensor disclaims any liability relating thereto. You shall be responsible for backing up your own system, including any Licensed Application that is stored on your system. f. Limitation of Liability: (i) Except as set out in section (ii) hereunder, in no case shall Licensor, its directors, officers, employees, affiliates, agents, contractors, principals or licensors be liable for any loss or damage caused by Licensor, its employees or agents where: (1) there is no breach of a legal duty of care owed to you by Licensor or by any of its employees or agents; (2) it is not a reasonably foreseeable result of any such breach; (3) any increase in loss or damage results from breach by you of any term of this End User License Agreement (\"Agreement\"); (4) it results from a decision by Licensor to warn you, to suspend or terminate your access to the External Services or to take any other action during the investigation of a suspected violation or as a result of Licensor’s conclusion that a violation of this Agreement has occurred; (5) it relates to loss of income, business or profits or any loss or corruption of data in connection with your use of the Licensed Application. (ii) Nothing in this Agreement removes or limits Licensor’s liability for fraud, gross negligence, willful misconduct or for death or personal injury caused by its negligence. g. You may not use or otherwise export or re-export the Licensed Application except as authorized by United States law and the laws of the jurisdiction in which the Licensed Application was obtained. In particular, but without limitation, the Licensed Application may not be exported or re-exported (a) into any U.S.-embargoed countries or (b) to anyone on the U.S. Treasury Department\\'s Specially Designated Nationals List or the U.S. Department of Commerce Denied Persons List or Entity List. By using the Licensed ', start_char_idx=None, end_char_idx=None, text_template='{metadata_str}\\n\\n{content}', metadata_template='{key}: {value}', metadata_seperator='\\n'),\n",
       " Document(id_='0502765e-f5b7-439e-a013-c940dc693d4b', embedding=None, metadata={'page_label': '13', 'file_name': 'MAR2023.pdf', 'file_path': '/Users/ilyasaden/myrepo/Simmons_Tech_Challenge/data/MAR2023.pdf', 'file_type': 'application/pdf', 'file_size': 147046, 'creation_date': '2024-02-04', 'last_modified_date': '2024-02-04', 'last_accessed_date': '2024-02-04'}, excluded_embed_metadata_keys=['file_name', 'file_type', 'file_size', 'creation_date', 'last_modified_date', 'last_accessed_date'], excluded_llm_metadata_keys=['file_name', 'file_type', 'file_size', 'creation_date', 'last_modified_date', 'last_accessed_date'], relationships={}, text='Application, you represent and warrant that you are not located in any such country or on any such list. You also agree that you will not use these products for any purposes prohibited by United States law, including, without limitation, the development, design, manufacture or production of nuclear, missile or chemical or biological weapons. h. U.S. Government End Users. The Licensed Application and related documentation are \"Commercial Items\", as that term is defined at 48 C.F.R. §2.101, consisting of \"Commercial Computer Software\" and \"Commercial Computer Software Documentation\", as such terms are used in 48 C.F.R. §12.212 or 48 C.F.R. §227.7202, as applicable. Consistent with 48 C.F.R. §12.212 or 48 C.F.R. §227.7202-1 through 227.7202-4, as applicable, the Commercial Computer Software and Commercial Computer Software Documentation are being licensed to U.S. Government end users (a) only as Commercial Items and (b) with only those rights as are granted to all other end users pursuant to the terms and conditions herein. Unpublished-rights reserved under the copyright laws of the United States. i. Except to the extent expressly provided in the following paragraph, this Agreement and the relationship between you and Apple shall be governed by the laws of the State of California, excluding its conflicts of law provisions. You and Apple agree to submit to the personal and exclusive jurisdiction of the courts located within the county of Santa Clara, California, to resolve any dispute or claim arising from this Agreement. If (a) you are not a U.S. citizen; (b) you do not reside in the U.S.; (c) you are not accessing the Service from the U.S.; and (d) you are a citizen of one of the countries identified below, you hereby agree that any dispute or claim arising from this Agreement shall be governed by the applicable law set forth below, without regard to any conflict of law provisions, and you hereby irrevocably submit to the non-exclusive jurisdiction of the courts located in the state, province or country identified below whose law governs: If you are a resident of any European Union country or the United Kingdom, Switzerland, Norway or Iceland, the governing law and forum shall be the laws and courts of your usual place of residence. Specifically excluded from application to this Agreement is that law known as the United Nations Convention on the International Sale of Goods. G. ADDITIONAL TERMS FOR CONTENT ACQUIRED FROM THIRD PARTIES Some Content available in Apple Books, App Store, and Apple Podcasts (including Apple Podcasts Subscriptions) are acquired by you from the third-party provider of such Content (as displayed on the product page and/or during the acquisition process for the relevant Content), not Apple. In such case, Apple acts as an agent for the Content provider in providing the Content to you, and therefore Apple is not a party to the Transaction between you and the Content provider. However, if you are a customer of Apple Distribution International Ltd., Apple Distribution International Ltd. is the merchant of record for the Content you acquire, but such Content is licensed by the ', start_char_idx=None, end_char_idx=None, text_template='{metadata_str}\\n\\n{content}', metadata_template='{key}: {value}', metadata_seperator='\\n'),\n",
       " Document(id_='f3814b24-b8e9-445a-8119-2458f4ee5799', embedding=None, metadata={'page_label': '14', 'file_name': 'MAR2023.pdf', 'file_path': '/Users/ilyasaden/myrepo/Simmons_Tech_Challenge/data/MAR2023.pdf', 'file_type': 'application/pdf', 'file_size': 147046, 'creation_date': '2024-02-04', 'last_modified_date': '2024-02-04', 'last_accessed_date': '2024-02-04'}, excluded_embed_metadata_keys=['file_name', 'file_type', 'file_size', 'creation_date', 'last_modified_date', 'last_accessed_date'], excluded_llm_metadata_keys=['file_name', 'file_type', 'file_size', 'creation_date', 'last_modified_date', 'last_accessed_date'], relationships={}, text='Content provider. The Content provider reserves the right to enforce the terms of use relating to such Content. The Content provider is solely responsible for such Content, any warranties to the extent that such warranties have not been disclaimed, and any claims that you or any other party may have relating to such Content. H. ADDITIONAL APPLE MUSIC TERMS iCloud Music Library is an Apple Music feature that allows you to access your matched or uploaded songs, playlists and music videos acquired from Apple Music, the iTunes Store or another source (“iCloud Music Library Content”) on your Apple Music-enabled devices. iCloud Music Library is turned on automatically when you set up your Apple Music membership. iCloud Music Library collects information about your iCloud Music Library Content. This information is associated with your Apple ID, and compared to iCloud Music Library Content currently available on Apple Music. iCloud Music Library Content that is not matched is uploaded to Apple’s iCloud Music Library servers (in a format determined by Apple). You can upload up to 100,000 songs. Songs acquired from the iTunes Store do not count against this limit. Songs that do not meet certain criteria (for example, excessively large files) or that are not authorized for your device are not eligible for iCloud Music Library. When you use iCloud Music Library, Apple logs information such as the tracks you play, stop or skip, the devices you use and the time and duration of playback. You agree to use iCloud Music Library only for lawfully acquired content. iCloud Music Library is provided on an “AS IS” basis and could contain errors or inaccuracies. You should back up your data and information prior to using iCloud Music Library. If you are not an Apple Music member, you may purchase an iTunes Match subscription, which uses iCloud Music Library. When your Apple Music membership ends, you will lose access to your iCloud Music Library, including iCloud Music Library Content that is uploaded to iCloud Music Library servers. I. ADDITIONAL APPLE FITNESS+ TERMS Apple Fitness+ is for entertainment and/or informational purposes only and is not intended to provide any medical advice. You should always seek the advice of an appropriately qualified healthcare professional regarding (a) the safety and advisability of any given activity, or (b) any specific medical condition or symptoms. J. CARRIER MEMBERSHIP Where available, you may be offered to purchase a Service membership from your wireless carrier (a “Carrier Membership”). If you purchase a Carrier Membership, your carrier is the merchant of record, which means that you acquire the Service license from your carrier, which will bill you for the cost of your Service membership, but the Service is licensed and provided by Apple. Your purchase relationship with the carrier is governed by the carrier’s terms and conditions, not this Agreement, and any billing disputes related to a Carrier Membership must be directed to your carrier, not Apple. By using a Service through a Carrier Membership, you agree that your carrier may exchange ', start_char_idx=None, end_char_idx=None, text_template='{metadata_str}\\n\\n{content}', metadata_template='{key}: {value}', metadata_seperator='\\n'),\n",
       " Document(id_='05e17355-9236-4e4b-8333-6e46451f3906', embedding=None, metadata={'page_label': '15', 'file_name': 'MAR2023.pdf', 'file_path': '/Users/ilyasaden/myrepo/Simmons_Tech_Challenge/data/MAR2023.pdf', 'file_type': 'application/pdf', 'file_size': 147046, 'creation_date': '2024-02-04', 'last_modified_date': '2024-02-04', 'last_accessed_date': '2024-02-04'}, excluded_embed_metadata_keys=['file_name', 'file_type', 'file_size', 'creation_date', 'last_modified_date', 'last_accessed_date'], excluded_llm_metadata_keys=['file_name', 'file_type', 'file_size', 'creation_date', 'last_modified_date', 'last_accessed_date'], relationships={}, text='your carrier account information, telephone number and subscription information with Apple, and that Apple may use this information to determine the status of your Carrier Membership. K. MISCELLANEOUS TERMS APPLICABLE TO ALL SERVICES DEFINITION OF APPLE Depending on your Home Country, “Apple” means: Apple Inc., located at One Apple Park Way, Cupertino, California, for users in the United States, including Puerto Rico; Apple Canada Inc., located at 120 Bremner Blvd., Suite 1600, Toronto ON M5J 0A8, Canada for users in Canada; Apple Services LATAM LLC, located at 1 Alhambra Plaza, Ste 700 Coral Gables, Florida, for users in Mexico, Central or South America, or any Caribbean country or territory (excluding Puerto Rico); iTunes K.K., located at Roppongi Hills, 6-10-1 Roppongi, Minato-ku, Tokyo 106-6140, Tokyo for users in Japan; Apple Pty Limited, located at Level 3, 20 Martin Place, Sydney NSW 2000, Australia, for users in Australia or New Zealand, including in any of their territories or affiliated jurisdictions; and Apple Distribution International Ltd., located at Hollyhill Industrial Estate, Hollyhill, Cork, Republic of Ireland for all other users. CONTRACT CHANGES Apple reserves the right at any time to modify this Agreement and to add new or additional terms or conditions on your use of the Services. Such modifications and additional terms and conditions will be communicated to you and, if accepted, will be effective immediately and will be incorporated into this Agreement. In the event you refuse to accept such changes, Apple will have the right to terminate the Agreement. THIRD-PARTY MATERIALS Apple is not responsible or liable for third party materials included within or linked from the Content or the Services. INTELLECTUAL PROPERTY You agree that the Services, including but not limited to Content, graphics, user interface, audio clips, video clips, editorial content and the scripts and software used to implement the Services, contain proprietary information and material that is owned by Apple, its licensors and/or Content providers, and is protected by applicable intellectual property and other laws, including but not limited to copyright. You agree that you will ', start_char_idx=None, end_char_idx=None, text_template='{metadata_str}\\n\\n{content}', metadata_template='{key}: {value}', metadata_seperator='\\n'),\n",
       " Document(id_='d7342249-51d5-4a2a-9576-1be1fef28cc6', embedding=None, metadata={'page_label': '16', 'file_name': 'MAR2023.pdf', 'file_path': '/Users/ilyasaden/myrepo/Simmons_Tech_Challenge/data/MAR2023.pdf', 'file_type': 'application/pdf', 'file_size': 147046, 'creation_date': '2024-02-04', 'last_modified_date': '2024-02-04', 'last_accessed_date': '2024-02-04'}, excluded_embed_metadata_keys=['file_name', 'file_type', 'file_size', 'creation_date', 'last_modified_date', 'last_accessed_date'], excluded_llm_metadata_keys=['file_name', 'file_type', 'file_size', 'creation_date', 'last_modified_date', 'last_accessed_date'], relationships={}, text='not use such proprietary information or materials in any way whatsoever, except for use of the Services for personal, noncommercial uses in compliance with this Agreement. No portion of the Content or Services may be transferred or reproduced in any form or by any means, except as expressly permitted by this Agreement. You agree not to modify, rent, loan, sell, share, or distribute the Services or Content in any manner, and you shall not exploit the Services in any manner not expressly authorized. The Apple name, the Apple logo, iTunes, iTunes Store, App Store, Apple Books, Apple Music, Apple TV, Apple TV+, Apple Arcade, Apple News, Apple News+, Apple One, Apple Podcasts, Apple Fitness+, and other Apple trademarks, service marks, graphics, and logos used in connection with the Services are trademarks or registered trademarks of Apple in the U.S. and other countries throughout the world. You are granted no right or license with respect to any of the aforesaid trademarks. COPYRIGHT Unless otherwise noted, Services and Content provided by Apple are copyrights of Apple Inc. and its subsidiaries. If you believe that any Content available through the Services infringe a copyright claimed by you, please contact Apple at the following locations: - Third Party Apps: https://www.apple.com/legal/internet-services/itunes/appstorenotices/ - Apple Books: https://www.apple.com/legal/internet-services/itunes/applebooksnotices/ - Apple TV+ and Apple Fitness+: https://www.apple.com/legal/internet-services/itunes/appletvplusnotices/ - Apple News: https://www.apple.com/legal/internet-services/itunes/applenewsnotices/ - Ringtones: https://www.apple.com/legal/internet-services/itunes/ringtonestorenotices/ - All other Services (including but not limited to iTunes Store, Apple Music, and Apple Podcasts): https://www.apple.com/legal/internet-services/itunes/itunesstorenotices/ This is the fastest way for us to process your notification of claimed infringement. The slower method to reach our designated agent and to process your notification is to send a proper and complete notification of claimed infringement to the mailing address listed below. Apple Inc. Attn: Copyright Agent ', start_char_idx=None, end_char_idx=None, text_template='{metadata_str}\\n\\n{content}', metadata_template='{key}: {value}', metadata_seperator='\\n'),\n",
       " Document(id_='3e9862f0-1ca0-4977-b5fb-f0135c7a7d7f', embedding=None, metadata={'page_label': '17', 'file_name': 'MAR2023.pdf', 'file_path': '/Users/ilyasaden/myrepo/Simmons_Tech_Challenge/data/MAR2023.pdf', 'file_type': 'application/pdf', 'file_size': 147046, 'creation_date': '2024-02-04', 'last_modified_date': '2024-02-04', 'last_accessed_date': '2024-02-04'}, excluded_embed_metadata_keys=['file_name', 'file_type', 'file_size', 'creation_date', 'last_modified_date', 'last_accessed_date'], excluded_llm_metadata_keys=['file_name', 'file_type', 'file_size', 'creation_date', 'last_modified_date', 'last_accessed_date'], relationships={}, text='One Apple Park Way MS: 1IPL Cupertino, CA 95014 Phone: 408.996.1010 Email: copyrightnotices@apple.com  Apple has adopted a policy to disable and/or terminate in appropriate circumstances the accounts of users who are found repeatedly to infringe or are repeatedly claimed to infringe the copyrights of others. As part of implementing such policy, Apple may in its sole discretion suspend, disable and/or terminate the accounts of users who have been identified as repeatedly engaging in infringing activities or for other related reasons. TERMINATION AND SUSPENSION OF SERVICES If you fail, or Apple suspects that you have failed, to comply with any of the provisions of this Agreement, Apple may, without notice to you: (i) terminate this Agreement and/or your Apple ID, and you will remain liable for all amounts due under your Apple ID up to and including the date of termination; and/or (ii) terminate your license to the software; and/or (iii) preclude your access to the Services. Apple further reserves the right to modify, suspend or discontinue the Services (or any part or Content thereof) at any time with or without notice to you, and Apple will not be liable to you or to any third party should it exercise such rights. To the extent possible, Apple will warn you in advance of any modification, suspension or discontinuance of the Service. Termination of the Service will not affect the Content that you have already acquired. However, you may be unable to authorize additional computers to use the Content. DISCLAIMER OF WARRANTIES; LIABILITY LIMITATIONS a. Apple will provide the Services with reasonable care and skill. Apple does not make any other promises or warranties about the Services and in particular does not warrant that: (i) your use of the Service will be uninterrupted or error-free. You agree that from time to time Apple may remove the Service for indefinite periods of time or cancel the Services at any time for technical or operational reasons and will, to the extent practicable, notify you of this; (ii) the Services will be free from loss, corruption, attack, viruses, interference, hacking or other security intrusion which shall be events of Force Majeure, and Apple disclaims any liability relating thereto. You shall be responsible for backing up your own system, including any Content purchased or acquired from the Service. ', start_char_idx=None, end_char_idx=None, text_template='{metadata_str}\\n\\n{content}', metadata_template='{key}: {value}', metadata_seperator='\\n'),\n",
       " Document(id_='944bba1d-1b1d-4009-9a15-e1913eea0154', embedding=None, metadata={'page_label': '18', 'file_name': 'MAR2023.pdf', 'file_path': '/Users/ilyasaden/myrepo/Simmons_Tech_Challenge/data/MAR2023.pdf', 'file_type': 'application/pdf', 'file_size': 147046, 'creation_date': '2024-02-04', 'last_modified_date': '2024-02-04', 'last_accessed_date': '2024-02-04'}, excluded_embed_metadata_keys=['file_name', 'file_type', 'file_size', 'creation_date', 'last_modified_date', 'last_accessed_date'], excluded_llm_metadata_keys=['file_name', 'file_type', 'file_size', 'creation_date', 'last_modified_date', 'last_accessed_date'], relationships={}, text='b. YOU AGREE THAT UNLESS REQUIRED BY APPLICABLE LAW, APPLE HAS NO RESPONSIBILITY TO CONTINUE MAKING CONTENT AVAILABLE TO YOU THROUGH OUR SERVICES, AND APPLE WILL NOT BE LIABLE TO YOU IF CONTENT, INCLUDING PURCHASED CONTENT, BECOMES UNAVAILABLE FOR DOWNLOAD, REDOWNLOAD, OR STREAMING. c. Except as set out in (e) below, or in the event that you are exercising any applicable statutory right to refund or compensation, in no case shall Apple, its directors, officers, employees, affiliates, agents, contractors or licensors be liable for any loss or damage caused by Apple, its employees or agents where: (i) there is no breach of a legal duty of care owed to you by Apple or by any of our employees or agents; (ii) it is not a reasonably foreseeable result of any such breach; (iii) any increase in injury, loss or damage results from breach by you of any term of this Agreement; (iv) it results from a decision by Apple to remove or deny access to any information or content, to suspend or terminate your access to the Service or to take any other action during the investigation of a suspected violation or as a result of Apple’s conclusion that a violation of this Agreement has occurred; or (v) it relates to loss of income, business or profits or any loss of data or corruption of data in connection with your use of the Services. d. Apple shall use reasonable efforts to protect information submitted by you in connection with the Services including from fraudulent use. e. Nothing in this Agreement removes or limits Apple’s liability for fraud, gross negligence, willful misconduct or for death or personal injury. f. If you breach this Agreement, you will be liable to Apple, its directors, officers, employees, affiliates, agents, contractors and licensors for any claim arising out of your breach. You will also be liable for any action taken by Apple as part of its investigation of a suspected violation of this Agreement, or as a result of its findings or decision that a violation of this Agreement has occurred. g. APPLE IS NOT RESPONSIBLE FOR DATA CHARGES YOU MAY INCUR IN CONNECTION WITH YOUR USE OF THE SERVICES. STATUTORY EXCEPTIONS FOR PUBLIC INSTITUTIONS If you are a qualified public educational or government institution and any part of this Agreement, such as, by way of example, all or part of the indemnification section, is invalid or unenforceable against you because of applicable local, national, state or ', start_char_idx=None, end_char_idx=None, text_template='{metadata_str}\\n\\n{content}', metadata_template='{key}: {value}', metadata_seperator='\\n'),\n",
       " Document(id_='f7646e9c-eaf7-43fc-8056-307f0bb7af2b', embedding=None, metadata={'page_label': '19', 'file_name': 'MAR2023.pdf', 'file_path': '/Users/ilyasaden/myrepo/Simmons_Tech_Challenge/data/MAR2023.pdf', 'file_type': 'application/pdf', 'file_size': 147046, 'creation_date': '2024-02-04', 'last_modified_date': '2024-02-04', 'last_accessed_date': '2024-02-04'}, excluded_embed_metadata_keys=['file_name', 'file_type', 'file_size', 'creation_date', 'last_modified_date', 'last_accessed_date'], excluded_llm_metadata_keys=['file_name', 'file_type', 'file_size', 'creation_date', 'last_modified_date', 'last_accessed_date'], relationships={}, text=\"federal law, then that portion shall be deemed invalid or unenforceable, as the case may be, and instead construed in a manner most consistent with applicable governing law. GOVERNING LAW Except to the extent expressly provided in the following paragraph or to the extent required by applicable law, this Agreement and the relationship between you and Apple, and all Transactions on the Services, shall be governed by the laws of the State of California, excluding its conflicts of law provisions. You and Apple agree to submit to the personal and exclusive jurisdiction of the courts located within the county of Santa Clara, California, to resolve any dispute or claim arising from this Agreement. If (a) you are not a U.S. citizen; (b) you do not reside in the U.S.; (c) you are not accessing the Service from the U.S.; and (d) you are a citizen of one of the countries identified below, you hereby agree that any dispute or claim arising from this Agreement shall be governed by the applicable law set forth below, without regard to any conflict of law provisions, and you hereby irrevocably submit to the non-exclusive jurisdiction of the courts located in the state, province or country identified below, whose law governs: If you are a resident of any European Union country or the United Kingdom, Switzerland, Norway or Iceland, the governing law and forum shall be the laws and courts of your usual place of residence. Specifically excluded from application to this Agreement is that law known as the United Nations Convention on the International Sale of Goods. OTHER PROVISIONS This Agreement constitutes the entire agreement between you and Apple and governs your use of the Services, superseding any prior agreements with respect to the same subject matter between you and Apple. You also may be subject to additional terms and conditions that may apply when you make Transactions or use affiliate services, third-party content, third-party software or additional services such as the Volume Purchase Program. If any part of this Agreement is held invalid or unenforceable, that portion shall be construed in a manner consistent with applicable law to reflect, as nearly as possible, the original intentions of the parties, and the remaining portions shall remain in full force and effect. Apple's failure to enforce any right or provisions in this Agreement will not constitute a waiver of such or any other provision. Apple will not be responsible for failures to fulfill any obligations due to causes beyond its control. You agree to comply with all local, state, federal and national laws, statutes, ordinances and regulations that apply to your use of the Services. Your use of the Services may also be subject to other laws. Risk of loss for all electronically delivered Transactions pass to the acquirer upon electronic transmission to the recipient. No Apple employee or agent has the authority to vary this Agreement. \", start_char_idx=None, end_char_idx=None, text_template='{metadata_str}\\n\\n{content}', metadata_template='{key}: {value}', metadata_seperator='\\n'),\n",
       " Document(id_='ea0ced0f-9a82-4441-a791-cb221c76847b', embedding=None, metadata={'page_label': '20', 'file_name': 'MAR2023.pdf', 'file_path': '/Users/ilyasaden/myrepo/Simmons_Tech_Challenge/data/MAR2023.pdf', 'file_type': 'application/pdf', 'file_size': 147046, 'creation_date': '2024-02-04', 'last_modified_date': '2024-02-04', 'last_accessed_date': '2024-02-04'}, excluded_embed_metadata_keys=['file_name', 'file_type', 'file_size', 'creation_date', 'last_modified_date', 'last_accessed_date'], excluded_llm_metadata_keys=['file_name', 'file_type', 'file_size', 'creation_date', 'last_modified_date', 'last_accessed_date'], relationships={}, text=\"Apple may notify you with respect to the Services by sending an email message to your email address or a letter via postal mail to your mailing address, or by a posting on the Services. Notices shall become effective immediately. Apple may also contact you by email or push notification to send you additional information about the Services. You hereby grant Apple the right to take steps Apple believes are reasonably necessary or appropriate to enforce and/or verify compliance with any part of this Agreement. You agree that Apple has the right, without liability to you, to disclose any data and/or information to law enforcement authorities, government officials and/or a third party, as Apple believes is reasonably necessary or appropriate to enforce and/or verify compliance with any part of this Agreement (including but not limited to Apple's right to cooperate with any legal process relating to your use of the Services and/or Content, and/or a third-party claim that your use of the Services and/or Content is unlawful and/or infringes such third party's rights). Last Updated: 12 September 2022  \", start_char_idx=None, end_char_idx=None, text_template='{metadata_str}\\n\\n{content}', metadata_template='{key}: {value}', metadata_seperator='\\n')]"
      ]
     },
     "execution_count": 5,
     "metadata": {},
     "output_type": "execute_result"
    }
   ],
   "source": [
    "documents"
   ]
  },
  {
   "attachments": {},
   "cell_type": "markdown",
   "metadata": {},
   "source": [
    "## 3.2 Selecting LLM model"
   ]
  },
  {
   "cell_type": "code",
   "execution_count": 6,
   "metadata": {},
   "outputs": [],
   "source": [
    "llm = OpenAI(temperature=0, model=\"gpt-4\")\n",
    "service_context = ServiceContext.from_defaults(llm=llm)"
   ]
  },
  {
   "attachments": {},
   "cell_type": "markdown",
   "metadata": {},
   "source": [
    "## 3.3 Indexing, storage Stages (in LlamaIndex is a single line)"
   ]
  },
  {
   "cell_type": "code",
   "execution_count": 7,
   "metadata": {},
   "outputs": [
    {
     "name": "stderr",
     "output_type": "stream",
     "text": [
      "/Users/ilyasaden/myrepo/Simmons_Tech_Challenge/.venv/lib/python3.11/site-packages/tqdm/auto.py:21: TqdmWarning: IProgress not found. Please update jupyter and ipywidgets. See https://ipywidgets.readthedocs.io/en/stable/user_install.html\n",
      "  from .autonotebook import tqdm as notebook_tqdm\n",
      "Parsing nodes: 100%|██████████| 46/46 [00:00<00:00, 263.74it/s]\n",
      "Generating embeddings: 100%|██████████| 46/46 [00:01<00:00, 26.59it/s]\n"
     ]
    }
   ],
   "source": [
    "index=VectorStoreIndex.from_documents(documents,show_progress=True)"
   ]
  },
  {
   "cell_type": "code",
   "execution_count": 8,
   "metadata": {},
   "outputs": [
    {
     "data": {
      "text/plain": [
       "<llama_index.indices.vector_store.base.VectorStoreIndex at 0x1280bd7d0>"
      ]
     },
     "execution_count": 8,
     "metadata": {},
     "output_type": "execute_result"
    }
   ],
   "source": [
    "# Checking index\n",
    "index"
   ]
  },
  {
   "attachments": {},
   "cell_type": "markdown",
   "metadata": {},
   "source": [
    "## 3.4 Querying Stage"
   ]
  },
  {
   "attachments": {},
   "cell_type": "markdown",
   "metadata": {},
   "source": [
    "We sets up a a retriever query engine, a post-processor for similarity-based filtering for top k=4 and only similarity of 80% as criteria. "
   ]
  },
  {
   "cell_type": "code",
   "execution_count": 9,
   "metadata": {},
   "outputs": [],
   "source": [
    "query_engine=index.as_query_engine()"
   ]
  },
  {
   "cell_type": "code",
   "execution_count": 10,
   "metadata": {},
   "outputs": [],
   "source": [
    "from llama_index.retrievers import VectorIndexRetriever\n",
    "from llama_index.query_engine import RetrieverQueryEngine\n",
    "from llama_index.indices.postprocessor import SimilarityPostprocessor\n",
    "\n",
    "retriever=VectorIndexRetriever(index=index,similarity_top_k=4)\n",
    "postprocessor=SimilarityPostprocessor(similarity_cutoff=0.80)\n",
    "\n",
    "query_engine=RetrieverQueryEngine(retriever=retriever,\n",
    "                                  node_postprocessors=[postprocessor])\n"
   ]
  },
  {
   "cell_type": "code",
   "execution_count": 11,
   "metadata": {},
   "outputs": [],
   "source": [
    "response=query_engine.query(\"What is apple music's terms and conditions in 2023 ?\")"
   ]
  },
  {
   "cell_type": "code",
   "execution_count": 12,
   "metadata": {},
   "outputs": [
    {
     "name": "stdout",
     "output_type": "stream",
     "text": [
      "Final Response: Apple Music's terms and conditions in 2023 include the\n",
      "following: - iCloud Music Library is an Apple Music feature that\n",
      "allows you to access your matched or uploaded songs, playlists, and\n",
      "music videos. - iCloud Music Library collects information about your\n",
      "iCloud Music Library Content, which is associated with your Apple ID.\n",
      "- You can upload up to 100,000 songs to iCloud Music Library, and\n",
      "songs acquired from the iTunes Store do not count against this limit.\n",
      "- When you use iCloud Music Library, Apple logs information such as\n",
      "the tracks you play, stop or skip, the devices you use, and the time\n",
      "and duration of playback. - iCloud Music Library is provided on an \"AS\n",
      "IS\" basis and could contain errors or inaccuracies. - If you are not\n",
      "an Apple Music member, you may purchase an iTunes Match subscription,\n",
      "which uses iCloud Music Library. - When your Apple Music membership\n",
      "ends, you will lose access to your iCloud Music Library, including\n",
      "iCloud Music Library Content that is uploaded to iCloud Music Library\n",
      "servers.\n",
      "______________________________________________________________________\n",
      "Source Node 1/4\n",
      "Node ID: e5b80b66-a1be-4c54-8d2a-2cc5f3b354e0\n",
      "Similarity: 0.8282877095766723\n",
      "Text: Apple Media Services Terms and Conditions These terms and\n",
      "conditions create a contract between you and Apple (the “Agreement”).\n",
      "Please read the Agreement carefully. A. INTRODUCTION TO OUR SERVICES\n",
      "This Agreement governs your use of Apple’s Services (“Services” –\n",
      "e.g., and where available, App Store, Apple Arcade, Apple Books, Apple\n",
      "Fitness+, App...\n",
      "______________________________________________________________________\n",
      "Source Node 2/4\n",
      "Node ID: ef5510ae-257e-4a2f-aec5-3e395d20c439\n",
      "Similarity: 0.8262940131181292\n",
      "Text: Content provider. The Content provider reserves the right to\n",
      "enforce the terms of use relating to such Content. The Content\n",
      "provider is solely responsible for such Content, any warranties to the\n",
      "extent that such warranties have not been disclaimed, and any claims\n",
      "that you or any other party may have relating to such Content. H.\n",
      "ADDITIONAL APPLE ...\n",
      "______________________________________________________________________\n",
      "Source Node 3/4\n",
      "Node ID: 1aad4a1b-3b88-41e2-bb3f-d5c1af58cfa6\n",
      "Similarity: 0.8146619553058324\n",
      "Text: Apple may notify you with respect to the Services by sending an\n",
      "email message to your email address or a letter via postal mail to\n",
      "your mailing address, or by a posting on the Services. Notices shall\n",
      "become effective immediately. Apple may also contact you by email or\n",
      "push notification to send you additional information about the\n",
      "Services. You h...\n",
      "______________________________________________________________________\n",
      "Source Node 4/4\n",
      "Node ID: 361d609b-2c2d-4e98-8c45-0b0f2e1fc0cf\n",
      "Similarity: 0.8140829465667088\n",
      "Text: - You may burn an audio playlist of purchased music to disc for\n",
      "listening purposes up to seven times; this limitation does not apply\n",
      "to DRM-free Content. Other Content may not be burned to disc. You may\n",
      "use the disc to which you have burned your Content in the same ways in\n",
      "which you may use a disc purchased from a retail store, subject to\n",
      "local ...\n",
      "Apple Music's terms and conditions in 2023 include the following:\n",
      "- iCloud Music Library is an Apple Music feature that allows you to access your matched or uploaded songs, playlists, and music videos.\n",
      "- iCloud Music Library collects information about your iCloud Music Library Content, which is associated with your Apple ID.\n",
      "- You can upload up to 100,000 songs to iCloud Music Library, and songs acquired from the iTunes Store do not count against this limit.\n",
      "- When you use iCloud Music Library, Apple logs information such as the tracks you play, stop or skip, the devices you use, and the time and duration of playback.\n",
      "- iCloud Music Library is provided on an \"AS IS\" basis and could contain errors or inaccuracies.\n",
      "- If you are not an Apple Music member, you may purchase an iTunes Match subscription, which uses iCloud Music Library.\n",
      "- When your Apple Music membership ends, you will lose access to your iCloud Music Library, including iCloud Music Library Content that is uploaded to iCloud Music Library servers.\n"
     ]
    }
   ],
   "source": [
    "from llama_index.response.pprint_utils import pprint_response\n",
    "pprint_response(response,show_source=True)\n",
    "print(response)"
   ]
  },
  {
   "cell_type": "markdown",
   "metadata": {},
   "source": [
    "**We can see that we have 4 sources nodes**"
   ]
  },
  {
   "attachments": {},
   "cell_type": "markdown",
   "metadata": {},
   "source": [
    "**Below examples of content of first two nodes**"
   ]
  },
  {
   "cell_type": "code",
   "execution_count": 13,
   "metadata": {},
   "outputs": [],
   "source": [
    "from IPython.display import HTML, display\n",
    "\n",
    "def set_css(ei):\n",
    "    display(HTML('''\n",
    "    <style>\n",
    "        pre {\n",
    "            white-space: pre-wrap;\n",
    "        }\n",
    "    </style>\n",
    "    '''))\n",
    "\n",
    "get_ipython().events.register('pre_run_cell', set_css)\n"
   ]
  },
  {
   "cell_type": "code",
   "execution_count": 14,
   "metadata": {},
   "outputs": [
    {
     "data": {
      "text/html": [
       "\n",
       "    <style>\n",
       "        pre {\n",
       "            white-space: pre-wrap;\n",
       "        }\n",
       "    </style>\n",
       "    "
      ],
      "text/plain": [
       "<IPython.core.display.HTML object>"
      ]
     },
     "metadata": {},
     "output_type": "display_data"
    },
    {
     "data": {
      "text/html": [
       "<pre>TERMS AND CONDITIONS A. ITUNES STORE, MAC APP STORE, APP STORE, AND IBOOKS STORE TERMS OF SALE B. ITUNES STORE TERMS AND CONDITIONS C. MAC APP STORE, APP STORE AND IBOOKS STORE TERMS AND CONDITIONS  THE LEGAL AGREEMENTS SET OUT BELOW ARE BETWEEN YOU AND ITUNES SARL (“ITUNES\") AND GOVERN YOUR USE OF THE ITUNES STORE, MAC APP STORE, APP STORE AND IBOOKS STORE (THE “STORES”). TO AGREE TO THESE TERMS, CLICK \"AGREE.\" IF YOU DO NOT AGREE TO THESE TERMS, DO NOT CLICK \"AGREE,\" AND DO NOT USE THE ITUNES STORE, MAC APP STORE, APP STORE OR IBOOKS STORE. THIS AGREEMENT APPLIES WITHOUT PREJUDICE TO SOFTWARE LICENCES THAT YOU MAY HAVE ENTERED INTO, SUCH AS FOR THE USE OF THE ITUNES APPLICATION. FOR MORE INFORMATION ABOUT OUR PRODUCTS AND SERVICES, PLEASE VISIT http://www.apple.com/support/. A. ITUNES STORE, MAC APP STORE, APP STORE AND IBOOKS STORE TERMS OF SALE PAYMENTS, TAXES, AND REFUND POLICY You agree that you will pay for all products you purchase through the Stores, and that iTunes may charge your payment method for any products purchased and for any additional amounts (including any taxes and late fees, as applicable) that may be accrued by or in connection with your Account. You are responsible for the timely payment of all fees and for providing iTunes with a valid payment method for payment of all fees. For details of how purchases are billed please visit http://support.apple.com/kb/HT5582. You agree to receipt of all invoices in an electronic format, which may include email. Your total price will include the price of the product plus any applicable VAT (in effect on the day of download). By using the United Kingdom store you are specifying that as your country of residence for tax purposes. Right of cancellation: If you choose to cancel your order, you may do so within 14 days from when you received your receipt without giving any reason, except iTunes Gifts which cannot be refunded once you have redeemed the code. To cancel your order, you must inform us of your decision. To ensure immediate processing we recommend you use Report a Problem to cancel all items with the exception of iTunes Match, Season Pass, Multi-Pass and, unless purchased from a third party or redeemed, iTunes Gifts and Allowances, which can be cancelled by contacting iTunes Support. You also have the right to inform us using the model cancellation form below or by making any other clear statement. If you use Report a Problem we will communicate acknowledgement of receipt of your cancellation to you without delay. To meet the cancellation deadline, you must send your communication of cancellation before the 14-day period has expired. Effects of cancellation: We will reimburse you no later than 14 days from the day on which we receive your cancellation notice. We will use the same means of payment as you used for the transaction, and you will not incur any fees for such reimbursement. Exception to the right of cancellation: You cannot cancel your order for the supply of digital content if the delivery has started upon your request and acknowledgement that you thereby lose your cancellation right. </pre>"
      ],
      "text/plain": [
       "<IPython.core.display.HTML object>"
      ]
     },
     "execution_count": 14,
     "metadata": {},
     "output_type": "execute_result"
    }
   ],
   "source": [
    "#from IPython.display import HTML, display\n",
    "from IPython.core.display import HTML\n",
    "\n",
    "HTML(\"<pre>\" + documents[0].get_content() + \"</pre>\")"
   ]
  },
  {
   "cell_type": "code",
   "execution_count": 15,
   "metadata": {},
   "outputs": [
    {
     "data": {
      "text/html": [
       "\n",
       "    <style>\n",
       "        pre {\n",
       "            white-space: pre-wrap;\n",
       "        }\n",
       "    </style>\n",
       "    "
      ],
      "text/plain": [
       "<IPython.core.display.HTML object>"
      ]
     },
     "metadata": {},
     "output_type": "display_data"
    },
    {
     "data": {
      "text/html": [
       "<pre>Model cancellation form: - To iTunes S.à r.l., 31-33, rue Sainte Zithe, L-2763 Luxembourg: - I hereby give notice that I withdraw from my contract for the following: [INSERT ORDER ID, ITEM, ARTIST AND TYPE] - Ordered on [INSERT DATE] / received on [INSERT DATE] - Name of consumer - Address of consumer - Date Until a purchase is made, iTunes reserves the right to change prices for products offered via the Stores at any time, and the Stores do not provide price protection or refunds in the event of a price reduction or promotional offering subsequent to purchase. If a product becomes unavailable following a transaction but prior to download, your sole remedy is likely to be limited to a refund of the price paid for the unavailable product. If technical problems prevent or unreasonably delay delivery of your product, your exclusive and sole remedy is either replacement or refund of the price paid, as determined by iTunes. 1-Click® 1-Click is a registered service mark of Amazon.com, Inc., used under license. 1-Click is a convenient feature that allows you to make a purchase from the Stores with a single click of your mouse or other input device. When accessing the Stores on your computer, 1-Click purchasing may be activated via the dialog that appears when you click a Buy button. (You may reset this selection at any time by clicking Reset Warnings in your Account information). When accessing the Stores on your Apple-branded products running iOS such as an iPad, iPod touch, or iPhone (“iOS Device”), 1-Click is activated for each transaction by tapping the button showing the price of the product, which reveals the Buy button. When 1-Click is activated, clicking or tapping the Buy button starts the download immediately and completes your transaction without any further steps. GIFT CERTIFICATES, ITUNES CARDS AND CODES, ALLOWANCES, AND CONTENT CODES Gift Certificates, iTunes Cards and Codes, Content Codes, and Allowances, in addition to unused balances, are not redeemable for cash and, cannot be returned for a cash refund (except as set out in our refund policy above that is applicable in the event the item has been purchased from the iTunes Store; or except if the retailer from which the item has been purchased applies a different refund policy), without prejudice to any applicable statutory right to a refund in case of faulty or misdescribed gifts; exchanged; resold; used to purchase Gifts, Gift Certificates, or iTunes Cards or Codes; used to provide Allowances; used for purchases on the Apple Online Store; or used in Apple Retail Stores. Unused balances are not transferable. Gift Certificates, iTunes Cards and Codes, Content Codes, and Allowances purchased in the United Kingdom may be redeemed through the Stores only in the United Kingdom. iTunes is not responsible for lost or stolen Gift Certificates, iTunes Cards and Codes, Content Codes, or Allowances. Risk of loss and title for Gift Certificates, iTunes Cards and Codes, and Allowances that are transmitted electronically pass to the purchaser in the United Kingdom upon electronic transmission. Risk of loss and title for Content Codes that are transmitted electronically pass from iTunes in Luxembourg upon electronic transmission. </pre>"
      ],
      "text/plain": [
       "<IPython.core.display.HTML object>"
      ]
     },
     "execution_count": 15,
     "metadata": {},
     "output_type": "execute_result"
    }
   ],
   "source": [
    "#from IPython.display import HTML, display\n",
    "from IPython.core.display import HTML\n",
    "\n",
    "HTML(\"<pre>\" + documents[1].get_content() + \"</pre>\")\n"
   ]
  },
  {
   "attachments": {},
   "cell_type": "markdown",
   "metadata": {},
   "source": [
    "## 4. RAG Assessments"
   ]
  },
  {
   "attachments": {},
   "cell_type": "markdown",
   "metadata": {},
   "source": [
    "### 4.1 Setting a baseline query engine\n",
    "\n",
    "To confirm initial output, we decide to first setup a top-k query engine and check the results again using below code."
   ]
  },
  {
   "cell_type": "code",
   "execution_count": 16,
   "metadata": {},
   "outputs": [
    {
     "data": {
      "text/html": [
       "\n",
       "    <style>\n",
       "        pre {\n",
       "            white-space: pre-wrap;\n",
       "        }\n",
       "    </style>\n",
       "    "
      ],
      "text/plain": [
       "<IPython.core.display.HTML object>"
      ]
     },
     "metadata": {},
     "output_type": "display_data"
    },
    {
     "name": "stderr",
     "output_type": "stream",
     "text": [
      "Parsing nodes: 100%|██████████| 46/46 [00:00<00:00, 384.53it/s]\n",
      "Generating embeddings: 100%|██████████| 46/46 [00:01<00:00, 27.90it/s]\n"
     ]
    }
   ],
   "source": [
    "# setup baseline index\n",
    "base_index = VectorStoreIndex.from_documents(documents, show_progress=True)\n",
    "base_engine = base_index.as_query_engine(similarity_top_k=4)"
   ]
  },
  {
   "cell_type": "code",
   "execution_count": 17,
   "metadata": {},
   "outputs": [
    {
     "data": {
      "text/html": [
       "\n",
       "    <style>\n",
       "        pre {\n",
       "            white-space: pre-wrap;\n",
       "        }\n",
       "    </style>\n",
       "    "
      ],
      "text/plain": [
       "<IPython.core.display.HTML object>"
      ]
     },
     "metadata": {},
     "output_type": "display_data"
    },
    {
     "name": "stdout",
     "output_type": "stream",
     "text": [
      "Some terms and conditions in 2015 include the requirement that only persons aged 13 years or older can create accounts, the need for compatible devices, internet access, and certain software to use the service, and the responsibility of the user to maintain the confidentiality and security of their account information. Additionally, the agreement states that iTunes reserves the right to modify the agreement at any time and to impose new or additional terms or conditions on the use of the service.\n"
     ]
    }
   ],
   "source": [
    "response = base_engine.query(\"What are some terms and conditions in 2015?\")\n",
    "print(str(response))"
   ]
  },
  {
   "cell_type": "code",
   "execution_count": 20,
   "metadata": {},
   "outputs": [
    {
     "data": {
      "text/html": [
       "\n",
       "    <style>\n",
       "        pre {\n",
       "            white-space: pre-wrap;\n",
       "        }\n",
       "    </style>\n",
       "    "
      ],
      "text/plain": [
       "<IPython.core.display.HTML object>"
      ]
     },
     "metadata": {},
     "output_type": "display_data"
    },
    {
     "data": {
      "text/html": [
       "<pre>Some terms and conditions in 2015 include the requirement that only persons aged 13 years or older can create accounts, the need for compatible devices, internet access, and certain software to use the service, and the responsibility of the user to maintain the confidentiality and security of their account information. Additionally, the agreement states that iTunes reserves the right to modify the agreement at any time and to impose new or additional terms or conditions on the use of the service.</pre>"
      ],
      "text/plain": [
       "<IPython.core.display.HTML object>"
      ]
     },
     "execution_count": 20,
     "metadata": {},
     "output_type": "execute_result"
    }
   ],
   "source": [
    "from IPython.core.display import HTML\n",
    "\n",
    "HTML(\"<pre>\" + str(response) + \"</pre>\")\n"
   ]
  },
  {
   "cell_type": "code",
   "execution_count": 21,
   "metadata": {},
   "outputs": [
    {
     "data": {
      "text/html": [
       "\n",
       "    <style>\n",
       "        pre {\n",
       "            white-space: pre-wrap;\n",
       "        }\n",
       "    </style>\n",
       "    "
      ],
      "text/plain": [
       "<IPython.core.display.HTML object>"
      ]
     },
     "metadata": {},
     "output_type": "display_data"
    },
    {
     "name": "stdout",
     "output_type": "stream",
     "text": [
      "4\n"
     ]
    }
   ],
   "source": [
    "print(len(response.source_nodes))"
   ]
  },
  {
   "attachments": {},
   "cell_type": "markdown",
   "metadata": {},
   "source": [
    "**Based on above query results, Let check every source node using below codes and see if we can find this particular output.**"
   ]
  },
  {
   "cell_type": "code",
   "execution_count": 22,
   "metadata": {},
   "outputs": [
    {
     "data": {
      "text/html": [
       "\n",
       "    <style>\n",
       "        pre {\n",
       "            white-space: pre-wrap;\n",
       "        }\n",
       "    </style>\n",
       "    "
      ],
      "text/plain": [
       "<IPython.core.display.HTML object>"
      ]
     },
     "metadata": {},
     "output_type": "display_data"
    },
    {
     "data": {
      "text/html": [
       "<pre>Apple Media Services Terms and Conditions These terms and conditions create a contract between you and Apple (the “Agreement”). Please read the Agreement carefully. A. INTRODUCTION TO OUR SERVICES This Agreement governs your use of Apple’s Services (“Services” – e.g., and where available, App Store, Apple Arcade, Apple Books, Apple Fitness+, Apple Music, Apple News, Apple News+, Apple One, Apple Podcasts, Apple Podcasts Subscriptions, Apple TV, Apple TV+, Apple TV Channels, Game Center, iTunes), through which you can buy, get, license, rent or subscribe to content, Apps (as defined below), and other in-app services (collectively, “Content”). Content may be offered through the Services by Apple or a third party. Our Services are available for your use in your country or territory of residence (“Home Country”). By creating an account for use of the Services in a particular country or territory you are specifying it as your Home Country. To use our Services, you need compatible hardware, software (latest version recommended and sometimes required) and Internet access (fees may apply). Our Services’ performance may be affected by these factors. B. USING OUR SERVICES PAYMENTS, TAXES AND REFUNDS You can acquire Content on our Services for free or for a charge, either of which is referred to as a “Transaction”. By each Transaction, you acquire a license to use the Content only. Each Transaction is an electronic contract between you and Apple and/or you and the entity providing the Content on our Services. However, if you are a customer of Apple Distribution International Ltd., Apple Distribution International Ltd. is the merchant of record for some Content you acquire from Apple Books, Apple Podcasts, or App Store as displayed on the product page and/or during the acquisition process for the relevant Service. In such case, you acquire the Content from Apple Distribution International Ltd., which is licensed by the Content provider (e.g., App Provider (as defined below), book publisher, etc.). When you make your first Transaction, we will ask you to choose how frequently we should ask for your password for future Transactions. On applicable Apple hardware, if you enable Touch ID for Transactions, we will ask you to authenticate all Transactions with your fingerprint, and if you enable Face ID for Transactions, we will ask you to authenticate all Transactions using facial recognition. Manage your password settings at any time by following these instructions: https://support.apple.com/HT204030.</pre>"
      ],
      "text/plain": [
       "<IPython.core.display.HTML object>"
      ]
     },
     "execution_count": 22,
     "metadata": {},
     "output_type": "execute_result"
    }
   ],
   "source": [
    "\n",
    "from IPython.core.display import HTML\n",
    "\n",
    "HTML(\"<pre>\" + response.source_nodes[0].get_content() + \"</pre>\")"
   ]
  },
  {
   "cell_type": "code",
   "execution_count": 23,
   "metadata": {},
   "outputs": [
    {
     "data": {
      "text/html": [
       "\n",
       "    <style>\n",
       "        pre {\n",
       "            white-space: pre-wrap;\n",
       "        }\n",
       "    </style>\n",
       "    "
      ],
      "text/plain": [
       "<IPython.core.display.HTML object>"
      ]
     },
     "metadata": {},
     "output_type": "display_data"
    },
    {
     "data": {
      "text/html": [
       "<pre>electronic records, you may be required to have certain hardware and software, which are your sole responsibility. iTunes is not responsible for typographic errors. B. ITUNES STORE TERMS AND CONDITIONS THIS LEGAL AGREEMENT BETWEEN YOU AND ITUNES SARL. (\"ITUNES\") GOVERNS YOUR USE OF THE ITUNES STORE SERVICE (THE “SERVICE”). THE ITUNES STORE SERVICE iTunes is the provider of the Service, which permits you to access, purchase or rent a licence for digital content (\"iTunes Products\") for end user use only under the terms and conditions set forth in this Agreement. iTunes is not the provider of the iTunes application or of the iPad, iPod or iPhone. REQUIREMENTS FOR USE OF THE SERVICE Only persons aged 13 years or older can create accounts. Accounts for persons under 13 years old can be created by a parent or legal guardian using Family Sharing. Children under the age of 18 should review this Agreement with their parent or legal guardian to ensure that the child and parent or legal guardian understand it. The Service is available to you only in the United Kingdom. You agree not to use or attempt to use the Service from outside this location. iTunes may use technologies to verify your compliance. Use of the Service requires compatible devices, Internet access, and certain software (fees may apply); may require periodic updates; and may be affected by the performance of these factors. High-speed Internet access is strongly recommended for regular use and is required for Film Rentals. The latest version of the iTunes software is recommended to access the Service and may be required for certain transactions or features and to download iTunes Products previously purchased or acquired from the Service. You agree that meeting these requirements, which may change from time to time, is your responsibility. The Service is not part of any other product or offering, and no purchase or obtaining of any other product shall be construed to represent or guarantee you access to the Service. YOUR ACCOUNT As a registered user of the Service, you may establish an account (\"Account\"). Don’t reveal your Account information to anyone else. You are solely responsible for maintaining the confidentiality and security of your Account and for all activities that occur on or through your Account, and you agree to immediately notify iTunes of any security breach of your Account. iTunes shall not be responsible for any losses arising out of the unauthorised use of your Account. In order to purchase and download iTunes Products from the Service, you must enter your Apple ID and password or use Touch ID to authenticate your Account for transactions. Once you have authenticated your Account using your Apple ID and password, you will not need to authenticate again for fifteen minutes on your computer or iOS Device; you can choose to allow your computer or Apple TV to remember your password to remain authenticated. During this time, you will be able to purchase and download iTunes Products without re-entering your password. You can turn off the ability to make iTunes Product transactions or change settings to require a password for every transaction by adjusting the settings on your computer, iOS Device, or Apple TV. For more information, please see http://support.apple.com/kb/HT1904 and http://support.apple.com/kb/HT4213. You agree to provide accurate and complete information when you register with, and as you use, the Service (\"Registration Data\"), and you agree to update your Registration Data to keep it accurate and</pre>"
      ],
      "text/plain": [
       "<IPython.core.display.HTML object>"
      ]
     },
     "execution_count": 23,
     "metadata": {},
     "output_type": "execute_result"
    }
   ],
   "source": [
    "from IPython.core.display import HTML\n",
    "\n",
    "HTML(\"<pre>\" + response.source_nodes[1].get_content() + \"</pre>\")"
   ]
  },
  {
   "attachments": {},
   "cell_type": "markdown",
   "metadata": {},
   "source": [
    "**BINGO!! This second Node contains results retrieved, see line 5!!** "
   ]
  },
  {
   "attachments": {},
   "cell_type": "markdown",
   "metadata": {},
   "source": [
    "**LET ASK A MORE COMPLICATE QUESTION WHICH IS THE MAIN OBJECTIVE OF THIS ASSESSMENTS**"
   ]
  },
  {
   "cell_type": "code",
   "execution_count": 24,
   "metadata": {},
   "outputs": [
    {
     "data": {
      "text/html": [
       "\n",
       "    <style>\n",
       "        pre {\n",
       "            white-space: pre-wrap;\n",
       "        }\n",
       "    </style>\n",
       "    "
      ],
      "text/plain": [
       "<IPython.core.display.HTML object>"
      ]
     },
     "metadata": {},
     "output_type": "display_data"
    },
    {
     "name": "stdout",
     "output_type": "stream",
     "text": [
      "I'm sorry, but I cannot compare and contrast the terms and conditions in 2015 and 2023 based on the given context information. The provided text only includes the terms and conditions for Apple's Services, but it does not provide any information about the terms and conditions in 2015 or any changes that may have occurred between 2015 and 2023.\n"
     ]
    }
   ],
   "source": [
    "response = base_engine.query(\"Compare and contrast the terms and conditions in 2015 and 2023?\")\n",
    "print(str(response))"
   ]
  },
  {
   "cell_type": "code",
   "execution_count": 25,
   "metadata": {},
   "outputs": [
    {
     "data": {
      "text/html": [
       "\n",
       "    <style>\n",
       "        pre {\n",
       "            white-space: pre-wrap;\n",
       "        }\n",
       "    </style>\n",
       "    "
      ],
      "text/plain": [
       "<IPython.core.display.HTML object>"
      ]
     },
     "metadata": {},
     "output_type": "display_data"
    },
    {
     "data": {
      "text/html": [
       "<pre>I'm sorry, but I cannot compare and contrast the terms and conditions in 2015 and 2023 based on the given context information. The provided text only includes the terms and conditions for Apple's Services, but it does not provide any information about the terms and conditions in 2015 or any changes that may have occurred between 2015 and 2023.</pre>"
      ],
      "text/plain": [
       "<IPython.core.display.HTML object>"
      ]
     },
     "execution_count": 25,
     "metadata": {},
     "output_type": "execute_result"
    }
   ],
   "source": [
    "from IPython.core.display import HTML\n",
    "\n",
    "HTML(\"<pre>\" + str(response) + \"</pre>\")"
   ]
  },
  {
   "attachments": {},
   "cell_type": "markdown",
   "metadata": {},
   "source": [
    "THE BASE ENGINE QUERY FAILED TO DELIVER LET SEE IF THE \"SUBQUESTIONQUERY\" ENGINE CAN HELP"
   ]
  },
  {
   "attachments": {},
   "cell_type": "markdown",
   "metadata": {},
   "source": [
    "### 4.2 Setting a \"SubQuestionQueryEngine\" to improve performance \n",
    "**This query engine perform following tasks:**\n",
    "\n",
    "- Treat different documents as different \"tools\", we need to separate them during the loading and avoid storing as single collection of all documents.\n",
    "- Breaks down any complex question into sub-questions over any subset of different documents\n",
    "- Perform retrieval independently per document\n",
    "- Aggregate results at the end."
   ]
  },
  {
   "cell_type": "code",
   "execution_count": 26,
   "metadata": {},
   "outputs": [
    {
     "data": {
      "text/html": [
       "\n",
       "    <style>\n",
       "        pre {\n",
       "            white-space: pre-wrap;\n",
       "        }\n",
       "    </style>\n",
       "    "
      ],
      "text/plain": [
       "<IPython.core.display.HTML object>"
      ]
     },
     "metadata": {},
     "output_type": "display_data"
    }
   ],
   "source": [
    "jan2015_doc = SimpleDirectoryReader(input_files=[\"/Users/ilyasaden/myrepo/Simmons_Tech_Challenge/data/JAN2015.pdf\"]).load_data()\n",
    "mar2023_doc = SimpleDirectoryReader(input_files=[\"/Users/ilyasaden/myrepo/Simmons_Tech_Challenge/data/MAR2023.pdf\"]).load_data()"
   ]
  },
  {
   "cell_type": "code",
   "execution_count": 27,
   "metadata": {},
   "outputs": [
    {
     "data": {
      "text/html": [
       "\n",
       "    <style>\n",
       "        pre {\n",
       "            white-space: pre-wrap;\n",
       "        }\n",
       "    </style>\n",
       "    "
      ],
      "text/plain": [
       "<IPython.core.display.HTML object>"
      ]
     },
     "metadata": {},
     "output_type": "display_data"
    }
   ],
   "source": [
    "jan2015_index = VectorStoreIndex.from_documents(jan2015_doc)"
   ]
  },
  {
   "cell_type": "code",
   "execution_count": 28,
   "metadata": {},
   "outputs": [
    {
     "data": {
      "text/html": [
       "\n",
       "    <style>\n",
       "        pre {\n",
       "            white-space: pre-wrap;\n",
       "        }\n",
       "    </style>\n",
       "    "
      ],
      "text/plain": [
       "<IPython.core.display.HTML object>"
      ]
     },
     "metadata": {},
     "output_type": "display_data"
    }
   ],
   "source": [
    "mar2023_index = VectorStoreIndex.from_documents(mar2023_doc)"
   ]
  },
  {
   "cell_type": "code",
   "execution_count": 29,
   "metadata": {},
   "outputs": [
    {
     "data": {
      "text/html": [
       "\n",
       "    <style>\n",
       "        pre {\n",
       "            white-space: pre-wrap;\n",
       "        }\n",
       "    </style>\n",
       "    "
      ],
      "text/plain": [
       "<IPython.core.display.HTML object>"
      ]
     },
     "metadata": {},
     "output_type": "display_data"
    }
   ],
   "source": [
    "jan2015_engine = jan2015_index.as_query_engine(similarity_top_k=2)"
   ]
  },
  {
   "cell_type": "code",
   "execution_count": 30,
   "metadata": {},
   "outputs": [
    {
     "data": {
      "text/html": [
       "\n",
       "    <style>\n",
       "        pre {\n",
       "            white-space: pre-wrap;\n",
       "        }\n",
       "    </style>\n",
       "    "
      ],
      "text/plain": [
       "<IPython.core.display.HTML object>"
      ]
     },
     "metadata": {},
     "output_type": "display_data"
    }
   ],
   "source": [
    "mar2023_engine = mar2023_index.as_query_engine(similarity_top_k=2)"
   ]
  },
  {
   "cell_type": "code",
   "execution_count": 31,
   "metadata": {},
   "outputs": [
    {
     "data": {
      "text/html": [
       "\n",
       "    <style>\n",
       "        pre {\n",
       "            white-space: pre-wrap;\n",
       "        }\n",
       "    </style>\n",
       "    "
      ],
      "text/plain": [
       "<IPython.core.display.HTML object>"
      ]
     },
     "metadata": {},
     "output_type": "display_data"
    }
   ],
   "source": [
    "# We create sub query as below:\n",
    "query_engine_tools = [\n",
    "    QueryEngineTool(\n",
    "        query_engine=jan2015_engine,\n",
    "        metadata=ToolMetadata(\n",
    "            name=\"jan2015\",\n",
    "            description=\"Provides information about Apple Music's Terms and Conditions for year 2015\",\n",
    "        ),\n",
    "    ),\n",
    "    QueryEngineTool(\n",
    "        query_engine=mar2023_engine,\n",
    "        metadata=ToolMetadata(\n",
    "            name=\"mar2023\",\n",
    "            description=\"Provides information about Apple Music's Terms and Conditions for year 2023\",\n",
    "        ),\n",
    "    ),\n",
    "]\n",
    "\n",
    "s_engine = SubQuestionQueryEngine.from_defaults(query_engine_tools=query_engine_tools)"
   ]
  },
  {
   "attachments": {},
   "cell_type": "markdown",
   "metadata": {},
   "source": [
    "### 5. Results analysis\n",
    "\n",
    "We will compare our SubQuestionQueryEngine against the base query engine by asking the same question order."
   ]
  },
  {
   "cell_type": "code",
   "execution_count": 33,
   "metadata": {},
   "outputs": [
    {
     "data": {
      "text/html": [
       "\n",
       "    <style>\n",
       "        pre {\n",
       "            white-space: pre-wrap;\n",
       "        }\n",
       "    </style>\n",
       "    "
      ],
      "text/plain": [
       "<IPython.core.display.HTML object>"
      ]
     },
     "metadata": {},
     "output_type": "display_data"
    }
   ],
   "source": [
    "import nest_asyncio\n",
    "\n",
    "nest_asyncio.apply()"
   ]
  },
  {
   "cell_type": "code",
   "execution_count": 34,
   "metadata": {},
   "outputs": [
    {
     "data": {
      "text/html": [
       "\n",
       "    <style>\n",
       "        pre {\n",
       "            white-space: pre-wrap;\n",
       "        }\n",
       "    </style>\n",
       "    "
      ],
      "text/plain": [
       "<IPython.core.display.HTML object>"
      ]
     },
     "metadata": {},
     "output_type": "display_data"
    },
    {
     "name": "stdout",
     "output_type": "stream",
     "text": [
      "Generated 2 sub questions.\n",
      "\u001b[1;3;38;2;237;90;200m[jan2015] Q: What are the Terms and Conditions for Apple Music in 2015?\n",
      "\u001b[0m\u001b[1;3;38;2;90;149;237m[mar2023] Q: What are the Terms and Conditions for Apple Music in 2023?\n",
      "\u001b[0m\u001b[1;3;38;2;237;90;200m[jan2015] A: The Terms and Conditions for Apple Music in 2015 are not provided in the given context information.\n",
      "\u001b[0m\u001b[1;3;38;2;90;149;237m[mar2023] A: The Terms and Conditions for Apple Music in 2023 include information about iCloud Music Library, which is a feature that allows users to access their matched or uploaded songs, playlists, and music videos. It mentions that iCloud Music Library collects information about the user's content and is associated with their Apple ID. It also states that iCloud Music Library is provided on an \"AS IS\" basis and could contain errors or inaccuracies. Additionally, it mentions that when an Apple Music membership ends, the user will lose access to their iCloud Music Library.\n",
      "\u001b[0m"
     ]
    },
    {
     "data": {
      "text/html": [
       "<pre>The Terms and Conditions for Apple Music in 2015 and 2023 differ in several aspects. In 2015, the specific Terms and Conditions for Apple Music are not provided in the given context information. However, in 2023, the Terms and Conditions mention the inclusion of iCloud Music Library, which allows users to access their matched or uploaded songs, playlists, and music videos. The 2023 Terms and Conditions also state that iCloud Music Library collects information about the user's content and is associated with their Apple ID. Additionally, it mentions that iCloud Music Library is provided on an \"AS IS\" basis and could contain errors or inaccuracies. Furthermore, the 2023 Terms and Conditions highlight that when an Apple Music membership ends, the user will lose access to their iCloud Music Library. These differences indicate that there have been updates and changes to the Terms and Conditions for Apple Music between 2015 and 2023.</pre>"
      ],
      "text/plain": [
       "<IPython.core.display.HTML object>"
      ]
     },
     "execution_count": 34,
     "metadata": {},
     "output_type": "execute_result"
    }
   ],
   "source": [
    "from IPython.core.display import HTML\n",
    "response = s_engine.query(\"Compare and contrast Terms and Conditions in 2015 and 2023?\")\n",
    "#print(str(response))\n",
    "\n",
    "\n",
    "HTML(\"<pre>\" + (str(response)) + \"</pre>\")"
   ]
  },
  {
   "attachments": {},
   "cell_type": "markdown",
   "metadata": {},
   "source": [
    "** While the base query engine couldn't generate a detailed proper response, here we can see that the response is much more detailed Sub-questions query engine**"
   ]
  },
  {
   "attachments": {},
   "cell_type": "markdown",
   "metadata": {},
   "source": [
    "** And below one more comparison showing how base engine failed to return results**"
   ]
  },
  {
   "cell_type": "code",
   "execution_count": 36,
   "metadata": {},
   "outputs": [
    {
     "data": {
      "text/html": [
       "\n",
       "    <style>\n",
       "        pre {\n",
       "            white-space: pre-wrap;\n",
       "        }\n",
       "    </style>\n",
       "    "
      ],
      "text/plain": [
       "<IPython.core.display.HTML object>"
      ]
     },
     "metadata": {},
     "output_type": "display_data"
    },
    {
     "name": "stdout",
     "output_type": "stream",
     "text": [
      "Generated 2 sub questions.\n",
      "\u001b[1;3;38;2;237;90;200m[jan2015] Q: What are the main differences between the terms and conditions of jan2015 and mar2023?\n",
      "\u001b[0m\u001b[1;3;38;2;90;149;237m[mar2023] Q: What are the main differences between the terms and conditions of jan2015 and mar2023?\n",
      "\u001b[0m\u001b[1;3;38;2;237;90;200m[jan2015] A: The main differences between the terms and conditions of JAN2015 and MAR2023 cannot be determined based on the given context information.\n",
      "\u001b[0m\u001b[1;3;38;2;90;149;237m[mar2023] A: There is no information provided in the context about the terms and conditions of Jan2015 or any specific differences between the terms and conditions of Jan2015 and Mar2023.\n",
      "\u001b[0m"
     ]
    }
   ],
   "source": [
    "query_str = \"what are the main risks for customers between these two terms and conditions?\"\n",
    "\n",
    "base_response = base_engine.query(query_str)\n",
    "response = s_engine.query(query_str)"
   ]
  },
  {
   "cell_type": "code",
   "execution_count": 37,
   "metadata": {},
   "outputs": [
    {
     "data": {
      "text/html": [
       "\n",
       "    <style>\n",
       "        pre {\n",
       "            white-space: pre-wrap;\n",
       "        }\n",
       "    </style>\n",
       "    "
      ],
      "text/plain": [
       "<IPython.core.display.HTML object>"
      ]
     },
     "metadata": {},
     "output_type": "display_data"
    },
    {
     "name": "stdout",
     "output_type": "stream",
     "text": [
      "Base query engine: The main risks for customers between the terms and conditions of Jan2015 and Mar2023 cannot be determined based on the given context information.\n",
      "\n",
      "\n",
      "Sub-question query engine: The main risks for customers between these two terms and conditions are the potential loss of income, business, or profits, as well as the loss or corruption of data. Additionally, customers may be liable for any claims arising from a breach of the agreement. It is important for customers to be aware that iTunes does not provide any warranties or guarantees regarding the uninterrupted or error-free use of their services, and they may remove or suspend the service at any time for technical or operational reasons.\n",
      "\n",
      "\n"
     ]
    }
   ],
   "source": [
    "print(f\"Base query engine: {str(response)}\\n\\n\")\n",
    "print(f\"Sub-question query engine: {str(base_response)}\\n\\n\")"
   ]
  },
  {
   "attachments": {},
   "cell_type": "markdown",
   "metadata": {},
   "source": [
    "**After we reformulate the questions in a more suitable way, we see the base engine returns some results but SUb question query engine is more rich:**"
   ]
  },
  {
   "cell_type": "code",
   "execution_count": 38,
   "metadata": {},
   "outputs": [
    {
     "data": {
      "text/html": [
       "\n",
       "    <style>\n",
       "        pre {\n",
       "            white-space: pre-wrap;\n",
       "        }\n",
       "    </style>\n",
       "    "
      ],
      "text/plain": [
       "<IPython.core.display.HTML object>"
      ]
     },
     "metadata": {},
     "output_type": "display_data"
    },
    {
     "name": "stdout",
     "output_type": "stream",
     "text": [
      "Generated 2 sub questions.\n",
      "\u001b[1;3;38;2;237;90;200m[jan2015] Q: What are the Terms and Conditions for Apple Music in 2015?\n",
      "\u001b[0m\u001b[1;3;38;2;90;149;237m[mar2023] Q: What are the Terms and Conditions for Apple Music in 2023?\n",
      "\u001b[0m\u001b[1;3;38;2;237;90;200m[jan2015] A: The Terms and Conditions for Apple Music in 2015 are not provided in the given context information.\n",
      "\u001b[0m\u001b[1;3;38;2;90;149;237m[mar2023] A: The Terms and Conditions for Apple Music in 2023 include information about iCloud Music Library, which is a feature that allows users to access their matched or uploaded songs, playlists, and music videos. It collects information about the user's iCloud Music Library Content and is associated with their Apple ID. The Terms and Conditions also state that iCloud Music Library is provided on an \"AS IS\" basis and could contain errors or inaccuracies. Additionally, it is mentioned that users should back up their data and information before using iCloud Music Library.\n",
      "\u001b[0m"
     ]
    }
   ],
   "source": [
    "query_str = \"Compare and contrast Terms and Conditions for year 2015 and year 2023\"\n",
    "\n",
    "base_response = base_engine.query(query_str)\n",
    "response = s_engine.query(query_str)"
   ]
  },
  {
   "cell_type": "code",
   "execution_count": 39,
   "metadata": {},
   "outputs": [
    {
     "data": {
      "text/html": [
       "\n",
       "    <style>\n",
       "        pre {\n",
       "            white-space: pre-wrap;\n",
       "        }\n",
       "    </style>\n",
       "    "
      ],
      "text/plain": [
       "<IPython.core.display.HTML object>"
      ]
     },
     "metadata": {},
     "output_type": "display_data"
    },
    {
     "name": "stdout",
     "output_type": "stream",
     "text": [
      "Base query engine: The Terms and Conditions for Apple Music in 2015 and 2023 differ in several aspects. In 2015, the specific Terms and Conditions for Apple Music are not provided in the given context information. However, in 2023, the Terms and Conditions mention the inclusion of iCloud Music Library as a feature. This feature allows users to access their matched or uploaded songs, playlists, and music videos. The Terms and Conditions also highlight that iCloud Music Library is provided on an \"AS IS\" basis and may contain errors or inaccuracies. Additionally, users are advised to back up their data and information before using iCloud Music Library. These differences indicate that there have been updates and changes to the Terms and Conditions of Apple Music between 2015 and 2023.\n",
      "\n",
      "\n",
      "Sub-question query engine: The Terms and Conditions for the year 2015 and the year 2023 have some similarities and differences. In both years, the Terms and Conditions govern the use of Apple's Services and the acquisition of content through the Services. Both versions mention the need for compatible hardware, software, and internet access to use the Services. They also both address the issue of payments, taxes, and refunds for transactions made on the Services.\n",
      "\n",
      "However, there are also some differences between the two versions. The 2015 Terms and Conditions specifically mention the iTunes Store service and its provider, iTunes SARL. It sets requirements for the use of the service, such as the minimum age of 13 years for creating accounts and the availability of the service only in the United Kingdom. It also includes provisions regarding the use of gift certificates, iTunes cards and codes, allowances, and content codes.\n",
      "\n",
      "On the other hand, the 2023 Terms and Conditions provide a broader overview of Apple's Services, including the App Store, Apple Arcade, Apple Books, Apple Fitness+, Apple Music, Apple News, Apple News+, Apple One, Apple Podcasts, Apple Podcasts Subscriptions, Apple TV, Apple TV+, Apple TV Channels, Game Center, and iTunes. It introduces the concept of a Home Country and the requirement to specify it when creating an account. The 2023 version also includes provisions related to carrier account information and miscellaneous terms applicable to all services.\n",
      "\n",
      "Overall, while both versions cover similar topics, the 2023 Terms and Conditions provide a more comprehensive and updated overview of Apple's Services and their usage.\n",
      "\n",
      "\n"
     ]
    }
   ],
   "source": [
    "print(f\"Base query engine: {str(response)}\\n\\n\")\n",
    "print(f\"Sub-question query engine: {str(base_response)}\\n\\n\")"
   ]
  }
 ],
 "metadata": {
  "kernelspec": {
   "display_name": "Python 3",
   "language": "python",
   "name": "python3"
  },
  "language_info": {
   "codemirror_mode": {
    "name": "ipython",
    "version": 3
   },
   "file_extension": ".py",
   "mimetype": "text/x-python",
   "name": "python",
   "nbconvert_exporter": "python",
   "pygments_lexer": "ipython3",
   "version": "3.11.5"
  }
 },
 "nbformat": 4,
 "nbformat_minor": 2
}
